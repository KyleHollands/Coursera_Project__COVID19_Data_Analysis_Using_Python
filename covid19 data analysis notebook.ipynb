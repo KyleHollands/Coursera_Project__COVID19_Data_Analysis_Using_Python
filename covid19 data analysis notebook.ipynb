{
 "cells": [
  {
   "cell_type": "markdown",
   "metadata": {},
   "source": [
    "# Welcome to the Covid-19 Data Analysis Notebook\n",
    "------------------------------------------"
   ]
  },
  {
   "cell_type": "markdown",
   "metadata": {},
   "source": [
    "### Let's import the modules"
   ]
  },
  {
   "cell_type": "code",
   "execution_count": 476,
   "metadata": {},
   "outputs": [
    {
     "name": "stdout",
     "output_type": "stream",
     "text": [
      "Modules are imported.\n"
     ]
    }
   ],
   "source": [
    "# Importing necessary libraries for data analysis and visualization\n",
    "import pandas as pd         # For data manipulation and analysis\n",
    "import numpy as np          # For numerical operations\n",
    "import seaborn as sns       # For statistical data visualization\n",
    "import matplotlib.pyplot as plt  # For plotting graphs and figures\n",
    "\n",
    "print('Modules are imported.')"
   ]
  },
  {
   "cell_type": "markdown",
   "metadata": {},
   "source": [
    "## Task 2"
   ]
  },
  {
   "cell_type": "markdown",
   "metadata": {},
   "source": [
    "### Task 2.1: Importing the Covid-19 dataset\n",
    "Importing \"Covid19_Confirmed_dataset.csv\" from the \"./Dataset\" folder."
   ]
  },
  {
   "cell_type": "code",
   "execution_count": 477,
   "metadata": {},
   "outputs": [
    {
     "data": {
      "application/vnd.microsoft.datawrangler.viewer.v0+json": {
       "columns": [
        {
         "name": "index",
         "rawType": "int64",
         "type": "integer"
        },
        {
         "name": "Province/State",
         "rawType": "object",
         "type": "unknown"
        },
        {
         "name": "Country/Region",
         "rawType": "object",
         "type": "string"
        },
        {
         "name": "Lat",
         "rawType": "float64",
         "type": "float"
        },
        {
         "name": "Long",
         "rawType": "float64",
         "type": "float"
        },
        {
         "name": "1/22/20",
         "rawType": "int64",
         "type": "integer"
        },
        {
         "name": "1/23/20",
         "rawType": "int64",
         "type": "integer"
        },
        {
         "name": "1/24/20",
         "rawType": "int64",
         "type": "integer"
        },
        {
         "name": "1/25/20",
         "rawType": "int64",
         "type": "integer"
        },
        {
         "name": "1/26/20",
         "rawType": "int64",
         "type": "integer"
        },
        {
         "name": "1/27/20",
         "rawType": "int64",
         "type": "integer"
        },
        {
         "name": "1/28/20",
         "rawType": "int64",
         "type": "integer"
        },
        {
         "name": "1/29/20",
         "rawType": "int64",
         "type": "integer"
        },
        {
         "name": "1/30/20",
         "rawType": "int64",
         "type": "integer"
        },
        {
         "name": "1/31/20",
         "rawType": "int64",
         "type": "integer"
        },
        {
         "name": "2/1/20",
         "rawType": "int64",
         "type": "integer"
        },
        {
         "name": "2/2/20",
         "rawType": "int64",
         "type": "integer"
        },
        {
         "name": "2/3/20",
         "rawType": "int64",
         "type": "integer"
        },
        {
         "name": "2/4/20",
         "rawType": "int64",
         "type": "integer"
        },
        {
         "name": "2/5/20",
         "rawType": "int64",
         "type": "integer"
        },
        {
         "name": "2/6/20",
         "rawType": "int64",
         "type": "integer"
        },
        {
         "name": "2/7/20",
         "rawType": "int64",
         "type": "integer"
        },
        {
         "name": "2/8/20",
         "rawType": "int64",
         "type": "integer"
        },
        {
         "name": "2/9/20",
         "rawType": "int64",
         "type": "integer"
        },
        {
         "name": "2/10/20",
         "rawType": "int64",
         "type": "integer"
        },
        {
         "name": "2/11/20",
         "rawType": "int64",
         "type": "integer"
        },
        {
         "name": "2/12/20",
         "rawType": "int64",
         "type": "integer"
        },
        {
         "name": "2/13/20",
         "rawType": "int64",
         "type": "integer"
        },
        {
         "name": "2/14/20",
         "rawType": "int64",
         "type": "integer"
        },
        {
         "name": "2/15/20",
         "rawType": "int64",
         "type": "integer"
        },
        {
         "name": "2/16/20",
         "rawType": "int64",
         "type": "integer"
        },
        {
         "name": "2/17/20",
         "rawType": "int64",
         "type": "integer"
        },
        {
         "name": "2/18/20",
         "rawType": "int64",
         "type": "integer"
        },
        {
         "name": "2/19/20",
         "rawType": "int64",
         "type": "integer"
        },
        {
         "name": "2/20/20",
         "rawType": "int64",
         "type": "integer"
        },
        {
         "name": "2/21/20",
         "rawType": "int64",
         "type": "integer"
        },
        {
         "name": "2/22/20",
         "rawType": "int64",
         "type": "integer"
        },
        {
         "name": "2/23/20",
         "rawType": "int64",
         "type": "integer"
        },
        {
         "name": "2/24/20",
         "rawType": "int64",
         "type": "integer"
        },
        {
         "name": "2/25/20",
         "rawType": "int64",
         "type": "integer"
        },
        {
         "name": "2/26/20",
         "rawType": "int64",
         "type": "integer"
        },
        {
         "name": "2/27/20",
         "rawType": "int64",
         "type": "integer"
        },
        {
         "name": "2/28/20",
         "rawType": "int64",
         "type": "integer"
        },
        {
         "name": "2/29/20",
         "rawType": "int64",
         "type": "integer"
        },
        {
         "name": "3/1/20",
         "rawType": "int64",
         "type": "integer"
        },
        {
         "name": "3/2/20",
         "rawType": "int64",
         "type": "integer"
        },
        {
         "name": "3/3/20",
         "rawType": "int64",
         "type": "integer"
        },
        {
         "name": "3/4/20",
         "rawType": "int64",
         "type": "integer"
        },
        {
         "name": "3/5/20",
         "rawType": "int64",
         "type": "integer"
        },
        {
         "name": "3/6/20",
         "rawType": "int64",
         "type": "integer"
        },
        {
         "name": "3/7/20",
         "rawType": "int64",
         "type": "integer"
        },
        {
         "name": "3/8/20",
         "rawType": "int64",
         "type": "integer"
        },
        {
         "name": "3/9/20",
         "rawType": "int64",
         "type": "integer"
        },
        {
         "name": "3/10/20",
         "rawType": "int64",
         "type": "integer"
        },
        {
         "name": "3/11/20",
         "rawType": "int64",
         "type": "integer"
        },
        {
         "name": "3/12/20",
         "rawType": "int64",
         "type": "integer"
        },
        {
         "name": "3/13/20",
         "rawType": "int64",
         "type": "integer"
        },
        {
         "name": "3/14/20",
         "rawType": "int64",
         "type": "integer"
        },
        {
         "name": "3/15/20",
         "rawType": "int64",
         "type": "integer"
        },
        {
         "name": "3/16/20",
         "rawType": "int64",
         "type": "integer"
        },
        {
         "name": "3/17/20",
         "rawType": "int64",
         "type": "integer"
        },
        {
         "name": "3/18/20",
         "rawType": "int64",
         "type": "integer"
        },
        {
         "name": "3/19/20",
         "rawType": "int64",
         "type": "integer"
        },
        {
         "name": "3/20/20",
         "rawType": "int64",
         "type": "integer"
        },
        {
         "name": "3/21/20",
         "rawType": "int64",
         "type": "integer"
        },
        {
         "name": "3/22/20",
         "rawType": "int64",
         "type": "integer"
        },
        {
         "name": "3/23/20",
         "rawType": "int64",
         "type": "integer"
        },
        {
         "name": "3/24/20",
         "rawType": "int64",
         "type": "integer"
        },
        {
         "name": "3/25/20",
         "rawType": "int64",
         "type": "integer"
        },
        {
         "name": "3/26/20",
         "rawType": "int64",
         "type": "integer"
        },
        {
         "name": "3/27/20",
         "rawType": "int64",
         "type": "integer"
        },
        {
         "name": "3/28/20",
         "rawType": "int64",
         "type": "integer"
        },
        {
         "name": "3/29/20",
         "rawType": "int64",
         "type": "integer"
        },
        {
         "name": "3/30/20",
         "rawType": "int64",
         "type": "integer"
        },
        {
         "name": "3/31/20",
         "rawType": "int64",
         "type": "integer"
        },
        {
         "name": "4/1/20",
         "rawType": "int64",
         "type": "integer"
        },
        {
         "name": "4/2/20",
         "rawType": "int64",
         "type": "integer"
        },
        {
         "name": "4/3/20",
         "rawType": "int64",
         "type": "integer"
        },
        {
         "name": "4/4/20",
         "rawType": "int64",
         "type": "integer"
        },
        {
         "name": "4/5/20",
         "rawType": "int64",
         "type": "integer"
        },
        {
         "name": "4/6/20",
         "rawType": "int64",
         "type": "integer"
        },
        {
         "name": "4/7/20",
         "rawType": "int64",
         "type": "integer"
        },
        {
         "name": "4/8/20",
         "rawType": "int64",
         "type": "integer"
        },
        {
         "name": "4/9/20",
         "rawType": "int64",
         "type": "integer"
        },
        {
         "name": "4/10/20",
         "rawType": "int64",
         "type": "integer"
        },
        {
         "name": "4/11/20",
         "rawType": "int64",
         "type": "integer"
        },
        {
         "name": "4/12/20",
         "rawType": "int64",
         "type": "integer"
        },
        {
         "name": "4/13/20",
         "rawType": "int64",
         "type": "integer"
        },
        {
         "name": "4/14/20",
         "rawType": "int64",
         "type": "integer"
        },
        {
         "name": "4/15/20",
         "rawType": "int64",
         "type": "integer"
        },
        {
         "name": "4/16/20",
         "rawType": "int64",
         "type": "integer"
        },
        {
         "name": "4/17/20",
         "rawType": "int64",
         "type": "integer"
        },
        {
         "name": "4/18/20",
         "rawType": "int64",
         "type": "integer"
        },
        {
         "name": "4/19/20",
         "rawType": "int64",
         "type": "integer"
        },
        {
         "name": "4/20/20",
         "rawType": "int64",
         "type": "integer"
        },
        {
         "name": "4/21/20",
         "rawType": "int64",
         "type": "integer"
        },
        {
         "name": "4/22/20",
         "rawType": "int64",
         "type": "integer"
        },
        {
         "name": "4/23/20",
         "rawType": "int64",
         "type": "integer"
        },
        {
         "name": "4/24/20",
         "rawType": "int64",
         "type": "integer"
        },
        {
         "name": "4/25/20",
         "rawType": "int64",
         "type": "integer"
        },
        {
         "name": "4/26/20",
         "rawType": "int64",
         "type": "integer"
        },
        {
         "name": "4/27/20",
         "rawType": "int64",
         "type": "integer"
        },
        {
         "name": "4/28/20",
         "rawType": "int64",
         "type": "integer"
        },
        {
         "name": "4/29/20",
         "rawType": "int64",
         "type": "integer"
        },
        {
         "name": "4/30/20",
         "rawType": "int64",
         "type": "integer"
        }
       ],
       "ref": "6b22c276-2aff-43bb-a0da-55b0f63f058a",
       "rows": [
        [
         "0",
         null,
         "Afghanistan",
         "33.0",
         "65.0",
         "0",
         "0",
         "0",
         "0",
         "0",
         "0",
         "0",
         "0",
         "0",
         "0",
         "0",
         "0",
         "0",
         "0",
         "0",
         "0",
         "0",
         "0",
         "0",
         "0",
         "0",
         "0",
         "0",
         "0",
         "0",
         "0",
         "0",
         "0",
         "0",
         "0",
         "0",
         "0",
         "0",
         "1",
         "1",
         "1",
         "1",
         "1",
         "1",
         "1",
         "1",
         "1",
         "1",
         "1",
         "1",
         "1",
         "4",
         "4",
         "5",
         "7",
         "7",
         "7",
         "11",
         "16",
         "21",
         "22",
         "22",
         "22",
         "24",
         "24",
         "40",
         "40",
         "74",
         "84",
         "94",
         "110",
         "110",
         "120",
         "170",
         "174",
         "237",
         "273",
         "281",
         "299",
         "349",
         "367",
         "423",
         "444",
         "484",
         "521",
         "555",
         "607",
         "665",
         "714",
         "784",
         "840",
         "906",
         "933",
         "996",
         "1026",
         "1092",
         "1176",
         "1279",
         "1351",
         "1463",
         "1531",
         "1703",
         "1828",
         "1939",
         "2171"
        ],
        [
         "1",
         null,
         "Albania",
         "41.1533",
         "20.1683",
         "0",
         "0",
         "0",
         "0",
         "0",
         "0",
         "0",
         "0",
         "0",
         "0",
         "0",
         "0",
         "0",
         "0",
         "0",
         "0",
         "0",
         "0",
         "0",
         "0",
         "0",
         "0",
         "0",
         "0",
         "0",
         "0",
         "0",
         "0",
         "0",
         "0",
         "0",
         "0",
         "0",
         "0",
         "0",
         "0",
         "0",
         "0",
         "0",
         "0",
         "0",
         "0",
         "0",
         "0",
         "0",
         "0",
         "0",
         "2",
         "10",
         "12",
         "23",
         "33",
         "38",
         "42",
         "51",
         "55",
         "59",
         "64",
         "70",
         "76",
         "89",
         "104",
         "123",
         "146",
         "174",
         "186",
         "197",
         "212",
         "223",
         "243",
         "259",
         "277",
         "304",
         "333",
         "361",
         "377",
         "383",
         "400",
         "409",
         "416",
         "433",
         "446",
         "467",
         "475",
         "494",
         "518",
         "539",
         "548",
         "562",
         "584",
         "609",
         "634",
         "663",
         "678",
         "712",
         "726",
         "736",
         "750",
         "766",
         "773"
        ],
        [
         "2",
         null,
         "Algeria",
         "28.0339",
         "1.6596",
         "0",
         "0",
         "0",
         "0",
         "0",
         "0",
         "0",
         "0",
         "0",
         "0",
         "0",
         "0",
         "0",
         "0",
         "0",
         "0",
         "0",
         "0",
         "0",
         "0",
         "0",
         "0",
         "0",
         "0",
         "0",
         "0",
         "0",
         "0",
         "0",
         "0",
         "0",
         "0",
         "0",
         "0",
         "1",
         "1",
         "1",
         "1",
         "1",
         "1",
         "3",
         "5",
         "12",
         "12",
         "17",
         "17",
         "19",
         "20",
         "20",
         "20",
         "24",
         "26",
         "37",
         "48",
         "54",
         "60",
         "74",
         "87",
         "90",
         "139",
         "201",
         "230",
         "264",
         "302",
         "367",
         "409",
         "454",
         "511",
         "584",
         "716",
         "847",
         "986",
         "1171",
         "1251",
         "1320",
         "1423",
         "1468",
         "1572",
         "1666",
         "1761",
         "1825",
         "1914",
         "1983",
         "2070",
         "2160",
         "2268",
         "2418",
         "2534",
         "2629",
         "2718",
         "2811",
         "2910",
         "3007",
         "3127",
         "3256",
         "3382",
         "3517",
         "3649",
         "3848",
         "4006"
        ],
        [
         "3",
         null,
         "Andorra",
         "42.5063",
         "1.5218",
         "0",
         "0",
         "0",
         "0",
         "0",
         "0",
         "0",
         "0",
         "0",
         "0",
         "0",
         "0",
         "0",
         "0",
         "0",
         "0",
         "0",
         "0",
         "0",
         "0",
         "0",
         "0",
         "0",
         "0",
         "0",
         "0",
         "0",
         "0",
         "0",
         "0",
         "0",
         "0",
         "0",
         "0",
         "0",
         "0",
         "0",
         "0",
         "0",
         "0",
         "1",
         "1",
         "1",
         "1",
         "1",
         "1",
         "1",
         "1",
         "1",
         "1",
         "1",
         "1",
         "1",
         "1",
         "2",
         "39",
         "39",
         "53",
         "75",
         "88",
         "113",
         "133",
         "164",
         "188",
         "224",
         "267",
         "308",
         "334",
         "370",
         "376",
         "390",
         "428",
         "439",
         "466",
         "501",
         "525",
         "545",
         "564",
         "583",
         "601",
         "601",
         "638",
         "646",
         "659",
         "673",
         "673",
         "696",
         "704",
         "713",
         "717",
         "717",
         "723",
         "723",
         "731",
         "738",
         "738",
         "743",
         "743",
         "743",
         "745"
        ],
        [
         "4",
         null,
         "Angola",
         "-11.2027",
         "17.8739",
         "0",
         "0",
         "0",
         "0",
         "0",
         "0",
         "0",
         "0",
         "0",
         "0",
         "0",
         "0",
         "0",
         "0",
         "0",
         "0",
         "0",
         "0",
         "0",
         "0",
         "0",
         "0",
         "0",
         "0",
         "0",
         "0",
         "0",
         "0",
         "0",
         "0",
         "0",
         "0",
         "0",
         "0",
         "0",
         "0",
         "0",
         "0",
         "0",
         "0",
         "0",
         "0",
         "0",
         "0",
         "0",
         "0",
         "0",
         "0",
         "0",
         "0",
         "0",
         "0",
         "0",
         "0",
         "0",
         "0",
         "0",
         "0",
         "1",
         "2",
         "2",
         "3",
         "3",
         "3",
         "4",
         "4",
         "5",
         "7",
         "7",
         "7",
         "8",
         "8",
         "8",
         "10",
         "14",
         "16",
         "17",
         "19",
         "19",
         "19",
         "19",
         "19",
         "19",
         "19",
         "19",
         "19",
         "19",
         "24",
         "24",
         "24",
         "24",
         "25",
         "25",
         "25",
         "25",
         "26",
         "27",
         "27",
         "27",
         "27"
        ]
       ],
       "shape": {
        "columns": 104,
        "rows": 5
       }
      },
      "text/html": [
       "<div>\n",
       "<style scoped>\n",
       "    .dataframe tbody tr th:only-of-type {\n",
       "        vertical-align: middle;\n",
       "    }\n",
       "\n",
       "    .dataframe tbody tr th {\n",
       "        vertical-align: top;\n",
       "    }\n",
       "\n",
       "    .dataframe thead th {\n",
       "        text-align: right;\n",
       "    }\n",
       "</style>\n",
       "<table border=\"1\" class=\"dataframe\">\n",
       "  <thead>\n",
       "    <tr style=\"text-align: right;\">\n",
       "      <th></th>\n",
       "      <th>Province/State</th>\n",
       "      <th>Country/Region</th>\n",
       "      <th>Lat</th>\n",
       "      <th>Long</th>\n",
       "      <th>1/22/20</th>\n",
       "      <th>1/23/20</th>\n",
       "      <th>1/24/20</th>\n",
       "      <th>1/25/20</th>\n",
       "      <th>1/26/20</th>\n",
       "      <th>1/27/20</th>\n",
       "      <th>...</th>\n",
       "      <th>4/21/20</th>\n",
       "      <th>4/22/20</th>\n",
       "      <th>4/23/20</th>\n",
       "      <th>4/24/20</th>\n",
       "      <th>4/25/20</th>\n",
       "      <th>4/26/20</th>\n",
       "      <th>4/27/20</th>\n",
       "      <th>4/28/20</th>\n",
       "      <th>4/29/20</th>\n",
       "      <th>4/30/20</th>\n",
       "    </tr>\n",
       "  </thead>\n",
       "  <tbody>\n",
       "    <tr>\n",
       "      <th>0</th>\n",
       "      <td>NaN</td>\n",
       "      <td>Afghanistan</td>\n",
       "      <td>33.0000</td>\n",
       "      <td>65.0000</td>\n",
       "      <td>0</td>\n",
       "      <td>0</td>\n",
       "      <td>0</td>\n",
       "      <td>0</td>\n",
       "      <td>0</td>\n",
       "      <td>0</td>\n",
       "      <td>...</td>\n",
       "      <td>1092</td>\n",
       "      <td>1176</td>\n",
       "      <td>1279</td>\n",
       "      <td>1351</td>\n",
       "      <td>1463</td>\n",
       "      <td>1531</td>\n",
       "      <td>1703</td>\n",
       "      <td>1828</td>\n",
       "      <td>1939</td>\n",
       "      <td>2171</td>\n",
       "    </tr>\n",
       "    <tr>\n",
       "      <th>1</th>\n",
       "      <td>NaN</td>\n",
       "      <td>Albania</td>\n",
       "      <td>41.1533</td>\n",
       "      <td>20.1683</td>\n",
       "      <td>0</td>\n",
       "      <td>0</td>\n",
       "      <td>0</td>\n",
       "      <td>0</td>\n",
       "      <td>0</td>\n",
       "      <td>0</td>\n",
       "      <td>...</td>\n",
       "      <td>609</td>\n",
       "      <td>634</td>\n",
       "      <td>663</td>\n",
       "      <td>678</td>\n",
       "      <td>712</td>\n",
       "      <td>726</td>\n",
       "      <td>736</td>\n",
       "      <td>750</td>\n",
       "      <td>766</td>\n",
       "      <td>773</td>\n",
       "    </tr>\n",
       "    <tr>\n",
       "      <th>2</th>\n",
       "      <td>NaN</td>\n",
       "      <td>Algeria</td>\n",
       "      <td>28.0339</td>\n",
       "      <td>1.6596</td>\n",
       "      <td>0</td>\n",
       "      <td>0</td>\n",
       "      <td>0</td>\n",
       "      <td>0</td>\n",
       "      <td>0</td>\n",
       "      <td>0</td>\n",
       "      <td>...</td>\n",
       "      <td>2811</td>\n",
       "      <td>2910</td>\n",
       "      <td>3007</td>\n",
       "      <td>3127</td>\n",
       "      <td>3256</td>\n",
       "      <td>3382</td>\n",
       "      <td>3517</td>\n",
       "      <td>3649</td>\n",
       "      <td>3848</td>\n",
       "      <td>4006</td>\n",
       "    </tr>\n",
       "    <tr>\n",
       "      <th>3</th>\n",
       "      <td>NaN</td>\n",
       "      <td>Andorra</td>\n",
       "      <td>42.5063</td>\n",
       "      <td>1.5218</td>\n",
       "      <td>0</td>\n",
       "      <td>0</td>\n",
       "      <td>0</td>\n",
       "      <td>0</td>\n",
       "      <td>0</td>\n",
       "      <td>0</td>\n",
       "      <td>...</td>\n",
       "      <td>717</td>\n",
       "      <td>723</td>\n",
       "      <td>723</td>\n",
       "      <td>731</td>\n",
       "      <td>738</td>\n",
       "      <td>738</td>\n",
       "      <td>743</td>\n",
       "      <td>743</td>\n",
       "      <td>743</td>\n",
       "      <td>745</td>\n",
       "    </tr>\n",
       "    <tr>\n",
       "      <th>4</th>\n",
       "      <td>NaN</td>\n",
       "      <td>Angola</td>\n",
       "      <td>-11.2027</td>\n",
       "      <td>17.8739</td>\n",
       "      <td>0</td>\n",
       "      <td>0</td>\n",
       "      <td>0</td>\n",
       "      <td>0</td>\n",
       "      <td>0</td>\n",
       "      <td>0</td>\n",
       "      <td>...</td>\n",
       "      <td>24</td>\n",
       "      <td>25</td>\n",
       "      <td>25</td>\n",
       "      <td>25</td>\n",
       "      <td>25</td>\n",
       "      <td>26</td>\n",
       "      <td>27</td>\n",
       "      <td>27</td>\n",
       "      <td>27</td>\n",
       "      <td>27</td>\n",
       "    </tr>\n",
       "  </tbody>\n",
       "</table>\n",
       "<p>5 rows × 104 columns</p>\n",
       "</div>"
      ],
      "text/plain": [
       "  Province/State Country/Region      Lat     Long  1/22/20  1/23/20  1/24/20  \\\n",
       "0            NaN    Afghanistan  33.0000  65.0000        0        0        0   \n",
       "1            NaN        Albania  41.1533  20.1683        0        0        0   \n",
       "2            NaN        Algeria  28.0339   1.6596        0        0        0   \n",
       "3            NaN        Andorra  42.5063   1.5218        0        0        0   \n",
       "4            NaN         Angola -11.2027  17.8739        0        0        0   \n",
       "\n",
       "   1/25/20  1/26/20  1/27/20  ...  4/21/20  4/22/20  4/23/20  4/24/20  \\\n",
       "0        0        0        0  ...     1092     1176     1279     1351   \n",
       "1        0        0        0  ...      609      634      663      678   \n",
       "2        0        0        0  ...     2811     2910     3007     3127   \n",
       "3        0        0        0  ...      717      723      723      731   \n",
       "4        0        0        0  ...       24       25       25       25   \n",
       "\n",
       "   4/25/20  4/26/20  4/27/20  4/28/20  4/29/20  4/30/20  \n",
       "0     1463     1531     1703     1828     1939     2171  \n",
       "1      712      726      736      750      766      773  \n",
       "2     3256     3382     3517     3649     3848     4006  \n",
       "3      738      738      743      743      743      745  \n",
       "4       25       26       27       27       27       27  \n",
       "\n",
       "[5 rows x 104 columns]"
      ]
     },
     "execution_count": 477,
     "metadata": {},
     "output_type": "execute_result"
    }
   ],
   "source": [
    "# Import dataset.\n",
    "data = pd.read_csv('Datasets/covid19_Confirmed_dataset.csv')\n",
    "data.head()"
   ]
  },
  {
   "cell_type": "markdown",
   "metadata": {},
   "source": [
    "#### Let's check the shape of the DataFrame"
   ]
  },
  {
   "cell_type": "code",
   "execution_count": 478,
   "metadata": {},
   "outputs": [
    {
     "data": {
      "text/plain": [
       "(266, 104)"
      ]
     },
     "execution_count": 478,
     "metadata": {},
     "output_type": "execute_result"
    }
   ],
   "source": [
    "data.shape"
   ]
  },
  {
   "cell_type": "markdown",
   "metadata": {},
   "source": [
    "### Task 2.2: Delete the unnecessary columns"
   ]
  },
  {
   "cell_type": "code",
   "execution_count": 479,
   "metadata": {},
   "outputs": [],
   "source": [
    "data.drop(['Lat', 'Long'], axis=1, inplace=True)  # Dropping unnecessary columns"
   ]
  },
  {
   "cell_type": "code",
   "execution_count": 480,
   "metadata": {},
   "outputs": [
    {
     "data": {
      "application/vnd.microsoft.datawrangler.viewer.v0+json": {
       "columns": [
        {
         "name": "index",
         "rawType": "int64",
         "type": "integer"
        },
        {
         "name": "Province/State",
         "rawType": "object",
         "type": "unknown"
        },
        {
         "name": "Country/Region",
         "rawType": "object",
         "type": "string"
        },
        {
         "name": "1/22/20",
         "rawType": "int64",
         "type": "integer"
        },
        {
         "name": "1/23/20",
         "rawType": "int64",
         "type": "integer"
        },
        {
         "name": "1/24/20",
         "rawType": "int64",
         "type": "integer"
        },
        {
         "name": "1/25/20",
         "rawType": "int64",
         "type": "integer"
        },
        {
         "name": "1/26/20",
         "rawType": "int64",
         "type": "integer"
        },
        {
         "name": "1/27/20",
         "rawType": "int64",
         "type": "integer"
        },
        {
         "name": "1/28/20",
         "rawType": "int64",
         "type": "integer"
        },
        {
         "name": "1/29/20",
         "rawType": "int64",
         "type": "integer"
        },
        {
         "name": "1/30/20",
         "rawType": "int64",
         "type": "integer"
        },
        {
         "name": "1/31/20",
         "rawType": "int64",
         "type": "integer"
        },
        {
         "name": "2/1/20",
         "rawType": "int64",
         "type": "integer"
        },
        {
         "name": "2/2/20",
         "rawType": "int64",
         "type": "integer"
        },
        {
         "name": "2/3/20",
         "rawType": "int64",
         "type": "integer"
        },
        {
         "name": "2/4/20",
         "rawType": "int64",
         "type": "integer"
        },
        {
         "name": "2/5/20",
         "rawType": "int64",
         "type": "integer"
        },
        {
         "name": "2/6/20",
         "rawType": "int64",
         "type": "integer"
        },
        {
         "name": "2/7/20",
         "rawType": "int64",
         "type": "integer"
        },
        {
         "name": "2/8/20",
         "rawType": "int64",
         "type": "integer"
        },
        {
         "name": "2/9/20",
         "rawType": "int64",
         "type": "integer"
        },
        {
         "name": "2/10/20",
         "rawType": "int64",
         "type": "integer"
        },
        {
         "name": "2/11/20",
         "rawType": "int64",
         "type": "integer"
        },
        {
         "name": "2/12/20",
         "rawType": "int64",
         "type": "integer"
        },
        {
         "name": "2/13/20",
         "rawType": "int64",
         "type": "integer"
        },
        {
         "name": "2/14/20",
         "rawType": "int64",
         "type": "integer"
        },
        {
         "name": "2/15/20",
         "rawType": "int64",
         "type": "integer"
        },
        {
         "name": "2/16/20",
         "rawType": "int64",
         "type": "integer"
        },
        {
         "name": "2/17/20",
         "rawType": "int64",
         "type": "integer"
        },
        {
         "name": "2/18/20",
         "rawType": "int64",
         "type": "integer"
        },
        {
         "name": "2/19/20",
         "rawType": "int64",
         "type": "integer"
        },
        {
         "name": "2/20/20",
         "rawType": "int64",
         "type": "integer"
        },
        {
         "name": "2/21/20",
         "rawType": "int64",
         "type": "integer"
        },
        {
         "name": "2/22/20",
         "rawType": "int64",
         "type": "integer"
        },
        {
         "name": "2/23/20",
         "rawType": "int64",
         "type": "integer"
        },
        {
         "name": "2/24/20",
         "rawType": "int64",
         "type": "integer"
        },
        {
         "name": "2/25/20",
         "rawType": "int64",
         "type": "integer"
        },
        {
         "name": "2/26/20",
         "rawType": "int64",
         "type": "integer"
        },
        {
         "name": "2/27/20",
         "rawType": "int64",
         "type": "integer"
        },
        {
         "name": "2/28/20",
         "rawType": "int64",
         "type": "integer"
        },
        {
         "name": "2/29/20",
         "rawType": "int64",
         "type": "integer"
        },
        {
         "name": "3/1/20",
         "rawType": "int64",
         "type": "integer"
        },
        {
         "name": "3/2/20",
         "rawType": "int64",
         "type": "integer"
        },
        {
         "name": "3/3/20",
         "rawType": "int64",
         "type": "integer"
        },
        {
         "name": "3/4/20",
         "rawType": "int64",
         "type": "integer"
        },
        {
         "name": "3/5/20",
         "rawType": "int64",
         "type": "integer"
        },
        {
         "name": "3/6/20",
         "rawType": "int64",
         "type": "integer"
        },
        {
         "name": "3/7/20",
         "rawType": "int64",
         "type": "integer"
        },
        {
         "name": "3/8/20",
         "rawType": "int64",
         "type": "integer"
        },
        {
         "name": "3/9/20",
         "rawType": "int64",
         "type": "integer"
        },
        {
         "name": "3/10/20",
         "rawType": "int64",
         "type": "integer"
        },
        {
         "name": "3/11/20",
         "rawType": "int64",
         "type": "integer"
        },
        {
         "name": "3/12/20",
         "rawType": "int64",
         "type": "integer"
        },
        {
         "name": "3/13/20",
         "rawType": "int64",
         "type": "integer"
        },
        {
         "name": "3/14/20",
         "rawType": "int64",
         "type": "integer"
        },
        {
         "name": "3/15/20",
         "rawType": "int64",
         "type": "integer"
        },
        {
         "name": "3/16/20",
         "rawType": "int64",
         "type": "integer"
        },
        {
         "name": "3/17/20",
         "rawType": "int64",
         "type": "integer"
        },
        {
         "name": "3/18/20",
         "rawType": "int64",
         "type": "integer"
        },
        {
         "name": "3/19/20",
         "rawType": "int64",
         "type": "integer"
        },
        {
         "name": "3/20/20",
         "rawType": "int64",
         "type": "integer"
        },
        {
         "name": "3/21/20",
         "rawType": "int64",
         "type": "integer"
        },
        {
         "name": "3/22/20",
         "rawType": "int64",
         "type": "integer"
        },
        {
         "name": "3/23/20",
         "rawType": "int64",
         "type": "integer"
        },
        {
         "name": "3/24/20",
         "rawType": "int64",
         "type": "integer"
        },
        {
         "name": "3/25/20",
         "rawType": "int64",
         "type": "integer"
        },
        {
         "name": "3/26/20",
         "rawType": "int64",
         "type": "integer"
        },
        {
         "name": "3/27/20",
         "rawType": "int64",
         "type": "integer"
        },
        {
         "name": "3/28/20",
         "rawType": "int64",
         "type": "integer"
        },
        {
         "name": "3/29/20",
         "rawType": "int64",
         "type": "integer"
        },
        {
         "name": "3/30/20",
         "rawType": "int64",
         "type": "integer"
        },
        {
         "name": "3/31/20",
         "rawType": "int64",
         "type": "integer"
        },
        {
         "name": "4/1/20",
         "rawType": "int64",
         "type": "integer"
        },
        {
         "name": "4/2/20",
         "rawType": "int64",
         "type": "integer"
        },
        {
         "name": "4/3/20",
         "rawType": "int64",
         "type": "integer"
        },
        {
         "name": "4/4/20",
         "rawType": "int64",
         "type": "integer"
        },
        {
         "name": "4/5/20",
         "rawType": "int64",
         "type": "integer"
        },
        {
         "name": "4/6/20",
         "rawType": "int64",
         "type": "integer"
        },
        {
         "name": "4/7/20",
         "rawType": "int64",
         "type": "integer"
        },
        {
         "name": "4/8/20",
         "rawType": "int64",
         "type": "integer"
        },
        {
         "name": "4/9/20",
         "rawType": "int64",
         "type": "integer"
        },
        {
         "name": "4/10/20",
         "rawType": "int64",
         "type": "integer"
        },
        {
         "name": "4/11/20",
         "rawType": "int64",
         "type": "integer"
        },
        {
         "name": "4/12/20",
         "rawType": "int64",
         "type": "integer"
        },
        {
         "name": "4/13/20",
         "rawType": "int64",
         "type": "integer"
        },
        {
         "name": "4/14/20",
         "rawType": "int64",
         "type": "integer"
        },
        {
         "name": "4/15/20",
         "rawType": "int64",
         "type": "integer"
        },
        {
         "name": "4/16/20",
         "rawType": "int64",
         "type": "integer"
        },
        {
         "name": "4/17/20",
         "rawType": "int64",
         "type": "integer"
        },
        {
         "name": "4/18/20",
         "rawType": "int64",
         "type": "integer"
        },
        {
         "name": "4/19/20",
         "rawType": "int64",
         "type": "integer"
        },
        {
         "name": "4/20/20",
         "rawType": "int64",
         "type": "integer"
        },
        {
         "name": "4/21/20",
         "rawType": "int64",
         "type": "integer"
        },
        {
         "name": "4/22/20",
         "rawType": "int64",
         "type": "integer"
        },
        {
         "name": "4/23/20",
         "rawType": "int64",
         "type": "integer"
        },
        {
         "name": "4/24/20",
         "rawType": "int64",
         "type": "integer"
        },
        {
         "name": "4/25/20",
         "rawType": "int64",
         "type": "integer"
        },
        {
         "name": "4/26/20",
         "rawType": "int64",
         "type": "integer"
        },
        {
         "name": "4/27/20",
         "rawType": "int64",
         "type": "integer"
        },
        {
         "name": "4/28/20",
         "rawType": "int64",
         "type": "integer"
        },
        {
         "name": "4/29/20",
         "rawType": "int64",
         "type": "integer"
        },
        {
         "name": "4/30/20",
         "rawType": "int64",
         "type": "integer"
        }
       ],
       "ref": "25a35501-0895-4528-86fb-d3fe3fc0c091",
       "rows": [
        [
         "0",
         null,
         "Afghanistan",
         "0",
         "0",
         "0",
         "0",
         "0",
         "0",
         "0",
         "0",
         "0",
         "0",
         "0",
         "0",
         "0",
         "0",
         "0",
         "0",
         "0",
         "0",
         "0",
         "0",
         "0",
         "0",
         "0",
         "0",
         "0",
         "0",
         "0",
         "0",
         "0",
         "0",
         "0",
         "0",
         "0",
         "1",
         "1",
         "1",
         "1",
         "1",
         "1",
         "1",
         "1",
         "1",
         "1",
         "1",
         "1",
         "1",
         "4",
         "4",
         "5",
         "7",
         "7",
         "7",
         "11",
         "16",
         "21",
         "22",
         "22",
         "22",
         "24",
         "24",
         "40",
         "40",
         "74",
         "84",
         "94",
         "110",
         "110",
         "120",
         "170",
         "174",
         "237",
         "273",
         "281",
         "299",
         "349",
         "367",
         "423",
         "444",
         "484",
         "521",
         "555",
         "607",
         "665",
         "714",
         "784",
         "840",
         "906",
         "933",
         "996",
         "1026",
         "1092",
         "1176",
         "1279",
         "1351",
         "1463",
         "1531",
         "1703",
         "1828",
         "1939",
         "2171"
        ],
        [
         "1",
         null,
         "Albania",
         "0",
         "0",
         "0",
         "0",
         "0",
         "0",
         "0",
         "0",
         "0",
         "0",
         "0",
         "0",
         "0",
         "0",
         "0",
         "0",
         "0",
         "0",
         "0",
         "0",
         "0",
         "0",
         "0",
         "0",
         "0",
         "0",
         "0",
         "0",
         "0",
         "0",
         "0",
         "0",
         "0",
         "0",
         "0",
         "0",
         "0",
         "0",
         "0",
         "0",
         "0",
         "0",
         "0",
         "0",
         "0",
         "0",
         "0",
         "2",
         "10",
         "12",
         "23",
         "33",
         "38",
         "42",
         "51",
         "55",
         "59",
         "64",
         "70",
         "76",
         "89",
         "104",
         "123",
         "146",
         "174",
         "186",
         "197",
         "212",
         "223",
         "243",
         "259",
         "277",
         "304",
         "333",
         "361",
         "377",
         "383",
         "400",
         "409",
         "416",
         "433",
         "446",
         "467",
         "475",
         "494",
         "518",
         "539",
         "548",
         "562",
         "584",
         "609",
         "634",
         "663",
         "678",
         "712",
         "726",
         "736",
         "750",
         "766",
         "773"
        ],
        [
         "2",
         null,
         "Algeria",
         "0",
         "0",
         "0",
         "0",
         "0",
         "0",
         "0",
         "0",
         "0",
         "0",
         "0",
         "0",
         "0",
         "0",
         "0",
         "0",
         "0",
         "0",
         "0",
         "0",
         "0",
         "0",
         "0",
         "0",
         "0",
         "0",
         "0",
         "0",
         "0",
         "0",
         "0",
         "0",
         "0",
         "0",
         "1",
         "1",
         "1",
         "1",
         "1",
         "1",
         "3",
         "5",
         "12",
         "12",
         "17",
         "17",
         "19",
         "20",
         "20",
         "20",
         "24",
         "26",
         "37",
         "48",
         "54",
         "60",
         "74",
         "87",
         "90",
         "139",
         "201",
         "230",
         "264",
         "302",
         "367",
         "409",
         "454",
         "511",
         "584",
         "716",
         "847",
         "986",
         "1171",
         "1251",
         "1320",
         "1423",
         "1468",
         "1572",
         "1666",
         "1761",
         "1825",
         "1914",
         "1983",
         "2070",
         "2160",
         "2268",
         "2418",
         "2534",
         "2629",
         "2718",
         "2811",
         "2910",
         "3007",
         "3127",
         "3256",
         "3382",
         "3517",
         "3649",
         "3848",
         "4006"
        ],
        [
         "3",
         null,
         "Andorra",
         "0",
         "0",
         "0",
         "0",
         "0",
         "0",
         "0",
         "0",
         "0",
         "0",
         "0",
         "0",
         "0",
         "0",
         "0",
         "0",
         "0",
         "0",
         "0",
         "0",
         "0",
         "0",
         "0",
         "0",
         "0",
         "0",
         "0",
         "0",
         "0",
         "0",
         "0",
         "0",
         "0",
         "0",
         "0",
         "0",
         "0",
         "0",
         "0",
         "0",
         "1",
         "1",
         "1",
         "1",
         "1",
         "1",
         "1",
         "1",
         "1",
         "1",
         "1",
         "1",
         "1",
         "1",
         "2",
         "39",
         "39",
         "53",
         "75",
         "88",
         "113",
         "133",
         "164",
         "188",
         "224",
         "267",
         "308",
         "334",
         "370",
         "376",
         "390",
         "428",
         "439",
         "466",
         "501",
         "525",
         "545",
         "564",
         "583",
         "601",
         "601",
         "638",
         "646",
         "659",
         "673",
         "673",
         "696",
         "704",
         "713",
         "717",
         "717",
         "723",
         "723",
         "731",
         "738",
         "738",
         "743",
         "743",
         "743",
         "745"
        ],
        [
         "4",
         null,
         "Angola",
         "0",
         "0",
         "0",
         "0",
         "0",
         "0",
         "0",
         "0",
         "0",
         "0",
         "0",
         "0",
         "0",
         "0",
         "0",
         "0",
         "0",
         "0",
         "0",
         "0",
         "0",
         "0",
         "0",
         "0",
         "0",
         "0",
         "0",
         "0",
         "0",
         "0",
         "0",
         "0",
         "0",
         "0",
         "0",
         "0",
         "0",
         "0",
         "0",
         "0",
         "0",
         "0",
         "0",
         "0",
         "0",
         "0",
         "0",
         "0",
         "0",
         "0",
         "0",
         "0",
         "0",
         "0",
         "0",
         "0",
         "0",
         "0",
         "1",
         "2",
         "2",
         "3",
         "3",
         "3",
         "4",
         "4",
         "5",
         "7",
         "7",
         "7",
         "8",
         "8",
         "8",
         "10",
         "14",
         "16",
         "17",
         "19",
         "19",
         "19",
         "19",
         "19",
         "19",
         "19",
         "19",
         "19",
         "19",
         "24",
         "24",
         "24",
         "24",
         "25",
         "25",
         "25",
         "25",
         "26",
         "27",
         "27",
         "27",
         "27"
        ]
       ],
       "shape": {
        "columns": 102,
        "rows": 5
       }
      },
      "text/html": [
       "<div>\n",
       "<style scoped>\n",
       "    .dataframe tbody tr th:only-of-type {\n",
       "        vertical-align: middle;\n",
       "    }\n",
       "\n",
       "    .dataframe tbody tr th {\n",
       "        vertical-align: top;\n",
       "    }\n",
       "\n",
       "    .dataframe thead th {\n",
       "        text-align: right;\n",
       "    }\n",
       "</style>\n",
       "<table border=\"1\" class=\"dataframe\">\n",
       "  <thead>\n",
       "    <tr style=\"text-align: right;\">\n",
       "      <th></th>\n",
       "      <th>Province/State</th>\n",
       "      <th>Country/Region</th>\n",
       "      <th>1/22/20</th>\n",
       "      <th>1/23/20</th>\n",
       "      <th>1/24/20</th>\n",
       "      <th>1/25/20</th>\n",
       "      <th>1/26/20</th>\n",
       "      <th>1/27/20</th>\n",
       "      <th>1/28/20</th>\n",
       "      <th>1/29/20</th>\n",
       "      <th>...</th>\n",
       "      <th>4/21/20</th>\n",
       "      <th>4/22/20</th>\n",
       "      <th>4/23/20</th>\n",
       "      <th>4/24/20</th>\n",
       "      <th>4/25/20</th>\n",
       "      <th>4/26/20</th>\n",
       "      <th>4/27/20</th>\n",
       "      <th>4/28/20</th>\n",
       "      <th>4/29/20</th>\n",
       "      <th>4/30/20</th>\n",
       "    </tr>\n",
       "  </thead>\n",
       "  <tbody>\n",
       "    <tr>\n",
       "      <th>0</th>\n",
       "      <td>NaN</td>\n",
       "      <td>Afghanistan</td>\n",
       "      <td>0</td>\n",
       "      <td>0</td>\n",
       "      <td>0</td>\n",
       "      <td>0</td>\n",
       "      <td>0</td>\n",
       "      <td>0</td>\n",
       "      <td>0</td>\n",
       "      <td>0</td>\n",
       "      <td>...</td>\n",
       "      <td>1092</td>\n",
       "      <td>1176</td>\n",
       "      <td>1279</td>\n",
       "      <td>1351</td>\n",
       "      <td>1463</td>\n",
       "      <td>1531</td>\n",
       "      <td>1703</td>\n",
       "      <td>1828</td>\n",
       "      <td>1939</td>\n",
       "      <td>2171</td>\n",
       "    </tr>\n",
       "    <tr>\n",
       "      <th>1</th>\n",
       "      <td>NaN</td>\n",
       "      <td>Albania</td>\n",
       "      <td>0</td>\n",
       "      <td>0</td>\n",
       "      <td>0</td>\n",
       "      <td>0</td>\n",
       "      <td>0</td>\n",
       "      <td>0</td>\n",
       "      <td>0</td>\n",
       "      <td>0</td>\n",
       "      <td>...</td>\n",
       "      <td>609</td>\n",
       "      <td>634</td>\n",
       "      <td>663</td>\n",
       "      <td>678</td>\n",
       "      <td>712</td>\n",
       "      <td>726</td>\n",
       "      <td>736</td>\n",
       "      <td>750</td>\n",
       "      <td>766</td>\n",
       "      <td>773</td>\n",
       "    </tr>\n",
       "    <tr>\n",
       "      <th>2</th>\n",
       "      <td>NaN</td>\n",
       "      <td>Algeria</td>\n",
       "      <td>0</td>\n",
       "      <td>0</td>\n",
       "      <td>0</td>\n",
       "      <td>0</td>\n",
       "      <td>0</td>\n",
       "      <td>0</td>\n",
       "      <td>0</td>\n",
       "      <td>0</td>\n",
       "      <td>...</td>\n",
       "      <td>2811</td>\n",
       "      <td>2910</td>\n",
       "      <td>3007</td>\n",
       "      <td>3127</td>\n",
       "      <td>3256</td>\n",
       "      <td>3382</td>\n",
       "      <td>3517</td>\n",
       "      <td>3649</td>\n",
       "      <td>3848</td>\n",
       "      <td>4006</td>\n",
       "    </tr>\n",
       "    <tr>\n",
       "      <th>3</th>\n",
       "      <td>NaN</td>\n",
       "      <td>Andorra</td>\n",
       "      <td>0</td>\n",
       "      <td>0</td>\n",
       "      <td>0</td>\n",
       "      <td>0</td>\n",
       "      <td>0</td>\n",
       "      <td>0</td>\n",
       "      <td>0</td>\n",
       "      <td>0</td>\n",
       "      <td>...</td>\n",
       "      <td>717</td>\n",
       "      <td>723</td>\n",
       "      <td>723</td>\n",
       "      <td>731</td>\n",
       "      <td>738</td>\n",
       "      <td>738</td>\n",
       "      <td>743</td>\n",
       "      <td>743</td>\n",
       "      <td>743</td>\n",
       "      <td>745</td>\n",
       "    </tr>\n",
       "    <tr>\n",
       "      <th>4</th>\n",
       "      <td>NaN</td>\n",
       "      <td>Angola</td>\n",
       "      <td>0</td>\n",
       "      <td>0</td>\n",
       "      <td>0</td>\n",
       "      <td>0</td>\n",
       "      <td>0</td>\n",
       "      <td>0</td>\n",
       "      <td>0</td>\n",
       "      <td>0</td>\n",
       "      <td>...</td>\n",
       "      <td>24</td>\n",
       "      <td>25</td>\n",
       "      <td>25</td>\n",
       "      <td>25</td>\n",
       "      <td>25</td>\n",
       "      <td>26</td>\n",
       "      <td>27</td>\n",
       "      <td>27</td>\n",
       "      <td>27</td>\n",
       "      <td>27</td>\n",
       "    </tr>\n",
       "  </tbody>\n",
       "</table>\n",
       "<p>5 rows × 102 columns</p>\n",
       "</div>"
      ],
      "text/plain": [
       "  Province/State Country/Region  1/22/20  1/23/20  1/24/20  1/25/20  1/26/20  \\\n",
       "0            NaN    Afghanistan        0        0        0        0        0   \n",
       "1            NaN        Albania        0        0        0        0        0   \n",
       "2            NaN        Algeria        0        0        0        0        0   \n",
       "3            NaN        Andorra        0        0        0        0        0   \n",
       "4            NaN         Angola        0        0        0        0        0   \n",
       "\n",
       "   1/27/20  1/28/20  1/29/20  ...  4/21/20  4/22/20  4/23/20  4/24/20  \\\n",
       "0        0        0        0  ...     1092     1176     1279     1351   \n",
       "1        0        0        0  ...      609      634      663      678   \n",
       "2        0        0        0  ...     2811     2910     3007     3127   \n",
       "3        0        0        0  ...      717      723      723      731   \n",
       "4        0        0        0  ...       24       25       25       25   \n",
       "\n",
       "   4/25/20  4/26/20  4/27/20  4/28/20  4/29/20  4/30/20  \n",
       "0     1463     1531     1703     1828     1939     2171  \n",
       "1      712      726      736      750      766      773  \n",
       "2     3256     3382     3517     3649     3848     4006  \n",
       "3      738      738      743      743      743      745  \n",
       "4       25       26       27       27       27       27  \n",
       "\n",
       "[5 rows x 102 columns]"
      ]
     },
     "execution_count": 480,
     "metadata": {},
     "output_type": "execute_result"
    }
   ],
   "source": [
    "data.head()"
   ]
  },
  {
   "cell_type": "markdown",
   "metadata": {},
   "source": [
    "### Task 2.3: Aggregating the rows by country"
   ]
  },
  {
   "cell_type": "code",
   "execution_count": 481,
   "metadata": {},
   "outputs": [],
   "source": [
    "data_aggregated = data.groupby('Country/Region').sum()"
   ]
  },
  {
   "cell_type": "code",
   "execution_count": 482,
   "metadata": {},
   "outputs": [
    {
     "data": {
      "application/vnd.microsoft.datawrangler.viewer.v0+json": {
       "columns": [
        {
         "name": "Country/Region",
         "rawType": "object",
         "type": "string"
        },
        {
         "name": "Province/State",
         "rawType": "object",
         "type": "unknown"
        },
        {
         "name": "1/22/20",
         "rawType": "int64",
         "type": "integer"
        },
        {
         "name": "1/23/20",
         "rawType": "int64",
         "type": "integer"
        },
        {
         "name": "1/24/20",
         "rawType": "int64",
         "type": "integer"
        },
        {
         "name": "1/25/20",
         "rawType": "int64",
         "type": "integer"
        },
        {
         "name": "1/26/20",
         "rawType": "int64",
         "type": "integer"
        },
        {
         "name": "1/27/20",
         "rawType": "int64",
         "type": "integer"
        },
        {
         "name": "1/28/20",
         "rawType": "int64",
         "type": "integer"
        },
        {
         "name": "1/29/20",
         "rawType": "int64",
         "type": "integer"
        },
        {
         "name": "1/30/20",
         "rawType": "int64",
         "type": "integer"
        },
        {
         "name": "1/31/20",
         "rawType": "int64",
         "type": "integer"
        },
        {
         "name": "2/1/20",
         "rawType": "int64",
         "type": "integer"
        },
        {
         "name": "2/2/20",
         "rawType": "int64",
         "type": "integer"
        },
        {
         "name": "2/3/20",
         "rawType": "int64",
         "type": "integer"
        },
        {
         "name": "2/4/20",
         "rawType": "int64",
         "type": "integer"
        },
        {
         "name": "2/5/20",
         "rawType": "int64",
         "type": "integer"
        },
        {
         "name": "2/6/20",
         "rawType": "int64",
         "type": "integer"
        },
        {
         "name": "2/7/20",
         "rawType": "int64",
         "type": "integer"
        },
        {
         "name": "2/8/20",
         "rawType": "int64",
         "type": "integer"
        },
        {
         "name": "2/9/20",
         "rawType": "int64",
         "type": "integer"
        },
        {
         "name": "2/10/20",
         "rawType": "int64",
         "type": "integer"
        },
        {
         "name": "2/11/20",
         "rawType": "int64",
         "type": "integer"
        },
        {
         "name": "2/12/20",
         "rawType": "int64",
         "type": "integer"
        },
        {
         "name": "2/13/20",
         "rawType": "int64",
         "type": "integer"
        },
        {
         "name": "2/14/20",
         "rawType": "int64",
         "type": "integer"
        },
        {
         "name": "2/15/20",
         "rawType": "int64",
         "type": "integer"
        },
        {
         "name": "2/16/20",
         "rawType": "int64",
         "type": "integer"
        },
        {
         "name": "2/17/20",
         "rawType": "int64",
         "type": "integer"
        },
        {
         "name": "2/18/20",
         "rawType": "int64",
         "type": "integer"
        },
        {
         "name": "2/19/20",
         "rawType": "int64",
         "type": "integer"
        },
        {
         "name": "2/20/20",
         "rawType": "int64",
         "type": "integer"
        },
        {
         "name": "2/21/20",
         "rawType": "int64",
         "type": "integer"
        },
        {
         "name": "2/22/20",
         "rawType": "int64",
         "type": "integer"
        },
        {
         "name": "2/23/20",
         "rawType": "int64",
         "type": "integer"
        },
        {
         "name": "2/24/20",
         "rawType": "int64",
         "type": "integer"
        },
        {
         "name": "2/25/20",
         "rawType": "int64",
         "type": "integer"
        },
        {
         "name": "2/26/20",
         "rawType": "int64",
         "type": "integer"
        },
        {
         "name": "2/27/20",
         "rawType": "int64",
         "type": "integer"
        },
        {
         "name": "2/28/20",
         "rawType": "int64",
         "type": "integer"
        },
        {
         "name": "2/29/20",
         "rawType": "int64",
         "type": "integer"
        },
        {
         "name": "3/1/20",
         "rawType": "int64",
         "type": "integer"
        },
        {
         "name": "3/2/20",
         "rawType": "int64",
         "type": "integer"
        },
        {
         "name": "3/3/20",
         "rawType": "int64",
         "type": "integer"
        },
        {
         "name": "3/4/20",
         "rawType": "int64",
         "type": "integer"
        },
        {
         "name": "3/5/20",
         "rawType": "int64",
         "type": "integer"
        },
        {
         "name": "3/6/20",
         "rawType": "int64",
         "type": "integer"
        },
        {
         "name": "3/7/20",
         "rawType": "int64",
         "type": "integer"
        },
        {
         "name": "3/8/20",
         "rawType": "int64",
         "type": "integer"
        },
        {
         "name": "3/9/20",
         "rawType": "int64",
         "type": "integer"
        },
        {
         "name": "3/10/20",
         "rawType": "int64",
         "type": "integer"
        },
        {
         "name": "3/11/20",
         "rawType": "int64",
         "type": "integer"
        },
        {
         "name": "3/12/20",
         "rawType": "int64",
         "type": "integer"
        },
        {
         "name": "3/13/20",
         "rawType": "int64",
         "type": "integer"
        },
        {
         "name": "3/14/20",
         "rawType": "int64",
         "type": "integer"
        },
        {
         "name": "3/15/20",
         "rawType": "int64",
         "type": "integer"
        },
        {
         "name": "3/16/20",
         "rawType": "int64",
         "type": "integer"
        },
        {
         "name": "3/17/20",
         "rawType": "int64",
         "type": "integer"
        },
        {
         "name": "3/18/20",
         "rawType": "int64",
         "type": "integer"
        },
        {
         "name": "3/19/20",
         "rawType": "int64",
         "type": "integer"
        },
        {
         "name": "3/20/20",
         "rawType": "int64",
         "type": "integer"
        },
        {
         "name": "3/21/20",
         "rawType": "int64",
         "type": "integer"
        },
        {
         "name": "3/22/20",
         "rawType": "int64",
         "type": "integer"
        },
        {
         "name": "3/23/20",
         "rawType": "int64",
         "type": "integer"
        },
        {
         "name": "3/24/20",
         "rawType": "int64",
         "type": "integer"
        },
        {
         "name": "3/25/20",
         "rawType": "int64",
         "type": "integer"
        },
        {
         "name": "3/26/20",
         "rawType": "int64",
         "type": "integer"
        },
        {
         "name": "3/27/20",
         "rawType": "int64",
         "type": "integer"
        },
        {
         "name": "3/28/20",
         "rawType": "int64",
         "type": "integer"
        },
        {
         "name": "3/29/20",
         "rawType": "int64",
         "type": "integer"
        },
        {
         "name": "3/30/20",
         "rawType": "int64",
         "type": "integer"
        },
        {
         "name": "3/31/20",
         "rawType": "int64",
         "type": "integer"
        },
        {
         "name": "4/1/20",
         "rawType": "int64",
         "type": "integer"
        },
        {
         "name": "4/2/20",
         "rawType": "int64",
         "type": "integer"
        },
        {
         "name": "4/3/20",
         "rawType": "int64",
         "type": "integer"
        },
        {
         "name": "4/4/20",
         "rawType": "int64",
         "type": "integer"
        },
        {
         "name": "4/5/20",
         "rawType": "int64",
         "type": "integer"
        },
        {
         "name": "4/6/20",
         "rawType": "int64",
         "type": "integer"
        },
        {
         "name": "4/7/20",
         "rawType": "int64",
         "type": "integer"
        },
        {
         "name": "4/8/20",
         "rawType": "int64",
         "type": "integer"
        },
        {
         "name": "4/9/20",
         "rawType": "int64",
         "type": "integer"
        },
        {
         "name": "4/10/20",
         "rawType": "int64",
         "type": "integer"
        },
        {
         "name": "4/11/20",
         "rawType": "int64",
         "type": "integer"
        },
        {
         "name": "4/12/20",
         "rawType": "int64",
         "type": "integer"
        },
        {
         "name": "4/13/20",
         "rawType": "int64",
         "type": "integer"
        },
        {
         "name": "4/14/20",
         "rawType": "int64",
         "type": "integer"
        },
        {
         "name": "4/15/20",
         "rawType": "int64",
         "type": "integer"
        },
        {
         "name": "4/16/20",
         "rawType": "int64",
         "type": "integer"
        },
        {
         "name": "4/17/20",
         "rawType": "int64",
         "type": "integer"
        },
        {
         "name": "4/18/20",
         "rawType": "int64",
         "type": "integer"
        },
        {
         "name": "4/19/20",
         "rawType": "int64",
         "type": "integer"
        },
        {
         "name": "4/20/20",
         "rawType": "int64",
         "type": "integer"
        },
        {
         "name": "4/21/20",
         "rawType": "int64",
         "type": "integer"
        },
        {
         "name": "4/22/20",
         "rawType": "int64",
         "type": "integer"
        },
        {
         "name": "4/23/20",
         "rawType": "int64",
         "type": "integer"
        },
        {
         "name": "4/24/20",
         "rawType": "int64",
         "type": "integer"
        },
        {
         "name": "4/25/20",
         "rawType": "int64",
         "type": "integer"
        },
        {
         "name": "4/26/20",
         "rawType": "int64",
         "type": "integer"
        },
        {
         "name": "4/27/20",
         "rawType": "int64",
         "type": "integer"
        },
        {
         "name": "4/28/20",
         "rawType": "int64",
         "type": "integer"
        },
        {
         "name": "4/29/20",
         "rawType": "int64",
         "type": "integer"
        },
        {
         "name": "4/30/20",
         "rawType": "int64",
         "type": "integer"
        }
       ],
       "ref": "7eba85b7-a33b-4de9-ad2c-a5555c577f40",
       "rows": [
        [
         "Afghanistan",
         "0",
         "0",
         "0",
         "0",
         "0",
         "0",
         "0",
         "0",
         "0",
         "0",
         "0",
         "0",
         "0",
         "0",
         "0",
         "0",
         "0",
         "0",
         "0",
         "0",
         "0",
         "0",
         "0",
         "0",
         "0",
         "0",
         "0",
         "0",
         "0",
         "0",
         "0",
         "0",
         "0",
         "0",
         "1",
         "1",
         "1",
         "1",
         "1",
         "1",
         "1",
         "1",
         "1",
         "1",
         "1",
         "1",
         "1",
         "4",
         "4",
         "5",
         "7",
         "7",
         "7",
         "11",
         "16",
         "21",
         "22",
         "22",
         "22",
         "24",
         "24",
         "40",
         "40",
         "74",
         "84",
         "94",
         "110",
         "110",
         "120",
         "170",
         "174",
         "237",
         "273",
         "281",
         "299",
         "349",
         "367",
         "423",
         "444",
         "484",
         "521",
         "555",
         "607",
         "665",
         "714",
         "784",
         "840",
         "906",
         "933",
         "996",
         "1026",
         "1092",
         "1176",
         "1279",
         "1351",
         "1463",
         "1531",
         "1703",
         "1828",
         "1939",
         "2171"
        ],
        [
         "Albania",
         "0",
         "0",
         "0",
         "0",
         "0",
         "0",
         "0",
         "0",
         "0",
         "0",
         "0",
         "0",
         "0",
         "0",
         "0",
         "0",
         "0",
         "0",
         "0",
         "0",
         "0",
         "0",
         "0",
         "0",
         "0",
         "0",
         "0",
         "0",
         "0",
         "0",
         "0",
         "0",
         "0",
         "0",
         "0",
         "0",
         "0",
         "0",
         "0",
         "0",
         "0",
         "0",
         "0",
         "0",
         "0",
         "0",
         "0",
         "0",
         "2",
         "10",
         "12",
         "23",
         "33",
         "38",
         "42",
         "51",
         "55",
         "59",
         "64",
         "70",
         "76",
         "89",
         "104",
         "123",
         "146",
         "174",
         "186",
         "197",
         "212",
         "223",
         "243",
         "259",
         "277",
         "304",
         "333",
         "361",
         "377",
         "383",
         "400",
         "409",
         "416",
         "433",
         "446",
         "467",
         "475",
         "494",
         "518",
         "539",
         "548",
         "562",
         "584",
         "609",
         "634",
         "663",
         "678",
         "712",
         "726",
         "736",
         "750",
         "766",
         "773"
        ],
        [
         "Algeria",
         "0",
         "0",
         "0",
         "0",
         "0",
         "0",
         "0",
         "0",
         "0",
         "0",
         "0",
         "0",
         "0",
         "0",
         "0",
         "0",
         "0",
         "0",
         "0",
         "0",
         "0",
         "0",
         "0",
         "0",
         "0",
         "0",
         "0",
         "0",
         "0",
         "0",
         "0",
         "0",
         "0",
         "0",
         "0",
         "1",
         "1",
         "1",
         "1",
         "1",
         "1",
         "3",
         "5",
         "12",
         "12",
         "17",
         "17",
         "19",
         "20",
         "20",
         "20",
         "24",
         "26",
         "37",
         "48",
         "54",
         "60",
         "74",
         "87",
         "90",
         "139",
         "201",
         "230",
         "264",
         "302",
         "367",
         "409",
         "454",
         "511",
         "584",
         "716",
         "847",
         "986",
         "1171",
         "1251",
         "1320",
         "1423",
         "1468",
         "1572",
         "1666",
         "1761",
         "1825",
         "1914",
         "1983",
         "2070",
         "2160",
         "2268",
         "2418",
         "2534",
         "2629",
         "2718",
         "2811",
         "2910",
         "3007",
         "3127",
         "3256",
         "3382",
         "3517",
         "3649",
         "3848",
         "4006"
        ],
        [
         "Andorra",
         "0",
         "0",
         "0",
         "0",
         "0",
         "0",
         "0",
         "0",
         "0",
         "0",
         "0",
         "0",
         "0",
         "0",
         "0",
         "0",
         "0",
         "0",
         "0",
         "0",
         "0",
         "0",
         "0",
         "0",
         "0",
         "0",
         "0",
         "0",
         "0",
         "0",
         "0",
         "0",
         "0",
         "0",
         "0",
         "0",
         "0",
         "0",
         "0",
         "0",
         "0",
         "1",
         "1",
         "1",
         "1",
         "1",
         "1",
         "1",
         "1",
         "1",
         "1",
         "1",
         "1",
         "1",
         "1",
         "2",
         "39",
         "39",
         "53",
         "75",
         "88",
         "113",
         "133",
         "164",
         "188",
         "224",
         "267",
         "308",
         "334",
         "370",
         "376",
         "390",
         "428",
         "439",
         "466",
         "501",
         "525",
         "545",
         "564",
         "583",
         "601",
         "601",
         "638",
         "646",
         "659",
         "673",
         "673",
         "696",
         "704",
         "713",
         "717",
         "717",
         "723",
         "723",
         "731",
         "738",
         "738",
         "743",
         "743",
         "743",
         "745"
        ],
        [
         "Angola",
         "0",
         "0",
         "0",
         "0",
         "0",
         "0",
         "0",
         "0",
         "0",
         "0",
         "0",
         "0",
         "0",
         "0",
         "0",
         "0",
         "0",
         "0",
         "0",
         "0",
         "0",
         "0",
         "0",
         "0",
         "0",
         "0",
         "0",
         "0",
         "0",
         "0",
         "0",
         "0",
         "0",
         "0",
         "0",
         "0",
         "0",
         "0",
         "0",
         "0",
         "0",
         "0",
         "0",
         "0",
         "0",
         "0",
         "0",
         "0",
         "0",
         "0",
         "0",
         "0",
         "0",
         "0",
         "0",
         "0",
         "0",
         "0",
         "0",
         "1",
         "2",
         "2",
         "3",
         "3",
         "3",
         "4",
         "4",
         "5",
         "7",
         "7",
         "7",
         "8",
         "8",
         "8",
         "10",
         "14",
         "16",
         "17",
         "19",
         "19",
         "19",
         "19",
         "19",
         "19",
         "19",
         "19",
         "19",
         "19",
         "24",
         "24",
         "24",
         "24",
         "25",
         "25",
         "25",
         "25",
         "26",
         "27",
         "27",
         "27",
         "27"
        ]
       ],
       "shape": {
        "columns": 101,
        "rows": 5
       }
      },
      "text/html": [
       "<div>\n",
       "<style scoped>\n",
       "    .dataframe tbody tr th:only-of-type {\n",
       "        vertical-align: middle;\n",
       "    }\n",
       "\n",
       "    .dataframe tbody tr th {\n",
       "        vertical-align: top;\n",
       "    }\n",
       "\n",
       "    .dataframe thead th {\n",
       "        text-align: right;\n",
       "    }\n",
       "</style>\n",
       "<table border=\"1\" class=\"dataframe\">\n",
       "  <thead>\n",
       "    <tr style=\"text-align: right;\">\n",
       "      <th></th>\n",
       "      <th>Province/State</th>\n",
       "      <th>1/22/20</th>\n",
       "      <th>1/23/20</th>\n",
       "      <th>1/24/20</th>\n",
       "      <th>1/25/20</th>\n",
       "      <th>1/26/20</th>\n",
       "      <th>1/27/20</th>\n",
       "      <th>1/28/20</th>\n",
       "      <th>1/29/20</th>\n",
       "      <th>1/30/20</th>\n",
       "      <th>...</th>\n",
       "      <th>4/21/20</th>\n",
       "      <th>4/22/20</th>\n",
       "      <th>4/23/20</th>\n",
       "      <th>4/24/20</th>\n",
       "      <th>4/25/20</th>\n",
       "      <th>4/26/20</th>\n",
       "      <th>4/27/20</th>\n",
       "      <th>4/28/20</th>\n",
       "      <th>4/29/20</th>\n",
       "      <th>4/30/20</th>\n",
       "    </tr>\n",
       "    <tr>\n",
       "      <th>Country/Region</th>\n",
       "      <th></th>\n",
       "      <th></th>\n",
       "      <th></th>\n",
       "      <th></th>\n",
       "      <th></th>\n",
       "      <th></th>\n",
       "      <th></th>\n",
       "      <th></th>\n",
       "      <th></th>\n",
       "      <th></th>\n",
       "      <th></th>\n",
       "      <th></th>\n",
       "      <th></th>\n",
       "      <th></th>\n",
       "      <th></th>\n",
       "      <th></th>\n",
       "      <th></th>\n",
       "      <th></th>\n",
       "      <th></th>\n",
       "      <th></th>\n",
       "      <th></th>\n",
       "    </tr>\n",
       "  </thead>\n",
       "  <tbody>\n",
       "    <tr>\n",
       "      <th>Afghanistan</th>\n",
       "      <td>0</td>\n",
       "      <td>0</td>\n",
       "      <td>0</td>\n",
       "      <td>0</td>\n",
       "      <td>0</td>\n",
       "      <td>0</td>\n",
       "      <td>0</td>\n",
       "      <td>0</td>\n",
       "      <td>0</td>\n",
       "      <td>0</td>\n",
       "      <td>...</td>\n",
       "      <td>1092</td>\n",
       "      <td>1176</td>\n",
       "      <td>1279</td>\n",
       "      <td>1351</td>\n",
       "      <td>1463</td>\n",
       "      <td>1531</td>\n",
       "      <td>1703</td>\n",
       "      <td>1828</td>\n",
       "      <td>1939</td>\n",
       "      <td>2171</td>\n",
       "    </tr>\n",
       "    <tr>\n",
       "      <th>Albania</th>\n",
       "      <td>0</td>\n",
       "      <td>0</td>\n",
       "      <td>0</td>\n",
       "      <td>0</td>\n",
       "      <td>0</td>\n",
       "      <td>0</td>\n",
       "      <td>0</td>\n",
       "      <td>0</td>\n",
       "      <td>0</td>\n",
       "      <td>0</td>\n",
       "      <td>...</td>\n",
       "      <td>609</td>\n",
       "      <td>634</td>\n",
       "      <td>663</td>\n",
       "      <td>678</td>\n",
       "      <td>712</td>\n",
       "      <td>726</td>\n",
       "      <td>736</td>\n",
       "      <td>750</td>\n",
       "      <td>766</td>\n",
       "      <td>773</td>\n",
       "    </tr>\n",
       "    <tr>\n",
       "      <th>Algeria</th>\n",
       "      <td>0</td>\n",
       "      <td>0</td>\n",
       "      <td>0</td>\n",
       "      <td>0</td>\n",
       "      <td>0</td>\n",
       "      <td>0</td>\n",
       "      <td>0</td>\n",
       "      <td>0</td>\n",
       "      <td>0</td>\n",
       "      <td>0</td>\n",
       "      <td>...</td>\n",
       "      <td>2811</td>\n",
       "      <td>2910</td>\n",
       "      <td>3007</td>\n",
       "      <td>3127</td>\n",
       "      <td>3256</td>\n",
       "      <td>3382</td>\n",
       "      <td>3517</td>\n",
       "      <td>3649</td>\n",
       "      <td>3848</td>\n",
       "      <td>4006</td>\n",
       "    </tr>\n",
       "    <tr>\n",
       "      <th>Andorra</th>\n",
       "      <td>0</td>\n",
       "      <td>0</td>\n",
       "      <td>0</td>\n",
       "      <td>0</td>\n",
       "      <td>0</td>\n",
       "      <td>0</td>\n",
       "      <td>0</td>\n",
       "      <td>0</td>\n",
       "      <td>0</td>\n",
       "      <td>0</td>\n",
       "      <td>...</td>\n",
       "      <td>717</td>\n",
       "      <td>723</td>\n",
       "      <td>723</td>\n",
       "      <td>731</td>\n",
       "      <td>738</td>\n",
       "      <td>738</td>\n",
       "      <td>743</td>\n",
       "      <td>743</td>\n",
       "      <td>743</td>\n",
       "      <td>745</td>\n",
       "    </tr>\n",
       "    <tr>\n",
       "      <th>Angola</th>\n",
       "      <td>0</td>\n",
       "      <td>0</td>\n",
       "      <td>0</td>\n",
       "      <td>0</td>\n",
       "      <td>0</td>\n",
       "      <td>0</td>\n",
       "      <td>0</td>\n",
       "      <td>0</td>\n",
       "      <td>0</td>\n",
       "      <td>0</td>\n",
       "      <td>...</td>\n",
       "      <td>24</td>\n",
       "      <td>25</td>\n",
       "      <td>25</td>\n",
       "      <td>25</td>\n",
       "      <td>25</td>\n",
       "      <td>26</td>\n",
       "      <td>27</td>\n",
       "      <td>27</td>\n",
       "      <td>27</td>\n",
       "      <td>27</td>\n",
       "    </tr>\n",
       "  </tbody>\n",
       "</table>\n",
       "<p>5 rows × 101 columns</p>\n",
       "</div>"
      ],
      "text/plain": [
       "               Province/State  1/22/20  1/23/20  1/24/20  1/25/20  1/26/20  \\\n",
       "Country/Region                                                               \n",
       "Afghanistan                 0        0        0        0        0        0   \n",
       "Albania                     0        0        0        0        0        0   \n",
       "Algeria                     0        0        0        0        0        0   \n",
       "Andorra                     0        0        0        0        0        0   \n",
       "Angola                      0        0        0        0        0        0   \n",
       "\n",
       "                1/27/20  1/28/20  1/29/20  1/30/20  ...  4/21/20  4/22/20  \\\n",
       "Country/Region                                      ...                     \n",
       "Afghanistan           0        0        0        0  ...     1092     1176   \n",
       "Albania               0        0        0        0  ...      609      634   \n",
       "Algeria               0        0        0        0  ...     2811     2910   \n",
       "Andorra               0        0        0        0  ...      717      723   \n",
       "Angola                0        0        0        0  ...       24       25   \n",
       "\n",
       "                4/23/20  4/24/20  4/25/20  4/26/20  4/27/20  4/28/20  4/29/20  \\\n",
       "Country/Region                                                                  \n",
       "Afghanistan        1279     1351     1463     1531     1703     1828     1939   \n",
       "Albania             663      678      712      726      736      750      766   \n",
       "Algeria            3007     3127     3256     3382     3517     3649     3848   \n",
       "Andorra             723      731      738      738      743      743      743   \n",
       "Angola               25       25       25       26       27       27       27   \n",
       "\n",
       "                4/30/20  \n",
       "Country/Region           \n",
       "Afghanistan        2171  \n",
       "Albania             773  \n",
       "Algeria            4006  \n",
       "Andorra             745  \n",
       "Angola               27  \n",
       "\n",
       "[5 rows x 101 columns]"
      ]
     },
     "execution_count": 482,
     "metadata": {},
     "output_type": "execute_result"
    }
   ],
   "source": [
    "data_aggregated.head()"
   ]
  },
  {
   "cell_type": "code",
   "execution_count": 483,
   "metadata": {},
   "outputs": [
    {
     "data": {
      "text/plain": [
       "(187, 101)"
      ]
     },
     "execution_count": 483,
     "metadata": {},
     "output_type": "execute_result"
    }
   ],
   "source": [
    "data_aggregated.shape"
   ]
  },
  {
   "cell_type": "markdown",
   "metadata": {},
   "source": [
    "### Task 2.4: Visualizing data related to a country, for example, China\n",
    "Visualization always helps us better understand our data."
   ]
  },
  {
   "cell_type": "code",
   "execution_count": 484,
   "metadata": {},
   "outputs": [
    {
     "data": {
      "text/plain": [
       "<matplotlib.legend.Legend at 0x255a23b68d0>"
      ]
     },
     "execution_count": 484,
     "metadata": {},
     "output_type": "execute_result"
    },
    {
     "data": {
      "image/png": "[encoded data removed]",
      "text/plain": [
       "<Figure size 640x480 with 1 Axes>"
      ]
     },
     "metadata": {},
     "output_type": "display_data"
    }
   ],
   "source": [
    "# Select only the numeric (date) columns for China and plot\n",
    "data_aggregated.loc['China'].drop('Province/State', errors='ignore').plot()\n",
    "data_aggregated.loc['Italy'].drop('Province/State', errors='ignore').plot()\n",
    "data_aggregated.loc['Spain'].drop('Province/State', errors='ignore').plot()\n",
    "\n",
    "plt.legend()"
   ]
  },
  {
   "cell_type": "markdown",
   "metadata": {},
   "source": [
    "### Task 3: Calculating a good measure\n",
    "We need to find a good measure, represented as a number, describing the spread of the virus in a country."
   ]
  },
  {
   "cell_type": "code",
   "execution_count": 485,
   "metadata": {},
   "outputs": [
    {
     "data": {
      "text/plain": [
       "<Axes: >"
      ]
     },
     "execution_count": 485,
     "metadata": {},
     "output_type": "execute_result"
    },
    {
     "data": {
      "image/png": "[encoded data removed]",
      "text/plain": [
       "<Figure size 640x480 with 1 Axes>"
      ]
     },
     "metadata": {},
     "output_type": "display_data"
    }
   ],
   "source": [
    "data_aggregated.loc['China'].drop('Province/State', errors='ignore').plot()"
   ]
  },
  {
   "cell_type": "code",
   "execution_count": 486,
   "metadata": {},
   "outputs": [
    {
     "data": {
      "text/plain": [
       "<Axes: >"
      ]
     },
     "execution_count": 486,
     "metadata": {},
     "output_type": "execute_result"
    },
    {
     "data": {
      "image/png": "[encoded data removed]",
      "text/plain": [
       "<Figure size 640x480 with 1 Axes>"
      ]
     },
     "metadata": {},
     "output_type": "display_data"
    }
   ],
   "source": [
    "# Plot the first 3 date columns for China (excluding 'Province/State' if present)\n",
    "data_aggregated.loc['China'].drop('Province/State', errors='ignore').iloc[:3].plot()"
   ]
  },
  {
   "cell_type": "markdown",
   "metadata": {},
   "source": [
    "### Task 3.1: Calculating the first derivative of the curve"
   ]
  },
  {
   "cell_type": "code",
   "execution_count": 487,
   "metadata": {},
   "outputs": [
    {
     "data": {
      "text/plain": [
       "<Axes: >"
      ]
     },
     "execution_count": 487,
     "metadata": {},
     "output_type": "execute_result"
    },
    {
     "data": {
      "image/png": "[encoded data removed]",
      "text/plain": [
       "<Figure size 640x480 with 1 Axes>"
      ]
     },
     "metadata": {},
     "output_type": "display_data"
    }
   ],
   "source": [
    "data_aggregated.loc['China'].drop('Province/State', errors='ignore').diff().plot()"
   ]
  },
  {
   "cell_type": "markdown",
   "metadata": {},
   "source": [
    "### Task 3.2: Find the maximum infection rate for China"
   ]
  },
  {
   "cell_type": "code",
   "execution_count": 488,
   "metadata": {},
   "outputs": [
    {
     "data": {
      "text/plain": [
       "15136"
      ]
     },
     "execution_count": 488,
     "metadata": {},
     "output_type": "execute_result"
    }
   ],
   "source": [
    "data_aggregated.loc['China'].drop('Province/State', errors='ignore').diff().max()"
   ]
  },
  {
   "cell_type": "code",
   "execution_count": 489,
   "metadata": {},
   "outputs": [
    {
     "data": {
      "text/plain": [
       "6557"
      ]
     },
     "execution_count": 489,
     "metadata": {},
     "output_type": "execute_result"
    }
   ],
   "source": [
    "data_aggregated.loc['Italy'].drop('Province/State', errors='ignore').diff().max()"
   ]
  },
  {
   "cell_type": "code",
   "execution_count": 490,
   "metadata": {},
   "outputs": [
    {
     "data": {
      "text/plain": [
       "9630"
      ]
     },
     "execution_count": 490,
     "metadata": {},
     "output_type": "execute_result"
    }
   ],
   "source": [
    "data_aggregated.loc['Spain'].drop('Province/State', errors='ignore').diff().max()"
   ]
  },
  {
   "cell_type": "code",
   "execution_count": 491,
   "metadata": {},
   "outputs": [
    {
     "data": {
      "text/plain": [
       "36188"
      ]
     },
     "execution_count": 491,
     "metadata": {},
     "output_type": "execute_result"
    }
   ],
   "source": [
    "data_aggregated.loc['US'].drop('Province/State', errors='ignore').diff().max()"
   ]
  },
  {
   "cell_type": "markdown",
   "metadata": {},
   "source": [
    "### Task 3.3: Find the maximum infection rate for all countries"
   ]
  },
  {
   "cell_type": "code",
   "execution_count": 492,
   "metadata": {},
   "outputs": [],
   "source": [
    "max_infection_rates = []\n",
    "for c in countries:\n",
    "    max_infection_rates.append(\n",
    "        data_aggregated.loc[c].drop('Province/State', errors='ignore').diff().max()\n",
    "    )\n",
    "data_aggregated['max_infection_rate'] = max_infection_rates"
   ]
  },
  {
   "cell_type": "code",
   "execution_count": 493,
   "metadata": {},
   "outputs": [
    {
     "data": {
      "application/vnd.microsoft.datawrangler.viewer.v0+json": {
       "columns": [
        {
         "name": "Country/Region",
         "rawType": "object",
         "type": "string"
        },
        {
         "name": "Province/State",
         "rawType": "object",
         "type": "unknown"
        },
        {
         "name": "1/22/20",
         "rawType": "int64",
         "type": "integer"
        },
        {
         "name": "1/23/20",
         "rawType": "int64",
         "type": "integer"
        },
        {
         "name": "1/24/20",
         "rawType": "int64",
         "type": "integer"
        },
        {
         "name": "1/25/20",
         "rawType": "int64",
         "type": "integer"
        },
        {
         "name": "1/26/20",
         "rawType": "int64",
         "type": "integer"
        },
        {
         "name": "1/27/20",
         "rawType": "int64",
         "type": "integer"
        },
        {
         "name": "1/28/20",
         "rawType": "int64",
         "type": "integer"
        },
        {
         "name": "1/29/20",
         "rawType": "int64",
         "type": "integer"
        },
        {
         "name": "1/30/20",
         "rawType": "int64",
         "type": "integer"
        },
        {
         "name": "1/31/20",
         "rawType": "int64",
         "type": "integer"
        },
        {
         "name": "2/1/20",
         "rawType": "int64",
         "type": "integer"
        },
        {
         "name": "2/2/20",
         "rawType": "int64",
         "type": "integer"
        },
        {
         "name": "2/3/20",
         "rawType": "int64",
         "type": "integer"
        },
        {
         "name": "2/4/20",
         "rawType": "int64",
         "type": "integer"
        },
        {
         "name": "2/5/20",
         "rawType": "int64",
         "type": "integer"
        },
        {
         "name": "2/6/20",
         "rawType": "int64",
         "type": "integer"
        },
        {
         "name": "2/7/20",
         "rawType": "int64",
         "type": "integer"
        },
        {
         "name": "2/8/20",
         "rawType": "int64",
         "type": "integer"
        },
        {
         "name": "2/9/20",
         "rawType": "int64",
         "type": "integer"
        },
        {
         "name": "2/10/20",
         "rawType": "int64",
         "type": "integer"
        },
        {
         "name": "2/11/20",
         "rawType": "int64",
         "type": "integer"
        },
        {
         "name": "2/12/20",
         "rawType": "int64",
         "type": "integer"
        },
        {
         "name": "2/13/20",
         "rawType": "int64",
         "type": "integer"
        },
        {
         "name": "2/14/20",
         "rawType": "int64",
         "type": "integer"
        },
        {
         "name": "2/15/20",
         "rawType": "int64",
         "type": "integer"
        },
        {
         "name": "2/16/20",
         "rawType": "int64",
         "type": "integer"
        },
        {
         "name": "2/17/20",
         "rawType": "int64",
         "type": "integer"
        },
        {
         "name": "2/18/20",
         "rawType": "int64",
         "type": "integer"
        },
        {
         "name": "2/19/20",
         "rawType": "int64",
         "type": "integer"
        },
        {
         "name": "2/20/20",
         "rawType": "int64",
         "type": "integer"
        },
        {
         "name": "2/21/20",
         "rawType": "int64",
         "type": "integer"
        },
        {
         "name": "2/22/20",
         "rawType": "int64",
         "type": "integer"
        },
        {
         "name": "2/23/20",
         "rawType": "int64",
         "type": "integer"
        },
        {
         "name": "2/24/20",
         "rawType": "int64",
         "type": "integer"
        },
        {
         "name": "2/25/20",
         "rawType": "int64",
         "type": "integer"
        },
        {
         "name": "2/26/20",
         "rawType": "int64",
         "type": "integer"
        },
        {
         "name": "2/27/20",
         "rawType": "int64",
         "type": "integer"
        },
        {
         "name": "2/28/20",
         "rawType": "int64",
         "type": "integer"
        },
        {
         "name": "2/29/20",
         "rawType": "int64",
         "type": "integer"
        },
        {
         "name": "3/1/20",
         "rawType": "int64",
         "type": "integer"
        },
        {
         "name": "3/2/20",
         "rawType": "int64",
         "type": "integer"
        },
        {
         "name": "3/3/20",
         "rawType": "int64",
         "type": "integer"
        },
        {
         "name": "3/4/20",
         "rawType": "int64",
         "type": "integer"
        },
        {
         "name": "3/5/20",
         "rawType": "int64",
         "type": "integer"
        },
        {
         "name": "3/6/20",
         "rawType": "int64",
         "type": "integer"
        },
        {
         "name": "3/7/20",
         "rawType": "int64",
         "type": "integer"
        },
        {
         "name": "3/8/20",
         "rawType": "int64",
         "type": "integer"
        },
        {
         "name": "3/9/20",
         "rawType": "int64",
         "type": "integer"
        },
        {
         "name": "3/10/20",
         "rawType": "int64",
         "type": "integer"
        },
        {
         "name": "3/11/20",
         "rawType": "int64",
         "type": "integer"
        },
        {
         "name": "3/12/20",
         "rawType": "int64",
         "type": "integer"
        },
        {
         "name": "3/13/20",
         "rawType": "int64",
         "type": "integer"
        },
        {
         "name": "3/14/20",
         "rawType": "int64",
         "type": "integer"
        },
        {
         "name": "3/15/20",
         "rawType": "int64",
         "type": "integer"
        },
        {
         "name": "3/16/20",
         "rawType": "int64",
         "type": "integer"
        },
        {
         "name": "3/17/20",
         "rawType": "int64",
         "type": "integer"
        },
        {
         "name": "3/18/20",
         "rawType": "int64",
         "type": "integer"
        },
        {
         "name": "3/19/20",
         "rawType": "int64",
         "type": "integer"
        },
        {
         "name": "3/20/20",
         "rawType": "int64",
         "type": "integer"
        },
        {
         "name": "3/21/20",
         "rawType": "int64",
         "type": "integer"
        },
        {
         "name": "3/22/20",
         "rawType": "int64",
         "type": "integer"
        },
        {
         "name": "3/23/20",
         "rawType": "int64",
         "type": "integer"
        },
        {
         "name": "3/24/20",
         "rawType": "int64",
         "type": "integer"
        },
        {
         "name": "3/25/20",
         "rawType": "int64",
         "type": "integer"
        },
        {
         "name": "3/26/20",
         "rawType": "int64",
         "type": "integer"
        },
        {
         "name": "3/27/20",
         "rawType": "int64",
         "type": "integer"
        },
        {
         "name": "3/28/20",
         "rawType": "int64",
         "type": "integer"
        },
        {
         "name": "3/29/20",
         "rawType": "int64",
         "type": "integer"
        },
        {
         "name": "3/30/20",
         "rawType": "int64",
         "type": "integer"
        },
        {
         "name": "3/31/20",
         "rawType": "int64",
         "type": "integer"
        },
        {
         "name": "4/1/20",
         "rawType": "int64",
         "type": "integer"
        },
        {
         "name": "4/2/20",
         "rawType": "int64",
         "type": "integer"
        },
        {
         "name": "4/3/20",
         "rawType": "int64",
         "type": "integer"
        },
        {
         "name": "4/4/20",
         "rawType": "int64",
         "type": "integer"
        },
        {
         "name": "4/5/20",
         "rawType": "int64",
         "type": "integer"
        },
        {
         "name": "4/6/20",
         "rawType": "int64",
         "type": "integer"
        },
        {
         "name": "4/7/20",
         "rawType": "int64",
         "type": "integer"
        },
        {
         "name": "4/8/20",
         "rawType": "int64",
         "type": "integer"
        },
        {
         "name": "4/9/20",
         "rawType": "int64",
         "type": "integer"
        },
        {
         "name": "4/10/20",
         "rawType": "int64",
         "type": "integer"
        },
        {
         "name": "4/11/20",
         "rawType": "int64",
         "type": "integer"
        },
        {
         "name": "4/12/20",
         "rawType": "int64",
         "type": "integer"
        },
        {
         "name": "4/13/20",
         "rawType": "int64",
         "type": "integer"
        },
        {
         "name": "4/14/20",
         "rawType": "int64",
         "type": "integer"
        },
        {
         "name": "4/15/20",
         "rawType": "int64",
         "type": "integer"
        },
        {
         "name": "4/16/20",
         "rawType": "int64",
         "type": "integer"
        },
        {
         "name": "4/17/20",
         "rawType": "int64",
         "type": "integer"
        },
        {
         "name": "4/18/20",
         "rawType": "int64",
         "type": "integer"
        },
        {
         "name": "4/19/20",
         "rawType": "int64",
         "type": "integer"
        },
        {
         "name": "4/20/20",
         "rawType": "int64",
         "type": "integer"
        },
        {
         "name": "4/21/20",
         "rawType": "int64",
         "type": "integer"
        },
        {
         "name": "4/22/20",
         "rawType": "int64",
         "type": "integer"
        },
        {
         "name": "4/23/20",
         "rawType": "int64",
         "type": "integer"
        },
        {
         "name": "4/24/20",
         "rawType": "int64",
         "type": "integer"
        },
        {
         "name": "4/25/20",
         "rawType": "int64",
         "type": "integer"
        },
        {
         "name": "4/26/20",
         "rawType": "int64",
         "type": "integer"
        },
        {
         "name": "4/27/20",
         "rawType": "int64",
         "type": "integer"
        },
        {
         "name": "4/28/20",
         "rawType": "int64",
         "type": "integer"
        },
        {
         "name": "4/29/20",
         "rawType": "int64",
         "type": "integer"
        },
        {
         "name": "4/30/20",
         "rawType": "int64",
         "type": "integer"
        },
        {
         "name": "max_infection_rate",
         "rawType": "int64",
         "type": "integer"
        }
       ],
       "ref": "4ef67a6a-2e0f-4674-acbb-4ba985684cae",
       "rows": [
        [
         "Afghanistan",
         "0",
         "0",
         "0",
         "0",
         "0",
         "0",
         "0",
         "0",
         "0",
         "0",
         "0",
         "0",
         "0",
         "0",
         "0",
         "0",
         "0",
         "0",
         "0",
         "0",
         "0",
         "0",
         "0",
         "0",
         "0",
         "0",
         "0",
         "0",
         "0",
         "0",
         "0",
         "0",
         "0",
         "0",
         "1",
         "1",
         "1",
         "1",
         "1",
         "1",
         "1",
         "1",
         "1",
         "1",
         "1",
         "1",
         "1",
         "4",
         "4",
         "5",
         "7",
         "7",
         "7",
         "11",
         "16",
         "21",
         "22",
         "22",
         "22",
         "24",
         "24",
         "40",
         "40",
         "74",
         "84",
         "94",
         "110",
         "110",
         "120",
         "170",
         "174",
         "237",
         "273",
         "281",
         "299",
         "349",
         "367",
         "423",
         "444",
         "484",
         "521",
         "555",
         "607",
         "665",
         "714",
         "784",
         "840",
         "906",
         "933",
         "996",
         "1026",
         "1092",
         "1176",
         "1279",
         "1351",
         "1463",
         "1531",
         "1703",
         "1828",
         "1939",
         "2171",
         "232"
        ],
        [
         "Albania",
         "0",
         "0",
         "0",
         "0",
         "0",
         "0",
         "0",
         "0",
         "0",
         "0",
         "0",
         "0",
         "0",
         "0",
         "0",
         "0",
         "0",
         "0",
         "0",
         "0",
         "0",
         "0",
         "0",
         "0",
         "0",
         "0",
         "0",
         "0",
         "0",
         "0",
         "0",
         "0",
         "0",
         "0",
         "0",
         "0",
         "0",
         "0",
         "0",
         "0",
         "0",
         "0",
         "0",
         "0",
         "0",
         "0",
         "0",
         "0",
         "2",
         "10",
         "12",
         "23",
         "33",
         "38",
         "42",
         "51",
         "55",
         "59",
         "64",
         "70",
         "76",
         "89",
         "104",
         "123",
         "146",
         "174",
         "186",
         "197",
         "212",
         "223",
         "243",
         "259",
         "277",
         "304",
         "333",
         "361",
         "377",
         "383",
         "400",
         "409",
         "416",
         "433",
         "446",
         "467",
         "475",
         "494",
         "518",
         "539",
         "548",
         "562",
         "584",
         "609",
         "634",
         "663",
         "678",
         "712",
         "726",
         "736",
         "750",
         "766",
         "773",
         "34"
        ],
        [
         "Algeria",
         "0",
         "0",
         "0",
         "0",
         "0",
         "0",
         "0",
         "0",
         "0",
         "0",
         "0",
         "0",
         "0",
         "0",
         "0",
         "0",
         "0",
         "0",
         "0",
         "0",
         "0",
         "0",
         "0",
         "0",
         "0",
         "0",
         "0",
         "0",
         "0",
         "0",
         "0",
         "0",
         "0",
         "0",
         "0",
         "1",
         "1",
         "1",
         "1",
         "1",
         "1",
         "3",
         "5",
         "12",
         "12",
         "17",
         "17",
         "19",
         "20",
         "20",
         "20",
         "24",
         "26",
         "37",
         "48",
         "54",
         "60",
         "74",
         "87",
         "90",
         "139",
         "201",
         "230",
         "264",
         "302",
         "367",
         "409",
         "454",
         "511",
         "584",
         "716",
         "847",
         "986",
         "1171",
         "1251",
         "1320",
         "1423",
         "1468",
         "1572",
         "1666",
         "1761",
         "1825",
         "1914",
         "1983",
         "2070",
         "2160",
         "2268",
         "2418",
         "2534",
         "2629",
         "2718",
         "2811",
         "2910",
         "3007",
         "3127",
         "3256",
         "3382",
         "3517",
         "3649",
         "3848",
         "4006",
         "199"
        ],
        [
         "Andorra",
         "0",
         "0",
         "0",
         "0",
         "0",
         "0",
         "0",
         "0",
         "0",
         "0",
         "0",
         "0",
         "0",
         "0",
         "0",
         "0",
         "0",
         "0",
         "0",
         "0",
         "0",
         "0",
         "0",
         "0",
         "0",
         "0",
         "0",
         "0",
         "0",
         "0",
         "0",
         "0",
         "0",
         "0",
         "0",
         "0",
         "0",
         "0",
         "0",
         "0",
         "0",
         "1",
         "1",
         "1",
         "1",
         "1",
         "1",
         "1",
         "1",
         "1",
         "1",
         "1",
         "1",
         "1",
         "1",
         "2",
         "39",
         "39",
         "53",
         "75",
         "88",
         "113",
         "133",
         "164",
         "188",
         "224",
         "267",
         "308",
         "334",
         "370",
         "376",
         "390",
         "428",
         "439",
         "466",
         "501",
         "525",
         "545",
         "564",
         "583",
         "601",
         "601",
         "638",
         "646",
         "659",
         "673",
         "673",
         "696",
         "704",
         "713",
         "717",
         "717",
         "723",
         "723",
         "731",
         "738",
         "738",
         "743",
         "743",
         "743",
         "745",
         "43"
        ],
        [
         "Angola",
         "0",
         "0",
         "0",
         "0",
         "0",
         "0",
         "0",
         "0",
         "0",
         "0",
         "0",
         "0",
         "0",
         "0",
         "0",
         "0",
         "0",
         "0",
         "0",
         "0",
         "0",
         "0",
         "0",
         "0",
         "0",
         "0",
         "0",
         "0",
         "0",
         "0",
         "0",
         "0",
         "0",
         "0",
         "0",
         "0",
         "0",
         "0",
         "0",
         "0",
         "0",
         "0",
         "0",
         "0",
         "0",
         "0",
         "0",
         "0",
         "0",
         "0",
         "0",
         "0",
         "0",
         "0",
         "0",
         "0",
         "0",
         "0",
         "0",
         "1",
         "2",
         "2",
         "3",
         "3",
         "3",
         "4",
         "4",
         "5",
         "7",
         "7",
         "7",
         "8",
         "8",
         "8",
         "10",
         "14",
         "16",
         "17",
         "19",
         "19",
         "19",
         "19",
         "19",
         "19",
         "19",
         "19",
         "19",
         "19",
         "24",
         "24",
         "24",
         "24",
         "25",
         "25",
         "25",
         "25",
         "26",
         "27",
         "27",
         "27",
         "27",
         "5"
        ]
       ],
       "shape": {
        "columns": 102,
        "rows": 5
       }
      },
      "text/html": [
       "<div>\n",
       "<style scoped>\n",
       "    .dataframe tbody tr th:only-of-type {\n",
       "        vertical-align: middle;\n",
       "    }\n",
       "\n",
       "    .dataframe tbody tr th {\n",
       "        vertical-align: top;\n",
       "    }\n",
       "\n",
       "    .dataframe thead th {\n",
       "        text-align: right;\n",
       "    }\n",
       "</style>\n",
       "<table border=\"1\" class=\"dataframe\">\n",
       "  <thead>\n",
       "    <tr style=\"text-align: right;\">\n",
       "      <th></th>\n",
       "      <th>Province/State</th>\n",
       "      <th>1/22/20</th>\n",
       "      <th>1/23/20</th>\n",
       "      <th>1/24/20</th>\n",
       "      <th>1/25/20</th>\n",
       "      <th>1/26/20</th>\n",
       "      <th>1/27/20</th>\n",
       "      <th>1/28/20</th>\n",
       "      <th>1/29/20</th>\n",
       "      <th>1/30/20</th>\n",
       "      <th>...</th>\n",
       "      <th>4/22/20</th>\n",
       "      <th>4/23/20</th>\n",
       "      <th>4/24/20</th>\n",
       "      <th>4/25/20</th>\n",
       "      <th>4/26/20</th>\n",
       "      <th>4/27/20</th>\n",
       "      <th>4/28/20</th>\n",
       "      <th>4/29/20</th>\n",
       "      <th>4/30/20</th>\n",
       "      <th>max_infection_rate</th>\n",
       "    </tr>\n",
       "    <tr>\n",
       "      <th>Country/Region</th>\n",
       "      <th></th>\n",
       "      <th></th>\n",
       "      <th></th>\n",
       "      <th></th>\n",
       "      <th></th>\n",
       "      <th></th>\n",
       "      <th></th>\n",
       "      <th></th>\n",
       "      <th></th>\n",
       "      <th></th>\n",
       "      <th></th>\n",
       "      <th></th>\n",
       "      <th></th>\n",
       "      <th></th>\n",
       "      <th></th>\n",
       "      <th></th>\n",
       "      <th></th>\n",
       "      <th></th>\n",
       "      <th></th>\n",
       "      <th></th>\n",
       "      <th></th>\n",
       "    </tr>\n",
       "  </thead>\n",
       "  <tbody>\n",
       "    <tr>\n",
       "      <th>Afghanistan</th>\n",
       "      <td>0</td>\n",
       "      <td>0</td>\n",
       "      <td>0</td>\n",
       "      <td>0</td>\n",
       "      <td>0</td>\n",
       "      <td>0</td>\n",
       "      <td>0</td>\n",
       "      <td>0</td>\n",
       "      <td>0</td>\n",
       "      <td>0</td>\n",
       "      <td>...</td>\n",
       "      <td>1176</td>\n",
       "      <td>1279</td>\n",
       "      <td>1351</td>\n",
       "      <td>1463</td>\n",
       "      <td>1531</td>\n",
       "      <td>1703</td>\n",
       "      <td>1828</td>\n",
       "      <td>1939</td>\n",
       "      <td>2171</td>\n",
       "      <td>232</td>\n",
       "    </tr>\n",
       "    <tr>\n",
       "      <th>Albania</th>\n",
       "      <td>0</td>\n",
       "      <td>0</td>\n",
       "      <td>0</td>\n",
       "      <td>0</td>\n",
       "      <td>0</td>\n",
       "      <td>0</td>\n",
       "      <td>0</td>\n",
       "      <td>0</td>\n",
       "      <td>0</td>\n",
       "      <td>0</td>\n",
       "      <td>...</td>\n",
       "      <td>634</td>\n",
       "      <td>663</td>\n",
       "      <td>678</td>\n",
       "      <td>712</td>\n",
       "      <td>726</td>\n",
       "      <td>736</td>\n",
       "      <td>750</td>\n",
       "      <td>766</td>\n",
       "      <td>773</td>\n",
       "      <td>34</td>\n",
       "    </tr>\n",
       "    <tr>\n",
       "      <th>Algeria</th>\n",
       "      <td>0</td>\n",
       "      <td>0</td>\n",
       "      <td>0</td>\n",
       "      <td>0</td>\n",
       "      <td>0</td>\n",
       "      <td>0</td>\n",
       "      <td>0</td>\n",
       "      <td>0</td>\n",
       "      <td>0</td>\n",
       "      <td>0</td>\n",
       "      <td>...</td>\n",
       "      <td>2910</td>\n",
       "      <td>3007</td>\n",
       "      <td>3127</td>\n",
       "      <td>3256</td>\n",
       "      <td>3382</td>\n",
       "      <td>3517</td>\n",
       "      <td>3649</td>\n",
       "      <td>3848</td>\n",
       "      <td>4006</td>\n",
       "      <td>199</td>\n",
       "    </tr>\n",
       "    <tr>\n",
       "      <th>Andorra</th>\n",
       "      <td>0</td>\n",
       "      <td>0</td>\n",
       "      <td>0</td>\n",
       "      <td>0</td>\n",
       "      <td>0</td>\n",
       "      <td>0</td>\n",
       "      <td>0</td>\n",
       "      <td>0</td>\n",
       "      <td>0</td>\n",
       "      <td>0</td>\n",
       "      <td>...</td>\n",
       "      <td>723</td>\n",
       "      <td>723</td>\n",
       "      <td>731</td>\n",
       "      <td>738</td>\n",
       "      <td>738</td>\n",
       "      <td>743</td>\n",
       "      <td>743</td>\n",
       "      <td>743</td>\n",
       "      <td>745</td>\n",
       "      <td>43</td>\n",
       "    </tr>\n",
       "    <tr>\n",
       "      <th>Angola</th>\n",
       "      <td>0</td>\n",
       "      <td>0</td>\n",
       "      <td>0</td>\n",
       "      <td>0</td>\n",
       "      <td>0</td>\n",
       "      <td>0</td>\n",
       "      <td>0</td>\n",
       "      <td>0</td>\n",
       "      <td>0</td>\n",
       "      <td>0</td>\n",
       "      <td>...</td>\n",
       "      <td>25</td>\n",
       "      <td>25</td>\n",
       "      <td>25</td>\n",
       "      <td>25</td>\n",
       "      <td>26</td>\n",
       "      <td>27</td>\n",
       "      <td>27</td>\n",
       "      <td>27</td>\n",
       "      <td>27</td>\n",
       "      <td>5</td>\n",
       "    </tr>\n",
       "  </tbody>\n",
       "</table>\n",
       "<p>5 rows × 102 columns</p>\n",
       "</div>"
      ],
      "text/plain": [
       "               Province/State  1/22/20  1/23/20  1/24/20  1/25/20  1/26/20  \\\n",
       "Country/Region                                                               \n",
       "Afghanistan                 0        0        0        0        0        0   \n",
       "Albania                     0        0        0        0        0        0   \n",
       "Algeria                     0        0        0        0        0        0   \n",
       "Andorra                     0        0        0        0        0        0   \n",
       "Angola                      0        0        0        0        0        0   \n",
       "\n",
       "                1/27/20  1/28/20  1/29/20  1/30/20  ...  4/22/20  4/23/20  \\\n",
       "Country/Region                                      ...                     \n",
       "Afghanistan           0        0        0        0  ...     1176     1279   \n",
       "Albania               0        0        0        0  ...      634      663   \n",
       "Algeria               0        0        0        0  ...     2910     3007   \n",
       "Andorra               0        0        0        0  ...      723      723   \n",
       "Angola                0        0        0        0  ...       25       25   \n",
       "\n",
       "                4/24/20  4/25/20  4/26/20  4/27/20  4/28/20  4/29/20  4/30/20  \\\n",
       "Country/Region                                                                  \n",
       "Afghanistan        1351     1463     1531     1703     1828     1939     2171   \n",
       "Albania             678      712      726      736      750      766      773   \n",
       "Algeria            3127     3256     3382     3517     3649     3848     4006   \n",
       "Andorra             731      738      738      743      743      743      745   \n",
       "Angola               25       25       26       27       27       27       27   \n",
       "\n",
       "                max_infection_rate  \n",
       "Country/Region                      \n",
       "Afghanistan                    232  \n",
       "Albania                         34  \n",
       "Algeria                        199  \n",
       "Andorra                         43  \n",
       "Angola                           5  \n",
       "\n",
       "[5 rows x 102 columns]"
      ]
     },
     "execution_count": 493,
     "metadata": {},
     "output_type": "execute_result"
    }
   ],
   "source": [
    "data_aggregated.head()"
   ]
  },
  {
   "cell_type": "markdown",
   "metadata": {},
   "source": [
    "### Task 3.4: Create a new DataFrame with only the needed column"
   ]
  },
  {
   "cell_type": "code",
   "execution_count": 494,
   "metadata": {},
   "outputs": [],
   "source": [
    "data_dropped = pd.DataFrame(data_aggregated['max_infection_rate'])"
   ]
  },
  {
   "cell_type": "code",
   "execution_count": 495,
   "metadata": {},
   "outputs": [
    {
     "data": {
      "application/vnd.microsoft.datawrangler.viewer.v0+json": {
       "columns": [
        {
         "name": "Country/Region",
         "rawType": "object",
         "type": "string"
        },
        {
         "name": "max_infection_rate",
         "rawType": "int64",
         "type": "integer"
        }
       ],
       "ref": "039f8e17-73e5-4d2b-a59e-e4c7d1512674",
       "rows": [
        [
         "Afghanistan",
         "232"
        ],
        [
         "Albania",
         "34"
        ],
        [
         "Algeria",
         "199"
        ],
        [
         "Andorra",
         "43"
        ],
        [
         "Angola",
         "5"
        ]
       ],
       "shape": {
        "columns": 1,
        "rows": 5
       }
      },
      "text/html": [
       "<div>\n",
       "<style scoped>\n",
       "    .dataframe tbody tr th:only-of-type {\n",
       "        vertical-align: middle;\n",
       "    }\n",
       "\n",
       "    .dataframe tbody tr th {\n",
       "        vertical-align: top;\n",
       "    }\n",
       "\n",
       "    .dataframe thead th {\n",
       "        text-align: right;\n",
       "    }\n",
       "</style>\n",
       "<table border=\"1\" class=\"dataframe\">\n",
       "  <thead>\n",
       "    <tr style=\"text-align: right;\">\n",
       "      <th></th>\n",
       "      <th>max_infection_rate</th>\n",
       "    </tr>\n",
       "    <tr>\n",
       "      <th>Country/Region</th>\n",
       "      <th></th>\n",
       "    </tr>\n",
       "  </thead>\n",
       "  <tbody>\n",
       "    <tr>\n",
       "      <th>Afghanistan</th>\n",
       "      <td>232</td>\n",
       "    </tr>\n",
       "    <tr>\n",
       "      <th>Albania</th>\n",
       "      <td>34</td>\n",
       "    </tr>\n",
       "    <tr>\n",
       "      <th>Algeria</th>\n",
       "      <td>199</td>\n",
       "    </tr>\n",
       "    <tr>\n",
       "      <th>Andorra</th>\n",
       "      <td>43</td>\n",
       "    </tr>\n",
       "    <tr>\n",
       "      <th>Angola</th>\n",
       "      <td>5</td>\n",
       "    </tr>\n",
       "  </tbody>\n",
       "</table>\n",
       "</div>"
      ],
      "text/plain": [
       "                max_infection_rate\n",
       "Country/Region                    \n",
       "Afghanistan                    232\n",
       "Albania                         34\n",
       "Algeria                        199\n",
       "Andorra                         43\n",
       "Angola                           5"
      ]
     },
     "execution_count": 495,
     "metadata": {},
     "output_type": "execute_result"
    }
   ],
   "source": [
    "data_dropped.head()"
   ]
  },
  {
   "cell_type": "code",
   "execution_count": 496,
   "metadata": {},
   "outputs": [],
   "source": [
    "corona_data = data_dropped"
   ]
  },
  {
   "cell_type": "markdown",
   "metadata": {},
   "source": [
    "### Task4: \n",
    "- Importing the WorldHappinessReport.csv dataset\n",
    "- selecting needed columns for our analysis \n",
    "- join the datasets \n",
    "- calculate the correlations as the result of our analysis"
   ]
  },
  {
   "cell_type": "markdown",
   "metadata": {},
   "source": [
    "### Task 4.1 : importing the dataset"
   ]
  },
  {
   "cell_type": "code",
   "execution_count": 497,
   "metadata": {},
   "outputs": [],
   "source": [
    "happiness_report = pd.read_csv('Datasets/worldwide_happiness_report.csv')"
   ]
  },
  {
   "cell_type": "code",
   "execution_count": 498,
   "metadata": {},
   "outputs": [
    {
     "data": {
      "application/vnd.microsoft.datawrangler.viewer.v0+json": {
       "columns": [
        {
         "name": "index",
         "rawType": "int64",
         "type": "integer"
        },
        {
         "name": "Overall rank",
         "rawType": "int64",
         "type": "integer"
        },
        {
         "name": "Country or region",
         "rawType": "object",
         "type": "string"
        },
        {
         "name": "Score",
         "rawType": "float64",
         "type": "float"
        },
        {
         "name": "GDP per capita",
         "rawType": "float64",
         "type": "float"
        },
        {
         "name": "Social support",
         "rawType": "float64",
         "type": "float"
        },
        {
         "name": "Healthy life expectancy",
         "rawType": "float64",
         "type": "float"
        },
        {
         "name": "Freedom to make life choices",
         "rawType": "float64",
         "type": "float"
        },
        {
         "name": "Generosity",
         "rawType": "float64",
         "type": "float"
        },
        {
         "name": "Perceptions of corruption",
         "rawType": "float64",
         "type": "float"
        }
       ],
       "ref": "1979ed15-60cf-40e8-a12d-0e18fb2df4e8",
       "rows": [
        [
         "0",
         "1",
         "Finland",
         "7.769",
         "1.34",
         "1.587",
         "0.986",
         "0.596",
         "0.153",
         "0.393"
        ],
        [
         "1",
         "2",
         "Denmark",
         "7.6",
         "1.383",
         "1.573",
         "0.996",
         "0.592",
         "0.252",
         "0.41"
        ],
        [
         "2",
         "3",
         "Norway",
         "7.554",
         "1.488",
         "1.582",
         "1.028",
         "0.603",
         "0.271",
         "0.341"
        ],
        [
         "3",
         "4",
         "Iceland",
         "7.494",
         "1.38",
         "1.624",
         "1.026",
         "0.591",
         "0.354",
         "0.118"
        ],
        [
         "4",
         "5",
         "Netherlands",
         "7.488",
         "1.396",
         "1.522",
         "0.999",
         "0.557",
         "0.322",
         "0.298"
        ]
       ],
       "shape": {
        "columns": 9,
        "rows": 5
       }
      },
      "text/html": [
       "<div>\n",
       "<style scoped>\n",
       "    .dataframe tbody tr th:only-of-type {\n",
       "        vertical-align: middle;\n",
       "    }\n",
       "\n",
       "    .dataframe tbody tr th {\n",
       "        vertical-align: top;\n",
       "    }\n",
       "\n",
       "    .dataframe thead th {\n",
       "        text-align: right;\n",
       "    }\n",
       "</style>\n",
       "<table border=\"1\" class=\"dataframe\">\n",
       "  <thead>\n",
       "    <tr style=\"text-align: right;\">\n",
       "      <th></th>\n",
       "      <th>Overall rank</th>\n",
       "      <th>Country or region</th>\n",
       "      <th>Score</th>\n",
       "      <th>GDP per capita</th>\n",
       "      <th>Social support</th>\n",
       "      <th>Healthy life expectancy</th>\n",
       "      <th>Freedom to make life choices</th>\n",
       "      <th>Generosity</th>\n",
       "      <th>Perceptions of corruption</th>\n",
       "    </tr>\n",
       "  </thead>\n",
       "  <tbody>\n",
       "    <tr>\n",
       "      <th>0</th>\n",
       "      <td>1</td>\n",
       "      <td>Finland</td>\n",
       "      <td>7.769</td>\n",
       "      <td>1.340</td>\n",
       "      <td>1.587</td>\n",
       "      <td>0.986</td>\n",
       "      <td>0.596</td>\n",
       "      <td>0.153</td>\n",
       "      <td>0.393</td>\n",
       "    </tr>\n",
       "    <tr>\n",
       "      <th>1</th>\n",
       "      <td>2</td>\n",
       "      <td>Denmark</td>\n",
       "      <td>7.600</td>\n",
       "      <td>1.383</td>\n",
       "      <td>1.573</td>\n",
       "      <td>0.996</td>\n",
       "      <td>0.592</td>\n",
       "      <td>0.252</td>\n",
       "      <td>0.410</td>\n",
       "    </tr>\n",
       "    <tr>\n",
       "      <th>2</th>\n",
       "      <td>3</td>\n",
       "      <td>Norway</td>\n",
       "      <td>7.554</td>\n",
       "      <td>1.488</td>\n",
       "      <td>1.582</td>\n",
       "      <td>1.028</td>\n",
       "      <td>0.603</td>\n",
       "      <td>0.271</td>\n",
       "      <td>0.341</td>\n",
       "    </tr>\n",
       "    <tr>\n",
       "      <th>3</th>\n",
       "      <td>4</td>\n",
       "      <td>Iceland</td>\n",
       "      <td>7.494</td>\n",
       "      <td>1.380</td>\n",
       "      <td>1.624</td>\n",
       "      <td>1.026</td>\n",
       "      <td>0.591</td>\n",
       "      <td>0.354</td>\n",
       "      <td>0.118</td>\n",
       "    </tr>\n",
       "    <tr>\n",
       "      <th>4</th>\n",
       "      <td>5</td>\n",
       "      <td>Netherlands</td>\n",
       "      <td>7.488</td>\n",
       "      <td>1.396</td>\n",
       "      <td>1.522</td>\n",
       "      <td>0.999</td>\n",
       "      <td>0.557</td>\n",
       "      <td>0.322</td>\n",
       "      <td>0.298</td>\n",
       "    </tr>\n",
       "  </tbody>\n",
       "</table>\n",
       "</div>"
      ],
      "text/plain": [
       "   Overall rank Country or region  Score  GDP per capita  Social support  \\\n",
       "0             1           Finland  7.769           1.340           1.587   \n",
       "1             2           Denmark  7.600           1.383           1.573   \n",
       "2             3            Norway  7.554           1.488           1.582   \n",
       "3             4           Iceland  7.494           1.380           1.624   \n",
       "4             5       Netherlands  7.488           1.396           1.522   \n",
       "\n",
       "   Healthy life expectancy  Freedom to make life choices  Generosity  \\\n",
       "0                    0.986                         0.596       0.153   \n",
       "1                    0.996                         0.592       0.252   \n",
       "2                    1.028                         0.603       0.271   \n",
       "3                    1.026                         0.591       0.354   \n",
       "4                    0.999                         0.557       0.322   \n",
       "\n",
       "   Perceptions of corruption  \n",
       "0                      0.393  \n",
       "1                      0.410  \n",
       "2                      0.341  \n",
       "3                      0.118  \n",
       "4                      0.298  "
      ]
     },
     "execution_count": 498,
     "metadata": {},
     "output_type": "execute_result"
    }
   ],
   "source": [
    "happiness_report.head()"
   ]
  },
  {
   "cell_type": "markdown",
   "metadata": {},
   "source": [
    "### Task 4.2: let's drop the useless columns "
   ]
  },
  {
   "cell_type": "code",
   "execution_count": 499,
   "metadata": {},
   "outputs": [],
   "source": [
    "columns_to_drop = ['Overall rank', 'Score', 'Generosity', 'Perceptions of corruption']"
   ]
  },
  {
   "cell_type": "code",
   "execution_count": 500,
   "metadata": {},
   "outputs": [
    {
     "data": {
      "application/vnd.microsoft.datawrangler.viewer.v0+json": {
       "columns": [
        {
         "name": "index",
         "rawType": "int64",
         "type": "integer"
        },
        {
         "name": "Country or region",
         "rawType": "object",
         "type": "string"
        },
        {
         "name": "GDP per capita",
         "rawType": "float64",
         "type": "float"
        },
        {
         "name": "Social support",
         "rawType": "float64",
         "type": "float"
        },
        {
         "name": "Healthy life expectancy",
         "rawType": "float64",
         "type": "float"
        },
        {
         "name": "Freedom to make life choices",
         "rawType": "float64",
         "type": "float"
        }
       ],
       "ref": "cfc88c8a-56c7-4404-9a9a-cb81dbfb90c0",
       "rows": [
        [
         "0",
         "Finland",
         "1.34",
         "1.587",
         "0.986",
         "0.596"
        ],
        [
         "1",
         "Denmark",
         "1.383",
         "1.573",
         "0.996",
         "0.592"
        ],
        [
         "2",
         "Norway",
         "1.488",
         "1.582",
         "1.028",
         "0.603"
        ],
        [
         "3",
         "Iceland",
         "1.38",
         "1.624",
         "1.026",
         "0.591"
        ],
        [
         "4",
         "Netherlands",
         "1.396",
         "1.522",
         "0.999",
         "0.557"
        ]
       ],
       "shape": {
        "columns": 5,
        "rows": 5
       }
      },
      "text/html": [
       "<div>\n",
       "<style scoped>\n",
       "    .dataframe tbody tr th:only-of-type {\n",
       "        vertical-align: middle;\n",
       "    }\n",
       "\n",
       "    .dataframe tbody tr th {\n",
       "        vertical-align: top;\n",
       "    }\n",
       "\n",
       "    .dataframe thead th {\n",
       "        text-align: right;\n",
       "    }\n",
       "</style>\n",
       "<table border=\"1\" class=\"dataframe\">\n",
       "  <thead>\n",
       "    <tr style=\"text-align: right;\">\n",
       "      <th></th>\n",
       "      <th>Country or region</th>\n",
       "      <th>GDP per capita</th>\n",
       "      <th>Social support</th>\n",
       "      <th>Healthy life expectancy</th>\n",
       "      <th>Freedom to make life choices</th>\n",
       "    </tr>\n",
       "  </thead>\n",
       "  <tbody>\n",
       "    <tr>\n",
       "      <th>0</th>\n",
       "      <td>Finland</td>\n",
       "      <td>1.340</td>\n",
       "      <td>1.587</td>\n",
       "      <td>0.986</td>\n",
       "      <td>0.596</td>\n",
       "    </tr>\n",
       "    <tr>\n",
       "      <th>1</th>\n",
       "      <td>Denmark</td>\n",
       "      <td>1.383</td>\n",
       "      <td>1.573</td>\n",
       "      <td>0.996</td>\n",
       "      <td>0.592</td>\n",
       "    </tr>\n",
       "    <tr>\n",
       "      <th>2</th>\n",
       "      <td>Norway</td>\n",
       "      <td>1.488</td>\n",
       "      <td>1.582</td>\n",
       "      <td>1.028</td>\n",
       "      <td>0.603</td>\n",
       "    </tr>\n",
       "    <tr>\n",
       "      <th>3</th>\n",
       "      <td>Iceland</td>\n",
       "      <td>1.380</td>\n",
       "      <td>1.624</td>\n",
       "      <td>1.026</td>\n",
       "      <td>0.591</td>\n",
       "    </tr>\n",
       "    <tr>\n",
       "      <th>4</th>\n",
       "      <td>Netherlands</td>\n",
       "      <td>1.396</td>\n",
       "      <td>1.522</td>\n",
       "      <td>0.999</td>\n",
       "      <td>0.557</td>\n",
       "    </tr>\n",
       "  </tbody>\n",
       "</table>\n",
       "</div>"
      ],
      "text/plain": [
       "  Country or region  GDP per capita  Social support  Healthy life expectancy  \\\n",
       "0           Finland           1.340           1.587                    0.986   \n",
       "1           Denmark           1.383           1.573                    0.996   \n",
       "2            Norway           1.488           1.582                    1.028   \n",
       "3           Iceland           1.380           1.624                    1.026   \n",
       "4       Netherlands           1.396           1.522                    0.999   \n",
       "\n",
       "   Freedom to make life choices  \n",
       "0                         0.596  \n",
       "1                         0.592  \n",
       "2                         0.603  \n",
       "3                         0.591  \n",
       "4                         0.557  "
      ]
     },
     "execution_count": 500,
     "metadata": {},
     "output_type": "execute_result"
    }
   ],
   "source": [
    "happiness_report.drop(columns=columns_to_drop, axis=1,inplace=True)\n",
    "happiness_report.head()"
   ]
  },
  {
   "cell_type": "markdown",
   "metadata": {},
   "source": [
    "### Task 4.3: changing the indices of the dataframe"
   ]
  },
  {
   "cell_type": "code",
   "execution_count": 501,
   "metadata": {},
   "outputs": [
    {
     "data": {
      "application/vnd.microsoft.datawrangler.viewer.v0+json": {
       "columns": [
        {
         "name": "Country or region",
         "rawType": "object",
         "type": "string"
        },
        {
         "name": "GDP per capita",
         "rawType": "float64",
         "type": "float"
        },
        {
         "name": "Social support",
         "rawType": "float64",
         "type": "float"
        },
        {
         "name": "Healthy life expectancy",
         "rawType": "float64",
         "type": "float"
        },
        {
         "name": "Freedom to make life choices",
         "rawType": "float64",
         "type": "float"
        }
       ],
       "ref": "f81be3f8-d36b-4f91-871e-6e084c5d3ccb",
       "rows": [
        [
         "Finland",
         "1.34",
         "1.587",
         "0.986",
         "0.596"
        ],
        [
         "Denmark",
         "1.383",
         "1.573",
         "0.996",
         "0.592"
        ],
        [
         "Norway",
         "1.488",
         "1.582",
         "1.028",
         "0.603"
        ],
        [
         "Iceland",
         "1.38",
         "1.624",
         "1.026",
         "0.591"
        ],
        [
         "Netherlands",
         "1.396",
         "1.522",
         "0.999",
         "0.557"
        ]
       ],
       "shape": {
        "columns": 4,
        "rows": 5
       }
      },
      "text/html": [
       "<div>\n",
       "<style scoped>\n",
       "    .dataframe tbody tr th:only-of-type {\n",
       "        vertical-align: middle;\n",
       "    }\n",
       "\n",
       "    .dataframe tbody tr th {\n",
       "        vertical-align: top;\n",
       "    }\n",
       "\n",
       "    .dataframe thead th {\n",
       "        text-align: right;\n",
       "    }\n",
       "</style>\n",
       "<table border=\"1\" class=\"dataframe\">\n",
       "  <thead>\n",
       "    <tr style=\"text-align: right;\">\n",
       "      <th></th>\n",
       "      <th>GDP per capita</th>\n",
       "      <th>Social support</th>\n",
       "      <th>Healthy life expectancy</th>\n",
       "      <th>Freedom to make life choices</th>\n",
       "    </tr>\n",
       "    <tr>\n",
       "      <th>Country or region</th>\n",
       "      <th></th>\n",
       "      <th></th>\n",
       "      <th></th>\n",
       "      <th></th>\n",
       "    </tr>\n",
       "  </thead>\n",
       "  <tbody>\n",
       "    <tr>\n",
       "      <th>Finland</th>\n",
       "      <td>1.340</td>\n",
       "      <td>1.587</td>\n",
       "      <td>0.986</td>\n",
       "      <td>0.596</td>\n",
       "    </tr>\n",
       "    <tr>\n",
       "      <th>Denmark</th>\n",
       "      <td>1.383</td>\n",
       "      <td>1.573</td>\n",
       "      <td>0.996</td>\n",
       "      <td>0.592</td>\n",
       "    </tr>\n",
       "    <tr>\n",
       "      <th>Norway</th>\n",
       "      <td>1.488</td>\n",
       "      <td>1.582</td>\n",
       "      <td>1.028</td>\n",
       "      <td>0.603</td>\n",
       "    </tr>\n",
       "    <tr>\n",
       "      <th>Iceland</th>\n",
       "      <td>1.380</td>\n",
       "      <td>1.624</td>\n",
       "      <td>1.026</td>\n",
       "      <td>0.591</td>\n",
       "    </tr>\n",
       "    <tr>\n",
       "      <th>Netherlands</th>\n",
       "      <td>1.396</td>\n",
       "      <td>1.522</td>\n",
       "      <td>0.999</td>\n",
       "      <td>0.557</td>\n",
       "    </tr>\n",
       "  </tbody>\n",
       "</table>\n",
       "</div>"
      ],
      "text/plain": [
       "                   GDP per capita  Social support  Healthy life expectancy  \\\n",
       "Country or region                                                            \n",
       "Finland                     1.340           1.587                    0.986   \n",
       "Denmark                     1.383           1.573                    0.996   \n",
       "Norway                      1.488           1.582                    1.028   \n",
       "Iceland                     1.380           1.624                    1.026   \n",
       "Netherlands                 1.396           1.522                    0.999   \n",
       "\n",
       "                   Freedom to make life choices  \n",
       "Country or region                                \n",
       "Finland                                   0.596  \n",
       "Denmark                                   0.592  \n",
       "Norway                                    0.603  \n",
       "Iceland                                   0.591  \n",
       "Netherlands                               0.557  "
      ]
     },
     "execution_count": 501,
     "metadata": {},
     "output_type": "execute_result"
    }
   ],
   "source": [
    "happiness_report.set_index('Country or region', inplace=True)  # Set 'Country name' as index\n",
    "happiness_report.head()"
   ]
  },
  {
   "cell_type": "markdown",
   "metadata": {},
   "source": [
    "### Task4.4: now let's join two dataset we have prepared  "
   ]
  },
  {
   "cell_type": "markdown",
   "metadata": {},
   "source": [
    "#### Corona Dataset:"
   ]
  },
  {
   "cell_type": "code",
   "execution_count": 502,
   "metadata": {},
   "outputs": [
    {
     "data": {
      "application/vnd.microsoft.datawrangler.viewer.v0+json": {
       "columns": [
        {
         "name": "Country/Region",
         "rawType": "object",
         "type": "string"
        },
        {
         "name": "max_infection_rate",
         "rawType": "int64",
         "type": "integer"
        }
       ],
       "ref": "08374f27-e1af-4a49-95c2-833d76104343",
       "rows": [
        [
         "Afghanistan",
         "232"
        ],
        [
         "Albania",
         "34"
        ],
        [
         "Algeria",
         "199"
        ],
        [
         "Andorra",
         "43"
        ],
        [
         "Angola",
         "5"
        ]
       ],
       "shape": {
        "columns": 1,
        "rows": 5
       }
      },
      "text/html": [
       "<div>\n",
       "<style scoped>\n",
       "    .dataframe tbody tr th:only-of-type {\n",
       "        vertical-align: middle;\n",
       "    }\n",
       "\n",
       "    .dataframe tbody tr th {\n",
       "        vertical-align: top;\n",
       "    }\n",
       "\n",
       "    .dataframe thead th {\n",
       "        text-align: right;\n",
       "    }\n",
       "</style>\n",
       "<table border=\"1\" class=\"dataframe\">\n",
       "  <thead>\n",
       "    <tr style=\"text-align: right;\">\n",
       "      <th></th>\n",
       "      <th>max_infection_rate</th>\n",
       "    </tr>\n",
       "    <tr>\n",
       "      <th>Country/Region</th>\n",
       "      <th></th>\n",
       "    </tr>\n",
       "  </thead>\n",
       "  <tbody>\n",
       "    <tr>\n",
       "      <th>Afghanistan</th>\n",
       "      <td>232</td>\n",
       "    </tr>\n",
       "    <tr>\n",
       "      <th>Albania</th>\n",
       "      <td>34</td>\n",
       "    </tr>\n",
       "    <tr>\n",
       "      <th>Algeria</th>\n",
       "      <td>199</td>\n",
       "    </tr>\n",
       "    <tr>\n",
       "      <th>Andorra</th>\n",
       "      <td>43</td>\n",
       "    </tr>\n",
       "    <tr>\n",
       "      <th>Angola</th>\n",
       "      <td>5</td>\n",
       "    </tr>\n",
       "  </tbody>\n",
       "</table>\n",
       "</div>"
      ],
      "text/plain": [
       "                max_infection_rate\n",
       "Country/Region                    \n",
       "Afghanistan                    232\n",
       "Albania                         34\n",
       "Algeria                        199\n",
       "Andorra                         43\n",
       "Angola                           5"
      ]
     },
     "execution_count": 502,
     "metadata": {},
     "output_type": "execute_result"
    }
   ],
   "source": [
    "corona_data.head()"
   ]
  },
  {
   "cell_type": "code",
   "execution_count": 503,
   "metadata": {},
   "outputs": [
    {
     "data": {
      "text/plain": [
       "(187, 1)"
      ]
     },
     "execution_count": 503,
     "metadata": {},
     "output_type": "execute_result"
    }
   ],
   "source": [
    "corona_data.shape"
   ]
  },
  {
   "cell_type": "markdown",
   "metadata": {},
   "source": [
    "#### World Happiness Report Dataset:"
   ]
  },
  {
   "cell_type": "code",
   "execution_count": 504,
   "metadata": {},
   "outputs": [
    {
     "data": {
      "application/vnd.microsoft.datawrangler.viewer.v0+json": {
       "columns": [
        {
         "name": "Country or region",
         "rawType": "object",
         "type": "string"
        },
        {
         "name": "GDP per capita",
         "rawType": "float64",
         "type": "float"
        },
        {
         "name": "Social support",
         "rawType": "float64",
         "type": "float"
        },
        {
         "name": "Healthy life expectancy",
         "rawType": "float64",
         "type": "float"
        },
        {
         "name": "Freedom to make life choices",
         "rawType": "float64",
         "type": "float"
        }
       ],
       "ref": "eccfb60b-b065-4d3a-ae19-beb9090e0aca",
       "rows": [
        [
         "Finland",
         "1.34",
         "1.587",
         "0.986",
         "0.596"
        ],
        [
         "Denmark",
         "1.383",
         "1.573",
         "0.996",
         "0.592"
        ],
        [
         "Norway",
         "1.488",
         "1.582",
         "1.028",
         "0.603"
        ],
        [
         "Iceland",
         "1.38",
         "1.624",
         "1.026",
         "0.591"
        ],
        [
         "Netherlands",
         "1.396",
         "1.522",
         "0.999",
         "0.557"
        ]
       ],
       "shape": {
        "columns": 4,
        "rows": 5
       }
      },
      "text/html": [
       "<div>\n",
       "<style scoped>\n",
       "    .dataframe tbody tr th:only-of-type {\n",
       "        vertical-align: middle;\n",
       "    }\n",
       "\n",
       "    .dataframe tbody tr th {\n",
       "        vertical-align: top;\n",
       "    }\n",
       "\n",
       "    .dataframe thead th {\n",
       "        text-align: right;\n",
       "    }\n",
       "</style>\n",
       "<table border=\"1\" class=\"dataframe\">\n",
       "  <thead>\n",
       "    <tr style=\"text-align: right;\">\n",
       "      <th></th>\n",
       "      <th>GDP per capita</th>\n",
       "      <th>Social support</th>\n",
       "      <th>Healthy life expectancy</th>\n",
       "      <th>Freedom to make life choices</th>\n",
       "    </tr>\n",
       "    <tr>\n",
       "      <th>Country or region</th>\n",
       "      <th></th>\n",
       "      <th></th>\n",
       "      <th></th>\n",
       "      <th></th>\n",
       "    </tr>\n",
       "  </thead>\n",
       "  <tbody>\n",
       "    <tr>\n",
       "      <th>Finland</th>\n",
       "      <td>1.340</td>\n",
       "      <td>1.587</td>\n",
       "      <td>0.986</td>\n",
       "      <td>0.596</td>\n",
       "    </tr>\n",
       "    <tr>\n",
       "      <th>Denmark</th>\n",
       "      <td>1.383</td>\n",
       "      <td>1.573</td>\n",
       "      <td>0.996</td>\n",
       "      <td>0.592</td>\n",
       "    </tr>\n",
       "    <tr>\n",
       "      <th>Norway</th>\n",
       "      <td>1.488</td>\n",
       "      <td>1.582</td>\n",
       "      <td>1.028</td>\n",
       "      <td>0.603</td>\n",
       "    </tr>\n",
       "    <tr>\n",
       "      <th>Iceland</th>\n",
       "      <td>1.380</td>\n",
       "      <td>1.624</td>\n",
       "      <td>1.026</td>\n",
       "      <td>0.591</td>\n",
       "    </tr>\n",
       "    <tr>\n",
       "      <th>Netherlands</th>\n",
       "      <td>1.396</td>\n",
       "      <td>1.522</td>\n",
       "      <td>0.999</td>\n",
       "      <td>0.557</td>\n",
       "    </tr>\n",
       "  </tbody>\n",
       "</table>\n",
       "</div>"
      ],
      "text/plain": [
       "                   GDP per capita  Social support  Healthy life expectancy  \\\n",
       "Country or region                                                            \n",
       "Finland                     1.340           1.587                    0.986   \n",
       "Denmark                     1.383           1.573                    0.996   \n",
       "Norway                      1.488           1.582                    1.028   \n",
       "Iceland                     1.380           1.624                    1.026   \n",
       "Netherlands                 1.396           1.522                    0.999   \n",
       "\n",
       "                   Freedom to make life choices  \n",
       "Country or region                                \n",
       "Finland                                   0.596  \n",
       "Denmark                                   0.592  \n",
       "Norway                                    0.603  \n",
       "Iceland                                   0.591  \n",
       "Netherlands                               0.557  "
      ]
     },
     "execution_count": 504,
     "metadata": {},
     "output_type": "execute_result"
    }
   ],
   "source": [
    "happiness_report.head()"
   ]
  },
  {
   "cell_type": "code",
   "execution_count": 505,
   "metadata": {},
   "outputs": [
    {
     "data": {
      "text/plain": [
       "(156, 4)"
      ]
     },
     "execution_count": 505,
     "metadata": {},
     "output_type": "execute_result"
    }
   ],
   "source": [
    "happiness_report.shape"
   ]
  },
  {
   "cell_type": "markdown",
   "metadata": {},
   "source": [
    "### Task 4.5: correlation matrix "
   ]
  },
  {
   "cell_type": "code",
   "execution_count": 506,
   "metadata": {},
   "outputs": [
    {
     "data": {
      "application/vnd.microsoft.datawrangler.viewer.v0+json": {
       "columns": [
        {
         "name": "index",
         "rawType": "object",
         "type": "string"
        },
        {
         "name": "max_infection_rate",
         "rawType": "int64",
         "type": "integer"
        },
        {
         "name": "GDP per capita",
         "rawType": "float64",
         "type": "float"
        },
        {
         "name": "Social support",
         "rawType": "float64",
         "type": "float"
        },
        {
         "name": "Healthy life expectancy",
         "rawType": "float64",
         "type": "float"
        },
        {
         "name": "Freedom to make life choices",
         "rawType": "float64",
         "type": "float"
        }
       ],
       "ref": "16a4dc20-f9ee-4580-a7f9-ccf3873a2948",
       "rows": [
        [
         "Afghanistan",
         "232",
         "0.35",
         "0.517",
         "0.361",
         "0.0"
        ],
        [
         "Albania",
         "34",
         "0.947",
         "0.848",
         "0.874",
         "0.383"
        ],
        [
         "Algeria",
         "199",
         "1.002",
         "1.16",
         "0.785",
         "0.086"
        ],
        [
         "Argentina",
         "291",
         "1.092",
         "1.432",
         "0.881",
         "0.471"
        ],
        [
         "Armenia",
         "134",
         "0.85",
         "1.055",
         "0.815",
         "0.283"
        ]
       ],
       "shape": {
        "columns": 5,
        "rows": 5
       }
      },
      "text/html": [
       "<div>\n",
       "<style scoped>\n",
       "    .dataframe tbody tr th:only-of-type {\n",
       "        vertical-align: middle;\n",
       "    }\n",
       "\n",
       "    .dataframe tbody tr th {\n",
       "        vertical-align: top;\n",
       "    }\n",
       "\n",
       "    .dataframe thead th {\n",
       "        text-align: right;\n",
       "    }\n",
       "</style>\n",
       "<table border=\"1\" class=\"dataframe\">\n",
       "  <thead>\n",
       "    <tr style=\"text-align: right;\">\n",
       "      <th></th>\n",
       "      <th>max_infection_rate</th>\n",
       "      <th>GDP per capita</th>\n",
       "      <th>Social support</th>\n",
       "      <th>Healthy life expectancy</th>\n",
       "      <th>Freedom to make life choices</th>\n",
       "    </tr>\n",
       "  </thead>\n",
       "  <tbody>\n",
       "    <tr>\n",
       "      <th>Afghanistan</th>\n",
       "      <td>232</td>\n",
       "      <td>0.350</td>\n",
       "      <td>0.517</td>\n",
       "      <td>0.361</td>\n",
       "      <td>0.000</td>\n",
       "    </tr>\n",
       "    <tr>\n",
       "      <th>Albania</th>\n",
       "      <td>34</td>\n",
       "      <td>0.947</td>\n",
       "      <td>0.848</td>\n",
       "      <td>0.874</td>\n",
       "      <td>0.383</td>\n",
       "    </tr>\n",
       "    <tr>\n",
       "      <th>Algeria</th>\n",
       "      <td>199</td>\n",
       "      <td>1.002</td>\n",
       "      <td>1.160</td>\n",
       "      <td>0.785</td>\n",
       "      <td>0.086</td>\n",
       "    </tr>\n",
       "    <tr>\n",
       "      <th>Argentina</th>\n",
       "      <td>291</td>\n",
       "      <td>1.092</td>\n",
       "      <td>1.432</td>\n",
       "      <td>0.881</td>\n",
       "      <td>0.471</td>\n",
       "    </tr>\n",
       "    <tr>\n",
       "      <th>Armenia</th>\n",
       "      <td>134</td>\n",
       "      <td>0.850</td>\n",
       "      <td>1.055</td>\n",
       "      <td>0.815</td>\n",
       "      <td>0.283</td>\n",
       "    </tr>\n",
       "  </tbody>\n",
       "</table>\n",
       "</div>"
      ],
      "text/plain": [
       "             max_infection_rate  GDP per capita  Social support  \\\n",
       "Afghanistan                 232           0.350           0.517   \n",
       "Albania                      34           0.947           0.848   \n",
       "Algeria                     199           1.002           1.160   \n",
       "Argentina                   291           1.092           1.432   \n",
       "Armenia                     134           0.850           1.055   \n",
       "\n",
       "             Healthy life expectancy  Freedom to make life choices  \n",
       "Afghanistan                    0.361                         0.000  \n",
       "Albania                        0.874                         0.383  \n",
       "Algeria                        0.785                         0.086  \n",
       "Argentina                      0.881                         0.471  \n",
       "Armenia                        0.815                         0.283  "
      ]
     },
     "execution_count": 506,
     "metadata": {},
     "output_type": "execute_result"
    }
   ],
   "source": [
    "combined_data = corona_data.join(happiness_report, how='inner')\n",
    "combined_data.head()"
   ]
  },
  {
   "cell_type": "markdown",
   "metadata": {},
   "source": [
    "### Task 5: Visualization of the results\n",
    "our Analysis is not finished unless we visualize the results in terms figures and graphs so that everyone can understand what you get out of our analysis"
   ]
  },
  {
   "cell_type": "code",
   "execution_count": 507,
   "metadata": {},
   "outputs": [
    {
     "data": {
      "text/html": [
       "<style type=\"text/css\">\n",
       "#T_1dc82_row0_col0, #T_1dc82_row1_col1, #T_1dc82_row2_col2, #T_1dc82_row3_col3, #T_1dc82_row4_col4 {\n",
       "  background-color: #b40426;\n",
       "  color: #f1f1f1;\n",
       "}\n",
       "#T_1dc82_row0_col1, #T_1dc82_row0_col2, #T_1dc82_row0_col3, #T_1dc82_row0_col4, #T_1dc82_row4_col0 {\n",
       "  background-color: #3b4cc0;\n",
       "  color: #f1f1f1;\n",
       "}\n",
       "#T_1dc82_row1_col0 {\n",
       "  background-color: #7699f6;\n",
       "  color: #f1f1f1;\n",
       "}\n",
       "#T_1dc82_row1_col2 {\n",
       "  background-color: #f7ac8e;\n",
       "  color: #000000;\n",
       "}\n",
       "#T_1dc82_row1_col3 {\n",
       "  background-color: #ec8165;\n",
       "  color: #f1f1f1;\n",
       "}\n",
       "#T_1dc82_row1_col4 {\n",
       "  background-color: #adc9fd;\n",
       "  color: #000000;\n",
       "}\n",
       "#T_1dc82_row2_col0 {\n",
       "  background-color: #6180e9;\n",
       "  color: #f1f1f1;\n",
       "}\n",
       "#T_1dc82_row2_col1 {\n",
       "  background-color: #f7b497;\n",
       "  color: #000000;\n",
       "}\n",
       "#T_1dc82_row2_col3 {\n",
       "  background-color: #f7b79b;\n",
       "  color: #000000;\n",
       "}\n",
       "#T_1dc82_row2_col4 {\n",
       "  background-color: #c3d5f4;\n",
       "  color: #000000;\n",
       "}\n",
       "#T_1dc82_row3_col0 {\n",
       "  background-color: #85a8fc;\n",
       "  color: #f1f1f1;\n",
       "}\n",
       "#T_1dc82_row3_col1 {\n",
       "  background-color: #ea7b60;\n",
       "  color: #f1f1f1;\n",
       "}\n",
       "#T_1dc82_row3_col2 {\n",
       "  background-color: #f7a98b;\n",
       "  color: #000000;\n",
       "}\n",
       "#T_1dc82_row3_col4 {\n",
       "  background-color: #bad0f8;\n",
       "  color: #000000;\n",
       "}\n",
       "#T_1dc82_row4_col1, #T_1dc82_row4_col3 {\n",
       "  background-color: #799cf8;\n",
       "  color: #f1f1f1;\n",
       "}\n",
       "#T_1dc82_row4_col2 {\n",
       "  background-color: #a7c5fe;\n",
       "  color: #000000;\n",
       "}\n",
       "</style>\n",
       "<table id=\"T_1dc82\">\n",
       "  <thead>\n",
       "    <tr>\n",
       "      <th class=\"blank level0\" >&nbsp;</th>\n",
       "      <th id=\"T_1dc82_level0_col0\" class=\"col_heading level0 col0\" >max_infection_rate</th>\n",
       "      <th id=\"T_1dc82_level0_col1\" class=\"col_heading level0 col1\" >GDP per capita</th>\n",
       "      <th id=\"T_1dc82_level0_col2\" class=\"col_heading level0 col2\" >Social support</th>\n",
       "      <th id=\"T_1dc82_level0_col3\" class=\"col_heading level0 col3\" >Healthy life expectancy</th>\n",
       "      <th id=\"T_1dc82_level0_col4\" class=\"col_heading level0 col4\" >Freedom to make life choices</th>\n",
       "    </tr>\n",
       "  </thead>\n",
       "  <tbody>\n",
       "    <tr>\n",
       "      <th id=\"T_1dc82_level0_row0\" class=\"row_heading level0 row0\" >max_infection_rate</th>\n",
       "      <td id=\"T_1dc82_row0_col0\" class=\"data row0 col0\" >1.000000</td>\n",
       "      <td id=\"T_1dc82_row0_col1\" class=\"data row0 col1\" >0.250118</td>\n",
       "      <td id=\"T_1dc82_row0_col2\" class=\"data row0 col2\" >0.191958</td>\n",
       "      <td id=\"T_1dc82_row0_col3\" class=\"data row0 col3\" >0.289263</td>\n",
       "      <td id=\"T_1dc82_row0_col4\" class=\"data row0 col4\" >0.078196</td>\n",
       "    </tr>\n",
       "    <tr>\n",
       "      <th id=\"T_1dc82_level0_row1\" class=\"row_heading level0 row1\" >GDP per capita</th>\n",
       "      <td id=\"T_1dc82_row1_col0\" class=\"data row1 col0\" >0.250118</td>\n",
       "      <td id=\"T_1dc82_row1_col1\" class=\"data row1 col1\" >1.000000</td>\n",
       "      <td id=\"T_1dc82_row1_col2\" class=\"data row1 col2\" >0.759468</td>\n",
       "      <td id=\"T_1dc82_row1_col3\" class=\"data row1 col3\" >0.863062</td>\n",
       "      <td id=\"T_1dc82_row1_col4\" class=\"data row1 col4\" >0.394603</td>\n",
       "    </tr>\n",
       "    <tr>\n",
       "      <th id=\"T_1dc82_level0_row2\" class=\"row_heading level0 row2\" >Social support</th>\n",
       "      <td id=\"T_1dc82_row2_col0\" class=\"data row2 col0\" >0.191958</td>\n",
       "      <td id=\"T_1dc82_row2_col1\" class=\"data row2 col1\" >0.759468</td>\n",
       "      <td id=\"T_1dc82_row2_col2\" class=\"data row2 col2\" >1.000000</td>\n",
       "      <td id=\"T_1dc82_row2_col3\" class=\"data row2 col3\" >0.765286</td>\n",
       "      <td id=\"T_1dc82_row2_col4\" class=\"data row2 col4\" >0.456246</td>\n",
       "    </tr>\n",
       "    <tr>\n",
       "      <th id=\"T_1dc82_level0_row3\" class=\"row_heading level0 row3\" >Healthy life expectancy</th>\n",
       "      <td id=\"T_1dc82_row3_col0\" class=\"data row3 col0\" >0.289263</td>\n",
       "      <td id=\"T_1dc82_row3_col1\" class=\"data row3 col1\" >0.863062</td>\n",
       "      <td id=\"T_1dc82_row3_col2\" class=\"data row3 col2\" >0.765286</td>\n",
       "      <td id=\"T_1dc82_row3_col3\" class=\"data row3 col3\" >1.000000</td>\n",
       "      <td id=\"T_1dc82_row3_col4\" class=\"data row3 col4\" >0.427892</td>\n",
       "    </tr>\n",
       "    <tr>\n",
       "      <th id=\"T_1dc82_level0_row4\" class=\"row_heading level0 row4\" >Freedom to make life choices</th>\n",
       "      <td id=\"T_1dc82_row4_col0\" class=\"data row4 col0\" >0.078196</td>\n",
       "      <td id=\"T_1dc82_row4_col1\" class=\"data row4 col1\" >0.394603</td>\n",
       "      <td id=\"T_1dc82_row4_col2\" class=\"data row4 col2\" >0.456246</td>\n",
       "      <td id=\"T_1dc82_row4_col3\" class=\"data row4 col3\" >0.427892</td>\n",
       "      <td id=\"T_1dc82_row4_col4\" class=\"data row4 col4\" >1.000000</td>\n",
       "    </tr>\n",
       "  </tbody>\n",
       "</table>\n"
      ],
      "text/plain": [
       "<pandas.io.formats.style.Styler at 0x255a24a60d0>"
      ]
     },
     "execution_count": 507,
     "metadata": {},
     "output_type": "execute_result"
    }
   ],
   "source": [
    "combined_data.corr().style.background_gradient(cmap='coolwarm')"
   ]
  },
  {
   "cell_type": "markdown",
   "metadata": {},
   "source": [
    "### Task 5.1: Plotting GDP per capita vs. maximum infection rate"
   ]
  },
  {
   "cell_type": "code",
   "execution_count": 508,
   "metadata": {},
   "outputs": [
    {
     "data": {
      "application/vnd.microsoft.datawrangler.viewer.v0+json": {
       "columns": [
        {
         "name": "index",
         "rawType": "object",
         "type": "string"
        },
        {
         "name": "max_infection_rate",
         "rawType": "int64",
         "type": "integer"
        },
        {
         "name": "GDP per capita",
         "rawType": "float64",
         "type": "float"
        },
        {
         "name": "Social support",
         "rawType": "float64",
         "type": "float"
        },
        {
         "name": "Healthy life expectancy",
         "rawType": "float64",
         "type": "float"
        },
        {
         "name": "Freedom to make life choices",
         "rawType": "float64",
         "type": "float"
        }
       ],
       "ref": "139a51d2-5cc2-4189-b154-1f547d6af7b6",
       "rows": [
        [
         "Afghanistan",
         "232",
         "0.35",
         "0.517",
         "0.361",
         "0.0"
        ],
        [
         "Albania",
         "34",
         "0.947",
         "0.848",
         "0.874",
         "0.383"
        ],
        [
         "Algeria",
         "199",
         "1.002",
         "1.16",
         "0.785",
         "0.086"
        ],
        [
         "Argentina",
         "291",
         "1.092",
         "1.432",
         "0.881",
         "0.471"
        ],
        [
         "Armenia",
         "134",
         "0.85",
         "1.055",
         "0.815",
         "0.283"
        ]
       ],
       "shape": {
        "columns": 5,
        "rows": 5
       }
      },
      "text/html": [
       "<div>\n",
       "<style scoped>\n",
       "    .dataframe tbody tr th:only-of-type {\n",
       "        vertical-align: middle;\n",
       "    }\n",
       "\n",
       "    .dataframe tbody tr th {\n",
       "        vertical-align: top;\n",
       "    }\n",
       "\n",
       "    .dataframe thead th {\n",
       "        text-align: right;\n",
       "    }\n",
       "</style>\n",
       "<table border=\"1\" class=\"dataframe\">\n",
       "  <thead>\n",
       "    <tr style=\"text-align: right;\">\n",
       "      <th></th>\n",
       "      <th>max_infection_rate</th>\n",
       "      <th>GDP per capita</th>\n",
       "      <th>Social support</th>\n",
       "      <th>Healthy life expectancy</th>\n",
       "      <th>Freedom to make life choices</th>\n",
       "    </tr>\n",
       "  </thead>\n",
       "  <tbody>\n",
       "    <tr>\n",
       "      <th>Afghanistan</th>\n",
       "      <td>232</td>\n",
       "      <td>0.350</td>\n",
       "      <td>0.517</td>\n",
       "      <td>0.361</td>\n",
       "      <td>0.000</td>\n",
       "    </tr>\n",
       "    <tr>\n",
       "      <th>Albania</th>\n",
       "      <td>34</td>\n",
       "      <td>0.947</td>\n",
       "      <td>0.848</td>\n",
       "      <td>0.874</td>\n",
       "      <td>0.383</td>\n",
       "    </tr>\n",
       "    <tr>\n",
       "      <th>Algeria</th>\n",
       "      <td>199</td>\n",
       "      <td>1.002</td>\n",
       "      <td>1.160</td>\n",
       "      <td>0.785</td>\n",
       "      <td>0.086</td>\n",
       "    </tr>\n",
       "    <tr>\n",
       "      <th>Argentina</th>\n",
       "      <td>291</td>\n",
       "      <td>1.092</td>\n",
       "      <td>1.432</td>\n",
       "      <td>0.881</td>\n",
       "      <td>0.471</td>\n",
       "    </tr>\n",
       "    <tr>\n",
       "      <th>Armenia</th>\n",
       "      <td>134</td>\n",
       "      <td>0.850</td>\n",
       "      <td>1.055</td>\n",
       "      <td>0.815</td>\n",
       "      <td>0.283</td>\n",
       "    </tr>\n",
       "  </tbody>\n",
       "</table>\n",
       "</div>"
      ],
      "text/plain": [
       "             max_infection_rate  GDP per capita  Social support  \\\n",
       "Afghanistan                 232           0.350           0.517   \n",
       "Albania                      34           0.947           0.848   \n",
       "Algeria                     199           1.002           1.160   \n",
       "Argentina                   291           1.092           1.432   \n",
       "Armenia                     134           0.850           1.055   \n",
       "\n",
       "             Healthy life expectancy  Freedom to make life choices  \n",
       "Afghanistan                    0.361                         0.000  \n",
       "Albania                        0.874                         0.383  \n",
       "Algeria                        0.785                         0.086  \n",
       "Argentina                      0.881                         0.471  \n",
       "Armenia                        0.815                         0.283  "
      ]
     },
     "execution_count": 508,
     "metadata": {},
     "output_type": "execute_result"
    }
   ],
   "source": [
    "combined_data.head()"
   ]
  },
  {
   "cell_type": "code",
   "execution_count": 509,
   "metadata": {},
   "outputs": [
    {
     "data": {
      "text/plain": [
       "<Axes: xlabel='GDP per capita', ylabel='max_infection_rate'>"
      ]
     },
     "execution_count": 509,
     "metadata": {},
     "output_type": "execute_result"
    },
    {
     "data": {
      "image/png": "[encoded data removed]",
      "text/plain": [
       "<Figure size 640x480 with 1 Axes>"
      ]
     },
     "metadata": {},
     "output_type": "display_data"
    }
   ],
   "source": [
    "x = combined_data['GDP per capita']\n",
    "y = combined_data['max_infection_rate']\n",
    "sns.regplot(x=x, y=np.log(y))"
   ]
  },
  {
   "cell_type": "markdown",
   "metadata": {},
   "source": [
    "### Task 5.2: Plotting Social Support vs. Maximum Infection Rate"
   ]
  },
  {
   "cell_type": "code",
   "execution_count": 510,
   "metadata": {},
   "outputs": [
    {
     "data": {
      "text/plain": [
       "<Axes: xlabel='Social support', ylabel='max_infection_rate'>"
      ]
     },
     "execution_count": 510,
     "metadata": {},
     "output_type": "execute_result"
    },
    {
     "data": {
      "image/png": "[encoded data removed]",
      "text/plain": [
       "<Figure size 640x480 with 1 Axes>"
      ]
     },
     "metadata": {},
     "output_type": "display_data"
    }
   ],
   "source": [
    "x = combined_data['Social support']\n",
    "y = combined_data['max_infection_rate']\n",
    "sns.regplot(x=x, y=np.log(y))"
   ]
  },
  {
   "cell_type": "markdown",
   "metadata": {},
   "source": [
    "### Task 5.3: Plotting Healthy Life Expectancy vs. Maximum Infection Rate"
   ]
  },
  {
   "cell_type": "code",
   "execution_count": 511,
   "metadata": {},
   "outputs": [
    {
     "data": {
      "text/plain": [
       "<Axes: xlabel='Healthy life expectancy', ylabel='max_infection_rate'>"
      ]
     },
     "execution_count": 511,
     "metadata": {},
     "output_type": "execute_result"
    },
    {
     "data": {
      "image/png": "[encoded data removed]",
      "text/plain": [
       "<Figure size 640x480 with 1 Axes>"
      ]
     },
     "metadata": {},
     "output_type": "display_data"
    }
   ],
   "source": [
    "x = combined_data['Healthy life expectancy']\n",
    "y = combined_data['max_infection_rate']\n",
    "sns.regplot(x=x, y=np.log(y))"
   ]
  },
  {
   "cell_type": "markdown",
   "metadata": {},
   "source": [
    "### Task 5.4: Plotting Freedom to Make Life Choices vs. Maximum Infection Rate"
   ]
  },
  {
   "cell_type": "code",
   "execution_count": 512,
   "metadata": {},
   "outputs": [
    {
     "data": {
      "text/plain": [
       "<Axes: xlabel='Freedom to make life choices', ylabel='max_infection_rate'>"
      ]
     },
     "execution_count": 512,
     "metadata": {},
     "output_type": "execute_result"
    },
    {
     "data": {
      "image/png": "[encoded data removed]",
      "text/plain": [
       "<Figure size 640x480 with 1 Axes>"
      ]
     },
     "metadata": {},
     "output_type": "display_data"
    }
   ],
   "source": [
    "x = combined_data['Freedom to make life choices']\n",
    "y = combined_data['max_infection_rate']\n",
    "sns.regplot(x=x, y=np.log(y))"
   ]
  },
  {
   "cell_type": "markdown",
   "metadata": {},
   "source": [
    "### Task 6:\n",
    "- Import the covid19_deaths_dataset.csv dataset\n",
    "- Select the needed columns for our analysis\n",
    "- Join the datasets\n",
    "- Calculate the correlations as the result of our analysis"
   ]
  },
  {
   "cell_type": "markdown",
   "metadata": {},
   "source": [
    "### Task 6.1: Importing the dataset - Covid-19 Deaths"
   ]
  },
  {
   "cell_type": "code",
   "execution_count": 513,
   "metadata": {},
   "outputs": [],
   "source": [
    "covid19_deaths = pd.read_csv('Dataset for practice/covid19_deaths_dataset.csv')"
   ]
  },
  {
   "cell_type": "code",
   "execution_count": 514,
   "metadata": {},
   "outputs": [
    {
     "data": {
      "application/vnd.microsoft.datawrangler.viewer.v0+json": {
       "columns": [
        {
         "name": "index",
         "rawType": "int64",
         "type": "integer"
        },
        {
         "name": "Province/State",
         "rawType": "object",
         "type": "unknown"
        },
        {
         "name": "Country/Region",
         "rawType": "object",
         "type": "string"
        },
        {
         "name": "Lat",
         "rawType": "float64",
         "type": "float"
        },
        {
         "name": "Long",
         "rawType": "float64",
         "type": "float"
        },
        {
         "name": "1/22/20",
         "rawType": "int64",
         "type": "integer"
        },
        {
         "name": "1/23/20",
         "rawType": "int64",
         "type": "integer"
        },
        {
         "name": "1/24/20",
         "rawType": "int64",
         "type": "integer"
        },
        {
         "name": "1/25/20",
         "rawType": "int64",
         "type": "integer"
        },
        {
         "name": "1/26/20",
         "rawType": "int64",
         "type": "integer"
        },
        {
         "name": "1/27/20",
         "rawType": "int64",
         "type": "integer"
        },
        {
         "name": "1/28/20",
         "rawType": "int64",
         "type": "integer"
        },
        {
         "name": "1/29/20",
         "rawType": "int64",
         "type": "integer"
        },
        {
         "name": "1/30/20",
         "rawType": "int64",
         "type": "integer"
        },
        {
         "name": "1/31/20",
         "rawType": "int64",
         "type": "integer"
        },
        {
         "name": "2/1/20",
         "rawType": "int64",
         "type": "integer"
        },
        {
         "name": "2/2/20",
         "rawType": "int64",
         "type": "integer"
        },
        {
         "name": "2/3/20",
         "rawType": "int64",
         "type": "integer"
        },
        {
         "name": "2/4/20",
         "rawType": "int64",
         "type": "integer"
        },
        {
         "name": "2/5/20",
         "rawType": "int64",
         "type": "integer"
        },
        {
         "name": "2/6/20",
         "rawType": "int64",
         "type": "integer"
        },
        {
         "name": "2/7/20",
         "rawType": "int64",
         "type": "integer"
        },
        {
         "name": "2/8/20",
         "rawType": "int64",
         "type": "integer"
        },
        {
         "name": "2/9/20",
         "rawType": "int64",
         "type": "integer"
        },
        {
         "name": "2/10/20",
         "rawType": "int64",
         "type": "integer"
        },
        {
         "name": "2/11/20",
         "rawType": "int64",
         "type": "integer"
        },
        {
         "name": "2/12/20",
         "rawType": "int64",
         "type": "integer"
        },
        {
         "name": "2/13/20",
         "rawType": "int64",
         "type": "integer"
        },
        {
         "name": "2/14/20",
         "rawType": "int64",
         "type": "integer"
        },
        {
         "name": "2/15/20",
         "rawType": "int64",
         "type": "integer"
        },
        {
         "name": "2/16/20",
         "rawType": "int64",
         "type": "integer"
        },
        {
         "name": "2/17/20",
         "rawType": "int64",
         "type": "integer"
        },
        {
         "name": "2/18/20",
         "rawType": "int64",
         "type": "integer"
        },
        {
         "name": "2/19/20",
         "rawType": "int64",
         "type": "integer"
        },
        {
         "name": "2/20/20",
         "rawType": "int64",
         "type": "integer"
        },
        {
         "name": "2/21/20",
         "rawType": "int64",
         "type": "integer"
        },
        {
         "name": "2/22/20",
         "rawType": "int64",
         "type": "integer"
        },
        {
         "name": "2/23/20",
         "rawType": "int64",
         "type": "integer"
        },
        {
         "name": "2/24/20",
         "rawType": "int64",
         "type": "integer"
        },
        {
         "name": "2/25/20",
         "rawType": "int64",
         "type": "integer"
        },
        {
         "name": "2/26/20",
         "rawType": "int64",
         "type": "integer"
        },
        {
         "name": "2/27/20",
         "rawType": "int64",
         "type": "integer"
        },
        {
         "name": "2/28/20",
         "rawType": "int64",
         "type": "integer"
        },
        {
         "name": "2/29/20",
         "rawType": "int64",
         "type": "integer"
        },
        {
         "name": "3/1/20",
         "rawType": "int64",
         "type": "integer"
        },
        {
         "name": "3/2/20",
         "rawType": "int64",
         "type": "integer"
        },
        {
         "name": "3/3/20",
         "rawType": "int64",
         "type": "integer"
        },
        {
         "name": "3/4/20",
         "rawType": "int64",
         "type": "integer"
        },
        {
         "name": "3/5/20",
         "rawType": "int64",
         "type": "integer"
        },
        {
         "name": "3/6/20",
         "rawType": "int64",
         "type": "integer"
        },
        {
         "name": "3/7/20",
         "rawType": "int64",
         "type": "integer"
        },
        {
         "name": "3/8/20",
         "rawType": "int64",
         "type": "integer"
        },
        {
         "name": "3/9/20",
         "rawType": "int64",
         "type": "integer"
        },
        {
         "name": "3/10/20",
         "rawType": "int64",
         "type": "integer"
        },
        {
         "name": "3/11/20",
         "rawType": "int64",
         "type": "integer"
        },
        {
         "name": "3/12/20",
         "rawType": "int64",
         "type": "integer"
        },
        {
         "name": "3/13/20",
         "rawType": "int64",
         "type": "integer"
        },
        {
         "name": "3/14/20",
         "rawType": "int64",
         "type": "integer"
        },
        {
         "name": "3/15/20",
         "rawType": "int64",
         "type": "integer"
        },
        {
         "name": "3/16/20",
         "rawType": "int64",
         "type": "integer"
        },
        {
         "name": "3/17/20",
         "rawType": "int64",
         "type": "integer"
        },
        {
         "name": "3/18/20",
         "rawType": "int64",
         "type": "integer"
        },
        {
         "name": "3/19/20",
         "rawType": "int64",
         "type": "integer"
        },
        {
         "name": "3/20/20",
         "rawType": "int64",
         "type": "integer"
        },
        {
         "name": "3/21/20",
         "rawType": "int64",
         "type": "integer"
        },
        {
         "name": "3/22/20",
         "rawType": "int64",
         "type": "integer"
        },
        {
         "name": "3/23/20",
         "rawType": "int64",
         "type": "integer"
        },
        {
         "name": "3/24/20",
         "rawType": "int64",
         "type": "integer"
        },
        {
         "name": "3/25/20",
         "rawType": "int64",
         "type": "integer"
        },
        {
         "name": "3/26/20",
         "rawType": "int64",
         "type": "integer"
        },
        {
         "name": "3/27/20",
         "rawType": "int64",
         "type": "integer"
        },
        {
         "name": "3/28/20",
         "rawType": "int64",
         "type": "integer"
        },
        {
         "name": "3/29/20",
         "rawType": "int64",
         "type": "integer"
        },
        {
         "name": "3/30/20",
         "rawType": "int64",
         "type": "integer"
        },
        {
         "name": "3/31/20",
         "rawType": "int64",
         "type": "integer"
        },
        {
         "name": "4/1/20",
         "rawType": "int64",
         "type": "integer"
        },
        {
         "name": "4/2/20",
         "rawType": "int64",
         "type": "integer"
        },
        {
         "name": "4/3/20",
         "rawType": "int64",
         "type": "integer"
        },
        {
         "name": "4/4/20",
         "rawType": "int64",
         "type": "integer"
        },
        {
         "name": "4/5/20",
         "rawType": "int64",
         "type": "integer"
        },
        {
         "name": "4/6/20",
         "rawType": "int64",
         "type": "integer"
        },
        {
         "name": "4/7/20",
         "rawType": "int64",
         "type": "integer"
        },
        {
         "name": "4/8/20",
         "rawType": "int64",
         "type": "integer"
        },
        {
         "name": "4/9/20",
         "rawType": "int64",
         "type": "integer"
        },
        {
         "name": "4/10/20",
         "rawType": "int64",
         "type": "integer"
        },
        {
         "name": "4/11/20",
         "rawType": "int64",
         "type": "integer"
        },
        {
         "name": "4/12/20",
         "rawType": "int64",
         "type": "integer"
        },
        {
         "name": "4/13/20",
         "rawType": "int64",
         "type": "integer"
        },
        {
         "name": "4/14/20",
         "rawType": "int64",
         "type": "integer"
        },
        {
         "name": "4/15/20",
         "rawType": "int64",
         "type": "integer"
        },
        {
         "name": "4/16/20",
         "rawType": "int64",
         "type": "integer"
        },
        {
         "name": "4/17/20",
         "rawType": "int64",
         "type": "integer"
        },
        {
         "name": "4/18/20",
         "rawType": "int64",
         "type": "integer"
        },
        {
         "name": "4/19/20",
         "rawType": "int64",
         "type": "integer"
        },
        {
         "name": "4/20/20",
         "rawType": "int64",
         "type": "integer"
        },
        {
         "name": "4/21/20",
         "rawType": "int64",
         "type": "integer"
        },
        {
         "name": "4/22/20",
         "rawType": "int64",
         "type": "integer"
        },
        {
         "name": "4/23/20",
         "rawType": "int64",
         "type": "integer"
        },
        {
         "name": "4/24/20",
         "rawType": "int64",
         "type": "integer"
        },
        {
         "name": "4/25/20",
         "rawType": "int64",
         "type": "integer"
        },
        {
         "name": "4/26/20",
         "rawType": "int64",
         "type": "integer"
        },
        {
         "name": "4/27/20",
         "rawType": "int64",
         "type": "integer"
        },
        {
         "name": "4/28/20",
         "rawType": "int64",
         "type": "integer"
        },
        {
         "name": "4/29/20",
         "rawType": "int64",
         "type": "integer"
        },
        {
         "name": "4/30/20",
         "rawType": "int64",
         "type": "integer"
        }
       ],
       "ref": "4cc71f59-7917-45cd-8afc-db690741bab4",
       "rows": [
        [
         "0",
         null,
         "Afghanistan",
         "33.0",
         "65.0",
         "0",
         "0",
         "0",
         "0",
         "0",
         "0",
         "0",
         "0",
         "0",
         "0",
         "0",
         "0",
         "0",
         "0",
         "0",
         "0",
         "0",
         "0",
         "0",
         "0",
         "0",
         "0",
         "0",
         "0",
         "0",
         "0",
         "0",
         "0",
         "0",
         "0",
         "0",
         "0",
         "0",
         "0",
         "0",
         "0",
         "0",
         "0",
         "0",
         "0",
         "0",
         "0",
         "0",
         "0",
         "0",
         "0",
         "0",
         "0",
         "0",
         "0",
         "0",
         "0",
         "0",
         "0",
         "0",
         "0",
         "0",
         "0",
         "0",
         "0",
         "1",
         "1",
         "1",
         "2",
         "4",
         "4",
         "4",
         "4",
         "4",
         "4",
         "4",
         "6",
         "6",
         "7",
         "7",
         "11",
         "14",
         "14",
         "15",
         "15",
         "18",
         "18",
         "21",
         "23",
         "25",
         "30",
         "30",
         "30",
         "33",
         "36",
         "36",
         "40",
         "42",
         "43",
         "47",
         "50",
         "57",
         "58",
         "60",
         "64"
        ],
        [
         "1",
         null,
         "Albania",
         "41.1533",
         "20.1683",
         "0",
         "0",
         "0",
         "0",
         "0",
         "0",
         "0",
         "0",
         "0",
         "0",
         "0",
         "0",
         "0",
         "0",
         "0",
         "0",
         "0",
         "0",
         "0",
         "0",
         "0",
         "0",
         "0",
         "0",
         "0",
         "0",
         "0",
         "0",
         "0",
         "0",
         "0",
         "0",
         "0",
         "0",
         "0",
         "0",
         "0",
         "0",
         "0",
         "0",
         "0",
         "0",
         "0",
         "0",
         "0",
         "0",
         "0",
         "0",
         "0",
         "1",
         "1",
         "1",
         "1",
         "1",
         "1",
         "1",
         "2",
         "2",
         "2",
         "2",
         "2",
         "4",
         "5",
         "5",
         "6",
         "8",
         "10",
         "10",
         "11",
         "15",
         "15",
         "16",
         "17",
         "20",
         "20",
         "21",
         "22",
         "22",
         "23",
         "23",
         "23",
         "23",
         "23",
         "24",
         "25",
         "26",
         "26",
         "26",
         "26",
         "26",
         "26",
         "27",
         "27",
         "27",
         "27",
         "28",
         "28",
         "30",
         "30",
         "31"
        ],
        [
         "2",
         null,
         "Algeria",
         "28.0339",
         "1.6596",
         "0",
         "0",
         "0",
         "0",
         "0",
         "0",
         "0",
         "0",
         "0",
         "0",
         "0",
         "0",
         "0",
         "0",
         "0",
         "0",
         "0",
         "0",
         "0",
         "0",
         "0",
         "0",
         "0",
         "0",
         "0",
         "0",
         "0",
         "0",
         "0",
         "0",
         "0",
         "0",
         "0",
         "0",
         "0",
         "0",
         "0",
         "0",
         "0",
         "0",
         "0",
         "0",
         "0",
         "0",
         "0",
         "0",
         "0",
         "0",
         "0",
         "0",
         "1",
         "2",
         "3",
         "4",
         "4",
         "4",
         "7",
         "9",
         "11",
         "15",
         "17",
         "17",
         "19",
         "21",
         "25",
         "26",
         "29",
         "31",
         "35",
         "44",
         "58",
         "86",
         "105",
         "130",
         "152",
         "173",
         "193",
         "205",
         "235",
         "256",
         "275",
         "293",
         "313",
         "326",
         "336",
         "348",
         "364",
         "367",
         "375",
         "384",
         "392",
         "402",
         "407",
         "415",
         "419",
         "425",
         "432",
         "437",
         "444",
         "450"
        ],
        [
         "3",
         null,
         "Andorra",
         "42.5063",
         "1.5218",
         "0",
         "0",
         "0",
         "0",
         "0",
         "0",
         "0",
         "0",
         "0",
         "0",
         "0",
         "0",
         "0",
         "0",
         "0",
         "0",
         "0",
         "0",
         "0",
         "0",
         "0",
         "0",
         "0",
         "0",
         "0",
         "0",
         "0",
         "0",
         "0",
         "0",
         "0",
         "0",
         "0",
         "0",
         "0",
         "0",
         "0",
         "0",
         "0",
         "0",
         "0",
         "0",
         "0",
         "0",
         "0",
         "0",
         "0",
         "0",
         "0",
         "0",
         "0",
         "0",
         "0",
         "0",
         "0",
         "0",
         "0",
         "0",
         "0",
         "0",
         "1",
         "1",
         "1",
         "1",
         "3",
         "3",
         "3",
         "6",
         "8",
         "12",
         "14",
         "15",
         "16",
         "17",
         "18",
         "21",
         "22",
         "23",
         "25",
         "26",
         "26",
         "29",
         "29",
         "31",
         "33",
         "33",
         "35",
         "35",
         "36",
         "37",
         "37",
         "37",
         "37",
         "40",
         "40",
         "40",
         "40",
         "41",
         "42",
         "42"
        ],
        [
         "4",
         null,
         "Angola",
         "-11.2027",
         "17.8739",
         "0",
         "0",
         "0",
         "0",
         "0",
         "0",
         "0",
         "0",
         "0",
         "0",
         "0",
         "0",
         "0",
         "0",
         "0",
         "0",
         "0",
         "0",
         "0",
         "0",
         "0",
         "0",
         "0",
         "0",
         "0",
         "0",
         "0",
         "0",
         "0",
         "0",
         "0",
         "0",
         "0",
         "0",
         "0",
         "0",
         "0",
         "0",
         "0",
         "0",
         "0",
         "0",
         "0",
         "0",
         "0",
         "0",
         "0",
         "0",
         "0",
         "0",
         "0",
         "0",
         "0",
         "0",
         "0",
         "0",
         "0",
         "0",
         "0",
         "0",
         "0",
         "0",
         "0",
         "0",
         "0",
         "0",
         "0",
         "2",
         "2",
         "2",
         "2",
         "2",
         "2",
         "2",
         "2",
         "2",
         "2",
         "2",
         "2",
         "2",
         "2",
         "2",
         "2",
         "2",
         "2",
         "2",
         "2",
         "2",
         "2",
         "2",
         "2",
         "2",
         "2",
         "2",
         "2",
         "2",
         "2",
         "2",
         "2",
         "2"
        ]
       ],
       "shape": {
        "columns": 104,
        "rows": 5
       }
      },
      "text/html": [
       "<div>\n",
       "<style scoped>\n",
       "    .dataframe tbody tr th:only-of-type {\n",
       "        vertical-align: middle;\n",
       "    }\n",
       "\n",
       "    .dataframe tbody tr th {\n",
       "        vertical-align: top;\n",
       "    }\n",
       "\n",
       "    .dataframe thead th {\n",
       "        text-align: right;\n",
       "    }\n",
       "</style>\n",
       "<table border=\"1\" class=\"dataframe\">\n",
       "  <thead>\n",
       "    <tr style=\"text-align: right;\">\n",
       "      <th></th>\n",
       "      <th>Province/State</th>\n",
       "      <th>Country/Region</th>\n",
       "      <th>Lat</th>\n",
       "      <th>Long</th>\n",
       "      <th>1/22/20</th>\n",
       "      <th>1/23/20</th>\n",
       "      <th>1/24/20</th>\n",
       "      <th>1/25/20</th>\n",
       "      <th>1/26/20</th>\n",
       "      <th>1/27/20</th>\n",
       "      <th>...</th>\n",
       "      <th>4/21/20</th>\n",
       "      <th>4/22/20</th>\n",
       "      <th>4/23/20</th>\n",
       "      <th>4/24/20</th>\n",
       "      <th>4/25/20</th>\n",
       "      <th>4/26/20</th>\n",
       "      <th>4/27/20</th>\n",
       "      <th>4/28/20</th>\n",
       "      <th>4/29/20</th>\n",
       "      <th>4/30/20</th>\n",
       "    </tr>\n",
       "  </thead>\n",
       "  <tbody>\n",
       "    <tr>\n",
       "      <th>0</th>\n",
       "      <td>NaN</td>\n",
       "      <td>Afghanistan</td>\n",
       "      <td>33.0000</td>\n",
       "      <td>65.0000</td>\n",
       "      <td>0</td>\n",
       "      <td>0</td>\n",
       "      <td>0</td>\n",
       "      <td>0</td>\n",
       "      <td>0</td>\n",
       "      <td>0</td>\n",
       "      <td>...</td>\n",
       "      <td>36</td>\n",
       "      <td>40</td>\n",
       "      <td>42</td>\n",
       "      <td>43</td>\n",
       "      <td>47</td>\n",
       "      <td>50</td>\n",
       "      <td>57</td>\n",
       "      <td>58</td>\n",
       "      <td>60</td>\n",
       "      <td>64</td>\n",
       "    </tr>\n",
       "    <tr>\n",
       "      <th>1</th>\n",
       "      <td>NaN</td>\n",
       "      <td>Albania</td>\n",
       "      <td>41.1533</td>\n",
       "      <td>20.1683</td>\n",
       "      <td>0</td>\n",
       "      <td>0</td>\n",
       "      <td>0</td>\n",
       "      <td>0</td>\n",
       "      <td>0</td>\n",
       "      <td>0</td>\n",
       "      <td>...</td>\n",
       "      <td>26</td>\n",
       "      <td>27</td>\n",
       "      <td>27</td>\n",
       "      <td>27</td>\n",
       "      <td>27</td>\n",
       "      <td>28</td>\n",
       "      <td>28</td>\n",
       "      <td>30</td>\n",
       "      <td>30</td>\n",
       "      <td>31</td>\n",
       "    </tr>\n",
       "    <tr>\n",
       "      <th>2</th>\n",
       "      <td>NaN</td>\n",
       "      <td>Algeria</td>\n",
       "      <td>28.0339</td>\n",
       "      <td>1.6596</td>\n",
       "      <td>0</td>\n",
       "      <td>0</td>\n",
       "      <td>0</td>\n",
       "      <td>0</td>\n",
       "      <td>0</td>\n",
       "      <td>0</td>\n",
       "      <td>...</td>\n",
       "      <td>392</td>\n",
       "      <td>402</td>\n",
       "      <td>407</td>\n",
       "      <td>415</td>\n",
       "      <td>419</td>\n",
       "      <td>425</td>\n",
       "      <td>432</td>\n",
       "      <td>437</td>\n",
       "      <td>444</td>\n",
       "      <td>450</td>\n",
       "    </tr>\n",
       "    <tr>\n",
       "      <th>3</th>\n",
       "      <td>NaN</td>\n",
       "      <td>Andorra</td>\n",
       "      <td>42.5063</td>\n",
       "      <td>1.5218</td>\n",
       "      <td>0</td>\n",
       "      <td>0</td>\n",
       "      <td>0</td>\n",
       "      <td>0</td>\n",
       "      <td>0</td>\n",
       "      <td>0</td>\n",
       "      <td>...</td>\n",
       "      <td>37</td>\n",
       "      <td>37</td>\n",
       "      <td>37</td>\n",
       "      <td>40</td>\n",
       "      <td>40</td>\n",
       "      <td>40</td>\n",
       "      <td>40</td>\n",
       "      <td>41</td>\n",
       "      <td>42</td>\n",
       "      <td>42</td>\n",
       "    </tr>\n",
       "    <tr>\n",
       "      <th>4</th>\n",
       "      <td>NaN</td>\n",
       "      <td>Angola</td>\n",
       "      <td>-11.2027</td>\n",
       "      <td>17.8739</td>\n",
       "      <td>0</td>\n",
       "      <td>0</td>\n",
       "      <td>0</td>\n",
       "      <td>0</td>\n",
       "      <td>0</td>\n",
       "      <td>0</td>\n",
       "      <td>...</td>\n",
       "      <td>2</td>\n",
       "      <td>2</td>\n",
       "      <td>2</td>\n",
       "      <td>2</td>\n",
       "      <td>2</td>\n",
       "      <td>2</td>\n",
       "      <td>2</td>\n",
       "      <td>2</td>\n",
       "      <td>2</td>\n",
       "      <td>2</td>\n",
       "    </tr>\n",
       "  </tbody>\n",
       "</table>\n",
       "<p>5 rows × 104 columns</p>\n",
       "</div>"
      ],
      "text/plain": [
       "  Province/State Country/Region      Lat     Long  1/22/20  1/23/20  1/24/20  \\\n",
       "0            NaN    Afghanistan  33.0000  65.0000        0        0        0   \n",
       "1            NaN        Albania  41.1533  20.1683        0        0        0   \n",
       "2            NaN        Algeria  28.0339   1.6596        0        0        0   \n",
       "3            NaN        Andorra  42.5063   1.5218        0        0        0   \n",
       "4            NaN         Angola -11.2027  17.8739        0        0        0   \n",
       "\n",
       "   1/25/20  1/26/20  1/27/20  ...  4/21/20  4/22/20  4/23/20  4/24/20  \\\n",
       "0        0        0        0  ...       36       40       42       43   \n",
       "1        0        0        0  ...       26       27       27       27   \n",
       "2        0        0        0  ...      392      402      407      415   \n",
       "3        0        0        0  ...       37       37       37       40   \n",
       "4        0        0        0  ...        2        2        2        2   \n",
       "\n",
       "   4/25/20  4/26/20  4/27/20  4/28/20  4/29/20  4/30/20  \n",
       "0       47       50       57       58       60       64  \n",
       "1       27       28       28       30       30       31  \n",
       "2      419      425      432      437      444      450  \n",
       "3       40       40       40       41       42       42  \n",
       "4        2        2        2        2        2        2  \n",
       "\n",
       "[5 rows x 104 columns]"
      ]
     },
     "execution_count": 514,
     "metadata": {},
     "output_type": "execute_result"
    }
   ],
   "source": [
    "covid19_deaths.head()"
   ]
  },
  {
   "cell_type": "markdown",
   "metadata": {},
   "source": [
    "### Task 6.2: Delete the unnecessary columns"
   ]
  },
  {
   "cell_type": "code",
   "execution_count": 515,
   "metadata": {},
   "outputs": [],
   "source": [
    "covid19_deaths.drop(['Lat', 'Long'], axis=1, inplace=True)  # Dropping unnecessary columns"
   ]
  },
  {
   "cell_type": "code",
   "execution_count": 516,
   "metadata": {},
   "outputs": [
    {
     "data": {
      "application/vnd.microsoft.datawrangler.viewer.v0+json": {
       "columns": [
        {
         "name": "index",
         "rawType": "int64",
         "type": "integer"
        },
        {
         "name": "Province/State",
         "rawType": "object",
         "type": "unknown"
        },
        {
         "name": "Country/Region",
         "rawType": "object",
         "type": "string"
        },
        {
         "name": "1/22/20",
         "rawType": "int64",
         "type": "integer"
        },
        {
         "name": "1/23/20",
         "rawType": "int64",
         "type": "integer"
        },
        {
         "name": "1/24/20",
         "rawType": "int64",
         "type": "integer"
        },
        {
         "name": "1/25/20",
         "rawType": "int64",
         "type": "integer"
        },
        {
         "name": "1/26/20",
         "rawType": "int64",
         "type": "integer"
        },
        {
         "name": "1/27/20",
         "rawType": "int64",
         "type": "integer"
        },
        {
         "name": "1/28/20",
         "rawType": "int64",
         "type": "integer"
        },
        {
         "name": "1/29/20",
         "rawType": "int64",
         "type": "integer"
        },
        {
         "name": "1/30/20",
         "rawType": "int64",
         "type": "integer"
        },
        {
         "name": "1/31/20",
         "rawType": "int64",
         "type": "integer"
        },
        {
         "name": "2/1/20",
         "rawType": "int64",
         "type": "integer"
        },
        {
         "name": "2/2/20",
         "rawType": "int64",
         "type": "integer"
        },
        {
         "name": "2/3/20",
         "rawType": "int64",
         "type": "integer"
        },
        {
         "name": "2/4/20",
         "rawType": "int64",
         "type": "integer"
        },
        {
         "name": "2/5/20",
         "rawType": "int64",
         "type": "integer"
        },
        {
         "name": "2/6/20",
         "rawType": "int64",
         "type": "integer"
        },
        {
         "name": "2/7/20",
         "rawType": "int64",
         "type": "integer"
        },
        {
         "name": "2/8/20",
         "rawType": "int64",
         "type": "integer"
        },
        {
         "name": "2/9/20",
         "rawType": "int64",
         "type": "integer"
        },
        {
         "name": "2/10/20",
         "rawType": "int64",
         "type": "integer"
        },
        {
         "name": "2/11/20",
         "rawType": "int64",
         "type": "integer"
        },
        {
         "name": "2/12/20",
         "rawType": "int64",
         "type": "integer"
        },
        {
         "name": "2/13/20",
         "rawType": "int64",
         "type": "integer"
        },
        {
         "name": "2/14/20",
         "rawType": "int64",
         "type": "integer"
        },
        {
         "name": "2/15/20",
         "rawType": "int64",
         "type": "integer"
        },
        {
         "name": "2/16/20",
         "rawType": "int64",
         "type": "integer"
        },
        {
         "name": "2/17/20",
         "rawType": "int64",
         "type": "integer"
        },
        {
         "name": "2/18/20",
         "rawType": "int64",
         "type": "integer"
        },
        {
         "name": "2/19/20",
         "rawType": "int64",
         "type": "integer"
        },
        {
         "name": "2/20/20",
         "rawType": "int64",
         "type": "integer"
        },
        {
         "name": "2/21/20",
         "rawType": "int64",
         "type": "integer"
        },
        {
         "name": "2/22/20",
         "rawType": "int64",
         "type": "integer"
        },
        {
         "name": "2/23/20",
         "rawType": "int64",
         "type": "integer"
        },
        {
         "name": "2/24/20",
         "rawType": "int64",
         "type": "integer"
        },
        {
         "name": "2/25/20",
         "rawType": "int64",
         "type": "integer"
        },
        {
         "name": "2/26/20",
         "rawType": "int64",
         "type": "integer"
        },
        {
         "name": "2/27/20",
         "rawType": "int64",
         "type": "integer"
        },
        {
         "name": "2/28/20",
         "rawType": "int64",
         "type": "integer"
        },
        {
         "name": "2/29/20",
         "rawType": "int64",
         "type": "integer"
        },
        {
         "name": "3/1/20",
         "rawType": "int64",
         "type": "integer"
        },
        {
         "name": "3/2/20",
         "rawType": "int64",
         "type": "integer"
        },
        {
         "name": "3/3/20",
         "rawType": "int64",
         "type": "integer"
        },
        {
         "name": "3/4/20",
         "rawType": "int64",
         "type": "integer"
        },
        {
         "name": "3/5/20",
         "rawType": "int64",
         "type": "integer"
        },
        {
         "name": "3/6/20",
         "rawType": "int64",
         "type": "integer"
        },
        {
         "name": "3/7/20",
         "rawType": "int64",
         "type": "integer"
        },
        {
         "name": "3/8/20",
         "rawType": "int64",
         "type": "integer"
        },
        {
         "name": "3/9/20",
         "rawType": "int64",
         "type": "integer"
        },
        {
         "name": "3/10/20",
         "rawType": "int64",
         "type": "integer"
        },
        {
         "name": "3/11/20",
         "rawType": "int64",
         "type": "integer"
        },
        {
         "name": "3/12/20",
         "rawType": "int64",
         "type": "integer"
        },
        {
         "name": "3/13/20",
         "rawType": "int64",
         "type": "integer"
        },
        {
         "name": "3/14/20",
         "rawType": "int64",
         "type": "integer"
        },
        {
         "name": "3/15/20",
         "rawType": "int64",
         "type": "integer"
        },
        {
         "name": "3/16/20",
         "rawType": "int64",
         "type": "integer"
        },
        {
         "name": "3/17/20",
         "rawType": "int64",
         "type": "integer"
        },
        {
         "name": "3/18/20",
         "rawType": "int64",
         "type": "integer"
        },
        {
         "name": "3/19/20",
         "rawType": "int64",
         "type": "integer"
        },
        {
         "name": "3/20/20",
         "rawType": "int64",
         "type": "integer"
        },
        {
         "name": "3/21/20",
         "rawType": "int64",
         "type": "integer"
        },
        {
         "name": "3/22/20",
         "rawType": "int64",
         "type": "integer"
        },
        {
         "name": "3/23/20",
         "rawType": "int64",
         "type": "integer"
        },
        {
         "name": "3/24/20",
         "rawType": "int64",
         "type": "integer"
        },
        {
         "name": "3/25/20",
         "rawType": "int64",
         "type": "integer"
        },
        {
         "name": "3/26/20",
         "rawType": "int64",
         "type": "integer"
        },
        {
         "name": "3/27/20",
         "rawType": "int64",
         "type": "integer"
        },
        {
         "name": "3/28/20",
         "rawType": "int64",
         "type": "integer"
        },
        {
         "name": "3/29/20",
         "rawType": "int64",
         "type": "integer"
        },
        {
         "name": "3/30/20",
         "rawType": "int64",
         "type": "integer"
        },
        {
         "name": "3/31/20",
         "rawType": "int64",
         "type": "integer"
        },
        {
         "name": "4/1/20",
         "rawType": "int64",
         "type": "integer"
        },
        {
         "name": "4/2/20",
         "rawType": "int64",
         "type": "integer"
        },
        {
         "name": "4/3/20",
         "rawType": "int64",
         "type": "integer"
        },
        {
         "name": "4/4/20",
         "rawType": "int64",
         "type": "integer"
        },
        {
         "name": "4/5/20",
         "rawType": "int64",
         "type": "integer"
        },
        {
         "name": "4/6/20",
         "rawType": "int64",
         "type": "integer"
        },
        {
         "name": "4/7/20",
         "rawType": "int64",
         "type": "integer"
        },
        {
         "name": "4/8/20",
         "rawType": "int64",
         "type": "integer"
        },
        {
         "name": "4/9/20",
         "rawType": "int64",
         "type": "integer"
        },
        {
         "name": "4/10/20",
         "rawType": "int64",
         "type": "integer"
        },
        {
         "name": "4/11/20",
         "rawType": "int64",
         "type": "integer"
        },
        {
         "name": "4/12/20",
         "rawType": "int64",
         "type": "integer"
        },
        {
         "name": "4/13/20",
         "rawType": "int64",
         "type": "integer"
        },
        {
         "name": "4/14/20",
         "rawType": "int64",
         "type": "integer"
        },
        {
         "name": "4/15/20",
         "rawType": "int64",
         "type": "integer"
        },
        {
         "name": "4/16/20",
         "rawType": "int64",
         "type": "integer"
        },
        {
         "name": "4/17/20",
         "rawType": "int64",
         "type": "integer"
        },
        {
         "name": "4/18/20",
         "rawType": "int64",
         "type": "integer"
        },
        {
         "name": "4/19/20",
         "rawType": "int64",
         "type": "integer"
        },
        {
         "name": "4/20/20",
         "rawType": "int64",
         "type": "integer"
        },
        {
         "name": "4/21/20",
         "rawType": "int64",
         "type": "integer"
        },
        {
         "name": "4/22/20",
         "rawType": "int64",
         "type": "integer"
        },
        {
         "name": "4/23/20",
         "rawType": "int64",
         "type": "integer"
        },
        {
         "name": "4/24/20",
         "rawType": "int64",
         "type": "integer"
        },
        {
         "name": "4/25/20",
         "rawType": "int64",
         "type": "integer"
        },
        {
         "name": "4/26/20",
         "rawType": "int64",
         "type": "integer"
        },
        {
         "name": "4/27/20",
         "rawType": "int64",
         "type": "integer"
        },
        {
         "name": "4/28/20",
         "rawType": "int64",
         "type": "integer"
        },
        {
         "name": "4/29/20",
         "rawType": "int64",
         "type": "integer"
        },
        {
         "name": "4/30/20",
         "rawType": "int64",
         "type": "integer"
        }
       ],
       "ref": "c64a19c0-b993-4f10-b7d8-045522459390",
       "rows": [
        [
         "0",
         null,
         "Afghanistan",
         "0",
         "0",
         "0",
         "0",
         "0",
         "0",
         "0",
         "0",
         "0",
         "0",
         "0",
         "0",
         "0",
         "0",
         "0",
         "0",
         "0",
         "0",
         "0",
         "0",
         "0",
         "0",
         "0",
         "0",
         "0",
         "0",
         "0",
         "0",
         "0",
         "0",
         "0",
         "0",
         "0",
         "0",
         "0",
         "0",
         "0",
         "0",
         "0",
         "0",
         "0",
         "0",
         "0",
         "0",
         "0",
         "0",
         "0",
         "0",
         "0",
         "0",
         "0",
         "0",
         "0",
         "0",
         "0",
         "0",
         "0",
         "0",
         "0",
         "0",
         "1",
         "1",
         "1",
         "2",
         "4",
         "4",
         "4",
         "4",
         "4",
         "4",
         "4",
         "6",
         "6",
         "7",
         "7",
         "11",
         "14",
         "14",
         "15",
         "15",
         "18",
         "18",
         "21",
         "23",
         "25",
         "30",
         "30",
         "30",
         "33",
         "36",
         "36",
         "40",
         "42",
         "43",
         "47",
         "50",
         "57",
         "58",
         "60",
         "64"
        ],
        [
         "1",
         null,
         "Albania",
         "0",
         "0",
         "0",
         "0",
         "0",
         "0",
         "0",
         "0",
         "0",
         "0",
         "0",
         "0",
         "0",
         "0",
         "0",
         "0",
         "0",
         "0",
         "0",
         "0",
         "0",
         "0",
         "0",
         "0",
         "0",
         "0",
         "0",
         "0",
         "0",
         "0",
         "0",
         "0",
         "0",
         "0",
         "0",
         "0",
         "0",
         "0",
         "0",
         "0",
         "0",
         "0",
         "0",
         "0",
         "0",
         "0",
         "0",
         "0",
         "0",
         "1",
         "1",
         "1",
         "1",
         "1",
         "1",
         "1",
         "2",
         "2",
         "2",
         "2",
         "2",
         "4",
         "5",
         "5",
         "6",
         "8",
         "10",
         "10",
         "11",
         "15",
         "15",
         "16",
         "17",
         "20",
         "20",
         "21",
         "22",
         "22",
         "23",
         "23",
         "23",
         "23",
         "23",
         "24",
         "25",
         "26",
         "26",
         "26",
         "26",
         "26",
         "26",
         "27",
         "27",
         "27",
         "27",
         "28",
         "28",
         "30",
         "30",
         "31"
        ],
        [
         "2",
         null,
         "Algeria",
         "0",
         "0",
         "0",
         "0",
         "0",
         "0",
         "0",
         "0",
         "0",
         "0",
         "0",
         "0",
         "0",
         "0",
         "0",
         "0",
         "0",
         "0",
         "0",
         "0",
         "0",
         "0",
         "0",
         "0",
         "0",
         "0",
         "0",
         "0",
         "0",
         "0",
         "0",
         "0",
         "0",
         "0",
         "0",
         "0",
         "0",
         "0",
         "0",
         "0",
         "0",
         "0",
         "0",
         "0",
         "0",
         "0",
         "0",
         "0",
         "0",
         "0",
         "1",
         "2",
         "3",
         "4",
         "4",
         "4",
         "7",
         "9",
         "11",
         "15",
         "17",
         "17",
         "19",
         "21",
         "25",
         "26",
         "29",
         "31",
         "35",
         "44",
         "58",
         "86",
         "105",
         "130",
         "152",
         "173",
         "193",
         "205",
         "235",
         "256",
         "275",
         "293",
         "313",
         "326",
         "336",
         "348",
         "364",
         "367",
         "375",
         "384",
         "392",
         "402",
         "407",
         "415",
         "419",
         "425",
         "432",
         "437",
         "444",
         "450"
        ],
        [
         "3",
         null,
         "Andorra",
         "0",
         "0",
         "0",
         "0",
         "0",
         "0",
         "0",
         "0",
         "0",
         "0",
         "0",
         "0",
         "0",
         "0",
         "0",
         "0",
         "0",
         "0",
         "0",
         "0",
         "0",
         "0",
         "0",
         "0",
         "0",
         "0",
         "0",
         "0",
         "0",
         "0",
         "0",
         "0",
         "0",
         "0",
         "0",
         "0",
         "0",
         "0",
         "0",
         "0",
         "0",
         "0",
         "0",
         "0",
         "0",
         "0",
         "0",
         "0",
         "0",
         "0",
         "0",
         "0",
         "0",
         "0",
         "0",
         "0",
         "0",
         "0",
         "0",
         "0",
         "1",
         "1",
         "1",
         "1",
         "3",
         "3",
         "3",
         "6",
         "8",
         "12",
         "14",
         "15",
         "16",
         "17",
         "18",
         "21",
         "22",
         "23",
         "25",
         "26",
         "26",
         "29",
         "29",
         "31",
         "33",
         "33",
         "35",
         "35",
         "36",
         "37",
         "37",
         "37",
         "37",
         "40",
         "40",
         "40",
         "40",
         "41",
         "42",
         "42"
        ],
        [
         "4",
         null,
         "Angola",
         "0",
         "0",
         "0",
         "0",
         "0",
         "0",
         "0",
         "0",
         "0",
         "0",
         "0",
         "0",
         "0",
         "0",
         "0",
         "0",
         "0",
         "0",
         "0",
         "0",
         "0",
         "0",
         "0",
         "0",
         "0",
         "0",
         "0",
         "0",
         "0",
         "0",
         "0",
         "0",
         "0",
         "0",
         "0",
         "0",
         "0",
         "0",
         "0",
         "0",
         "0",
         "0",
         "0",
         "0",
         "0",
         "0",
         "0",
         "0",
         "0",
         "0",
         "0",
         "0",
         "0",
         "0",
         "0",
         "0",
         "0",
         "0",
         "0",
         "0",
         "0",
         "0",
         "0",
         "0",
         "0",
         "0",
         "0",
         "2",
         "2",
         "2",
         "2",
         "2",
         "2",
         "2",
         "2",
         "2",
         "2",
         "2",
         "2",
         "2",
         "2",
         "2",
         "2",
         "2",
         "2",
         "2",
         "2",
         "2",
         "2",
         "2",
         "2",
         "2",
         "2",
         "2",
         "2",
         "2",
         "2",
         "2",
         "2",
         "2"
        ]
       ],
       "shape": {
        "columns": 102,
        "rows": 5
       }
      },
      "text/html": [
       "<div>\n",
       "<style scoped>\n",
       "    .dataframe tbody tr th:only-of-type {\n",
       "        vertical-align: middle;\n",
       "    }\n",
       "\n",
       "    .dataframe tbody tr th {\n",
       "        vertical-align: top;\n",
       "    }\n",
       "\n",
       "    .dataframe thead th {\n",
       "        text-align: right;\n",
       "    }\n",
       "</style>\n",
       "<table border=\"1\" class=\"dataframe\">\n",
       "  <thead>\n",
       "    <tr style=\"text-align: right;\">\n",
       "      <th></th>\n",
       "      <th>Province/State</th>\n",
       "      <th>Country/Region</th>\n",
       "      <th>1/22/20</th>\n",
       "      <th>1/23/20</th>\n",
       "      <th>1/24/20</th>\n",
       "      <th>1/25/20</th>\n",
       "      <th>1/26/20</th>\n",
       "      <th>1/27/20</th>\n",
       "      <th>1/28/20</th>\n",
       "      <th>1/29/20</th>\n",
       "      <th>...</th>\n",
       "      <th>4/21/20</th>\n",
       "      <th>4/22/20</th>\n",
       "      <th>4/23/20</th>\n",
       "      <th>4/24/20</th>\n",
       "      <th>4/25/20</th>\n",
       "      <th>4/26/20</th>\n",
       "      <th>4/27/20</th>\n",
       "      <th>4/28/20</th>\n",
       "      <th>4/29/20</th>\n",
       "      <th>4/30/20</th>\n",
       "    </tr>\n",
       "  </thead>\n",
       "  <tbody>\n",
       "    <tr>\n",
       "      <th>0</th>\n",
       "      <td>NaN</td>\n",
       "      <td>Afghanistan</td>\n",
       "      <td>0</td>\n",
       "      <td>0</td>\n",
       "      <td>0</td>\n",
       "      <td>0</td>\n",
       "      <td>0</td>\n",
       "      <td>0</td>\n",
       "      <td>0</td>\n",
       "      <td>0</td>\n",
       "      <td>...</td>\n",
       "      <td>36</td>\n",
       "      <td>40</td>\n",
       "      <td>42</td>\n",
       "      <td>43</td>\n",
       "      <td>47</td>\n",
       "      <td>50</td>\n",
       "      <td>57</td>\n",
       "      <td>58</td>\n",
       "      <td>60</td>\n",
       "      <td>64</td>\n",
       "    </tr>\n",
       "    <tr>\n",
       "      <th>1</th>\n",
       "      <td>NaN</td>\n",
       "      <td>Albania</td>\n",
       "      <td>0</td>\n",
       "      <td>0</td>\n",
       "      <td>0</td>\n",
       "      <td>0</td>\n",
       "      <td>0</td>\n",
       "      <td>0</td>\n",
       "      <td>0</td>\n",
       "      <td>0</td>\n",
       "      <td>...</td>\n",
       "      <td>26</td>\n",
       "      <td>27</td>\n",
       "      <td>27</td>\n",
       "      <td>27</td>\n",
       "      <td>27</td>\n",
       "      <td>28</td>\n",
       "      <td>28</td>\n",
       "      <td>30</td>\n",
       "      <td>30</td>\n",
       "      <td>31</td>\n",
       "    </tr>\n",
       "    <tr>\n",
       "      <th>2</th>\n",
       "      <td>NaN</td>\n",
       "      <td>Algeria</td>\n",
       "      <td>0</td>\n",
       "      <td>0</td>\n",
       "      <td>0</td>\n",
       "      <td>0</td>\n",
       "      <td>0</td>\n",
       "      <td>0</td>\n",
       "      <td>0</td>\n",
       "      <td>0</td>\n",
       "      <td>...</td>\n",
       "      <td>392</td>\n",
       "      <td>402</td>\n",
       "      <td>407</td>\n",
       "      <td>415</td>\n",
       "      <td>419</td>\n",
       "      <td>425</td>\n",
       "      <td>432</td>\n",
       "      <td>437</td>\n",
       "      <td>444</td>\n",
       "      <td>450</td>\n",
       "    </tr>\n",
       "    <tr>\n",
       "      <th>3</th>\n",
       "      <td>NaN</td>\n",
       "      <td>Andorra</td>\n",
       "      <td>0</td>\n",
       "      <td>0</td>\n",
       "      <td>0</td>\n",
       "      <td>0</td>\n",
       "      <td>0</td>\n",
       "      <td>0</td>\n",
       "      <td>0</td>\n",
       "      <td>0</td>\n",
       "      <td>...</td>\n",
       "      <td>37</td>\n",
       "      <td>37</td>\n",
       "      <td>37</td>\n",
       "      <td>40</td>\n",
       "      <td>40</td>\n",
       "      <td>40</td>\n",
       "      <td>40</td>\n",
       "      <td>41</td>\n",
       "      <td>42</td>\n",
       "      <td>42</td>\n",
       "    </tr>\n",
       "    <tr>\n",
       "      <th>4</th>\n",
       "      <td>NaN</td>\n",
       "      <td>Angola</td>\n",
       "      <td>0</td>\n",
       "      <td>0</td>\n",
       "      <td>0</td>\n",
       "      <td>0</td>\n",
       "      <td>0</td>\n",
       "      <td>0</td>\n",
       "      <td>0</td>\n",
       "      <td>0</td>\n",
       "      <td>...</td>\n",
       "      <td>2</td>\n",
       "      <td>2</td>\n",
       "      <td>2</td>\n",
       "      <td>2</td>\n",
       "      <td>2</td>\n",
       "      <td>2</td>\n",
       "      <td>2</td>\n",
       "      <td>2</td>\n",
       "      <td>2</td>\n",
       "      <td>2</td>\n",
       "    </tr>\n",
       "  </tbody>\n",
       "</table>\n",
       "<p>5 rows × 102 columns</p>\n",
       "</div>"
      ],
      "text/plain": [
       "  Province/State Country/Region  1/22/20  1/23/20  1/24/20  1/25/20  1/26/20  \\\n",
       "0            NaN    Afghanistan        0        0        0        0        0   \n",
       "1            NaN        Albania        0        0        0        0        0   \n",
       "2            NaN        Algeria        0        0        0        0        0   \n",
       "3            NaN        Andorra        0        0        0        0        0   \n",
       "4            NaN         Angola        0        0        0        0        0   \n",
       "\n",
       "   1/27/20  1/28/20  1/29/20  ...  4/21/20  4/22/20  4/23/20  4/24/20  \\\n",
       "0        0        0        0  ...       36       40       42       43   \n",
       "1        0        0        0  ...       26       27       27       27   \n",
       "2        0        0        0  ...      392      402      407      415   \n",
       "3        0        0        0  ...       37       37       37       40   \n",
       "4        0        0        0  ...        2        2        2        2   \n",
       "\n",
       "   4/25/20  4/26/20  4/27/20  4/28/20  4/29/20  4/30/20  \n",
       "0       47       50       57       58       60       64  \n",
       "1       27       28       28       30       30       31  \n",
       "2      419      425      432      437      444      450  \n",
       "3       40       40       40       41       42       42  \n",
       "4        2        2        2        2        2        2  \n",
       "\n",
       "[5 rows x 102 columns]"
      ]
     },
     "execution_count": 516,
     "metadata": {},
     "output_type": "execute_result"
    }
   ],
   "source": [
    "covid19_deaths.head()"
   ]
  },
  {
   "cell_type": "code",
   "execution_count": 517,
   "metadata": {},
   "outputs": [],
   "source": [
    "covid19_deaths_aggregated = covid19_deaths.groupby('Country/Region').sum()"
   ]
  },
  {
   "cell_type": "code",
   "execution_count": 518,
   "metadata": {},
   "outputs": [
    {
     "data": {
      "application/vnd.microsoft.datawrangler.viewer.v0+json": {
       "columns": [
        {
         "name": "Country/Region",
         "rawType": "object",
         "type": "string"
        },
        {
         "name": "Province/State",
         "rawType": "object",
         "type": "unknown"
        },
        {
         "name": "1/22/20",
         "rawType": "int64",
         "type": "integer"
        },
        {
         "name": "1/23/20",
         "rawType": "int64",
         "type": "integer"
        },
        {
         "name": "1/24/20",
         "rawType": "int64",
         "type": "integer"
        },
        {
         "name": "1/25/20",
         "rawType": "int64",
         "type": "integer"
        },
        {
         "name": "1/26/20",
         "rawType": "int64",
         "type": "integer"
        },
        {
         "name": "1/27/20",
         "rawType": "int64",
         "type": "integer"
        },
        {
         "name": "1/28/20",
         "rawType": "int64",
         "type": "integer"
        },
        {
         "name": "1/29/20",
         "rawType": "int64",
         "type": "integer"
        },
        {
         "name": "1/30/20",
         "rawType": "int64",
         "type": "integer"
        },
        {
         "name": "1/31/20",
         "rawType": "int64",
         "type": "integer"
        },
        {
         "name": "2/1/20",
         "rawType": "int64",
         "type": "integer"
        },
        {
         "name": "2/2/20",
         "rawType": "int64",
         "type": "integer"
        },
        {
         "name": "2/3/20",
         "rawType": "int64",
         "type": "integer"
        },
        {
         "name": "2/4/20",
         "rawType": "int64",
         "type": "integer"
        },
        {
         "name": "2/5/20",
         "rawType": "int64",
         "type": "integer"
        },
        {
         "name": "2/6/20",
         "rawType": "int64",
         "type": "integer"
        },
        {
         "name": "2/7/20",
         "rawType": "int64",
         "type": "integer"
        },
        {
         "name": "2/8/20",
         "rawType": "int64",
         "type": "integer"
        },
        {
         "name": "2/9/20",
         "rawType": "int64",
         "type": "integer"
        },
        {
         "name": "2/10/20",
         "rawType": "int64",
         "type": "integer"
        },
        {
         "name": "2/11/20",
         "rawType": "int64",
         "type": "integer"
        },
        {
         "name": "2/12/20",
         "rawType": "int64",
         "type": "integer"
        },
        {
         "name": "2/13/20",
         "rawType": "int64",
         "type": "integer"
        },
        {
         "name": "2/14/20",
         "rawType": "int64",
         "type": "integer"
        },
        {
         "name": "2/15/20",
         "rawType": "int64",
         "type": "integer"
        },
        {
         "name": "2/16/20",
         "rawType": "int64",
         "type": "integer"
        },
        {
         "name": "2/17/20",
         "rawType": "int64",
         "type": "integer"
        },
        {
         "name": "2/18/20",
         "rawType": "int64",
         "type": "integer"
        },
        {
         "name": "2/19/20",
         "rawType": "int64",
         "type": "integer"
        },
        {
         "name": "2/20/20",
         "rawType": "int64",
         "type": "integer"
        },
        {
         "name": "2/21/20",
         "rawType": "int64",
         "type": "integer"
        },
        {
         "name": "2/22/20",
         "rawType": "int64",
         "type": "integer"
        },
        {
         "name": "2/23/20",
         "rawType": "int64",
         "type": "integer"
        },
        {
         "name": "2/24/20",
         "rawType": "int64",
         "type": "integer"
        },
        {
         "name": "2/25/20",
         "rawType": "int64",
         "type": "integer"
        },
        {
         "name": "2/26/20",
         "rawType": "int64",
         "type": "integer"
        },
        {
         "name": "2/27/20",
         "rawType": "int64",
         "type": "integer"
        },
        {
         "name": "2/28/20",
         "rawType": "int64",
         "type": "integer"
        },
        {
         "name": "2/29/20",
         "rawType": "int64",
         "type": "integer"
        },
        {
         "name": "3/1/20",
         "rawType": "int64",
         "type": "integer"
        },
        {
         "name": "3/2/20",
         "rawType": "int64",
         "type": "integer"
        },
        {
         "name": "3/3/20",
         "rawType": "int64",
         "type": "integer"
        },
        {
         "name": "3/4/20",
         "rawType": "int64",
         "type": "integer"
        },
        {
         "name": "3/5/20",
         "rawType": "int64",
         "type": "integer"
        },
        {
         "name": "3/6/20",
         "rawType": "int64",
         "type": "integer"
        },
        {
         "name": "3/7/20",
         "rawType": "int64",
         "type": "integer"
        },
        {
         "name": "3/8/20",
         "rawType": "int64",
         "type": "integer"
        },
        {
         "name": "3/9/20",
         "rawType": "int64",
         "type": "integer"
        },
        {
         "name": "3/10/20",
         "rawType": "int64",
         "type": "integer"
        },
        {
         "name": "3/11/20",
         "rawType": "int64",
         "type": "integer"
        },
        {
         "name": "3/12/20",
         "rawType": "int64",
         "type": "integer"
        },
        {
         "name": "3/13/20",
         "rawType": "int64",
         "type": "integer"
        },
        {
         "name": "3/14/20",
         "rawType": "int64",
         "type": "integer"
        },
        {
         "name": "3/15/20",
         "rawType": "int64",
         "type": "integer"
        },
        {
         "name": "3/16/20",
         "rawType": "int64",
         "type": "integer"
        },
        {
         "name": "3/17/20",
         "rawType": "int64",
         "type": "integer"
        },
        {
         "name": "3/18/20",
         "rawType": "int64",
         "type": "integer"
        },
        {
         "name": "3/19/20",
         "rawType": "int64",
         "type": "integer"
        },
        {
         "name": "3/20/20",
         "rawType": "int64",
         "type": "integer"
        },
        {
         "name": "3/21/20",
         "rawType": "int64",
         "type": "integer"
        },
        {
         "name": "3/22/20",
         "rawType": "int64",
         "type": "integer"
        },
        {
         "name": "3/23/20",
         "rawType": "int64",
         "type": "integer"
        },
        {
         "name": "3/24/20",
         "rawType": "int64",
         "type": "integer"
        },
        {
         "name": "3/25/20",
         "rawType": "int64",
         "type": "integer"
        },
        {
         "name": "3/26/20",
         "rawType": "int64",
         "type": "integer"
        },
        {
         "name": "3/27/20",
         "rawType": "int64",
         "type": "integer"
        },
        {
         "name": "3/28/20",
         "rawType": "int64",
         "type": "integer"
        },
        {
         "name": "3/29/20",
         "rawType": "int64",
         "type": "integer"
        },
        {
         "name": "3/30/20",
         "rawType": "int64",
         "type": "integer"
        },
        {
         "name": "3/31/20",
         "rawType": "int64",
         "type": "integer"
        },
        {
         "name": "4/1/20",
         "rawType": "int64",
         "type": "integer"
        },
        {
         "name": "4/2/20",
         "rawType": "int64",
         "type": "integer"
        },
        {
         "name": "4/3/20",
         "rawType": "int64",
         "type": "integer"
        },
        {
         "name": "4/4/20",
         "rawType": "int64",
         "type": "integer"
        },
        {
         "name": "4/5/20",
         "rawType": "int64",
         "type": "integer"
        },
        {
         "name": "4/6/20",
         "rawType": "int64",
         "type": "integer"
        },
        {
         "name": "4/7/20",
         "rawType": "int64",
         "type": "integer"
        },
        {
         "name": "4/8/20",
         "rawType": "int64",
         "type": "integer"
        },
        {
         "name": "4/9/20",
         "rawType": "int64",
         "type": "integer"
        },
        {
         "name": "4/10/20",
         "rawType": "int64",
         "type": "integer"
        },
        {
         "name": "4/11/20",
         "rawType": "int64",
         "type": "integer"
        },
        {
         "name": "4/12/20",
         "rawType": "int64",
         "type": "integer"
        },
        {
         "name": "4/13/20",
         "rawType": "int64",
         "type": "integer"
        },
        {
         "name": "4/14/20",
         "rawType": "int64",
         "type": "integer"
        },
        {
         "name": "4/15/20",
         "rawType": "int64",
         "type": "integer"
        },
        {
         "name": "4/16/20",
         "rawType": "int64",
         "type": "integer"
        },
        {
         "name": "4/17/20",
         "rawType": "int64",
         "type": "integer"
        },
        {
         "name": "4/18/20",
         "rawType": "int64",
         "type": "integer"
        },
        {
         "name": "4/19/20",
         "rawType": "int64",
         "type": "integer"
        },
        {
         "name": "4/20/20",
         "rawType": "int64",
         "type": "integer"
        },
        {
         "name": "4/21/20",
         "rawType": "int64",
         "type": "integer"
        },
        {
         "name": "4/22/20",
         "rawType": "int64",
         "type": "integer"
        },
        {
         "name": "4/23/20",
         "rawType": "int64",
         "type": "integer"
        },
        {
         "name": "4/24/20",
         "rawType": "int64",
         "type": "integer"
        },
        {
         "name": "4/25/20",
         "rawType": "int64",
         "type": "integer"
        },
        {
         "name": "4/26/20",
         "rawType": "int64",
         "type": "integer"
        },
        {
         "name": "4/27/20",
         "rawType": "int64",
         "type": "integer"
        },
        {
         "name": "4/28/20",
         "rawType": "int64",
         "type": "integer"
        },
        {
         "name": "4/29/20",
         "rawType": "int64",
         "type": "integer"
        },
        {
         "name": "4/30/20",
         "rawType": "int64",
         "type": "integer"
        }
       ],
       "ref": "ccb800a1-adf1-4303-9275-73d68b2ed1de",
       "rows": [
        [
         "Afghanistan",
         "0",
         "0",
         "0",
         "0",
         "0",
         "0",
         "0",
         "0",
         "0",
         "0",
         "0",
         "0",
         "0",
         "0",
         "0",
         "0",
         "0",
         "0",
         "0",
         "0",
         "0",
         "0",
         "0",
         "0",
         "0",
         "0",
         "0",
         "0",
         "0",
         "0",
         "0",
         "0",
         "0",
         "0",
         "0",
         "0",
         "0",
         "0",
         "0",
         "0",
         "0",
         "0",
         "0",
         "0",
         "0",
         "0",
         "0",
         "0",
         "0",
         "0",
         "0",
         "0",
         "0",
         "0",
         "0",
         "0",
         "0",
         "0",
         "0",
         "0",
         "0",
         "1",
         "1",
         "1",
         "2",
         "4",
         "4",
         "4",
         "4",
         "4",
         "4",
         "4",
         "6",
         "6",
         "7",
         "7",
         "11",
         "14",
         "14",
         "15",
         "15",
         "18",
         "18",
         "21",
         "23",
         "25",
         "30",
         "30",
         "30",
         "33",
         "36",
         "36",
         "40",
         "42",
         "43",
         "47",
         "50",
         "57",
         "58",
         "60",
         "64"
        ],
        [
         "Albania",
         "0",
         "0",
         "0",
         "0",
         "0",
         "0",
         "0",
         "0",
         "0",
         "0",
         "0",
         "0",
         "0",
         "0",
         "0",
         "0",
         "0",
         "0",
         "0",
         "0",
         "0",
         "0",
         "0",
         "0",
         "0",
         "0",
         "0",
         "0",
         "0",
         "0",
         "0",
         "0",
         "0",
         "0",
         "0",
         "0",
         "0",
         "0",
         "0",
         "0",
         "0",
         "0",
         "0",
         "0",
         "0",
         "0",
         "0",
         "0",
         "0",
         "0",
         "1",
         "1",
         "1",
         "1",
         "1",
         "1",
         "1",
         "2",
         "2",
         "2",
         "2",
         "2",
         "4",
         "5",
         "5",
         "6",
         "8",
         "10",
         "10",
         "11",
         "15",
         "15",
         "16",
         "17",
         "20",
         "20",
         "21",
         "22",
         "22",
         "23",
         "23",
         "23",
         "23",
         "23",
         "24",
         "25",
         "26",
         "26",
         "26",
         "26",
         "26",
         "26",
         "27",
         "27",
         "27",
         "27",
         "28",
         "28",
         "30",
         "30",
         "31"
        ],
        [
         "Algeria",
         "0",
         "0",
         "0",
         "0",
         "0",
         "0",
         "0",
         "0",
         "0",
         "0",
         "0",
         "0",
         "0",
         "0",
         "0",
         "0",
         "0",
         "0",
         "0",
         "0",
         "0",
         "0",
         "0",
         "0",
         "0",
         "0",
         "0",
         "0",
         "0",
         "0",
         "0",
         "0",
         "0",
         "0",
         "0",
         "0",
         "0",
         "0",
         "0",
         "0",
         "0",
         "0",
         "0",
         "0",
         "0",
         "0",
         "0",
         "0",
         "0",
         "0",
         "0",
         "1",
         "2",
         "3",
         "4",
         "4",
         "4",
         "7",
         "9",
         "11",
         "15",
         "17",
         "17",
         "19",
         "21",
         "25",
         "26",
         "29",
         "31",
         "35",
         "44",
         "58",
         "86",
         "105",
         "130",
         "152",
         "173",
         "193",
         "205",
         "235",
         "256",
         "275",
         "293",
         "313",
         "326",
         "336",
         "348",
         "364",
         "367",
         "375",
         "384",
         "392",
         "402",
         "407",
         "415",
         "419",
         "425",
         "432",
         "437",
         "444",
         "450"
        ],
        [
         "Andorra",
         "0",
         "0",
         "0",
         "0",
         "0",
         "0",
         "0",
         "0",
         "0",
         "0",
         "0",
         "0",
         "0",
         "0",
         "0",
         "0",
         "0",
         "0",
         "0",
         "0",
         "0",
         "0",
         "0",
         "0",
         "0",
         "0",
         "0",
         "0",
         "0",
         "0",
         "0",
         "0",
         "0",
         "0",
         "0",
         "0",
         "0",
         "0",
         "0",
         "0",
         "0",
         "0",
         "0",
         "0",
         "0",
         "0",
         "0",
         "0",
         "0",
         "0",
         "0",
         "0",
         "0",
         "0",
         "0",
         "0",
         "0",
         "0",
         "0",
         "0",
         "0",
         "1",
         "1",
         "1",
         "1",
         "3",
         "3",
         "3",
         "6",
         "8",
         "12",
         "14",
         "15",
         "16",
         "17",
         "18",
         "21",
         "22",
         "23",
         "25",
         "26",
         "26",
         "29",
         "29",
         "31",
         "33",
         "33",
         "35",
         "35",
         "36",
         "37",
         "37",
         "37",
         "37",
         "40",
         "40",
         "40",
         "40",
         "41",
         "42",
         "42"
        ],
        [
         "Angola",
         "0",
         "0",
         "0",
         "0",
         "0",
         "0",
         "0",
         "0",
         "0",
         "0",
         "0",
         "0",
         "0",
         "0",
         "0",
         "0",
         "0",
         "0",
         "0",
         "0",
         "0",
         "0",
         "0",
         "0",
         "0",
         "0",
         "0",
         "0",
         "0",
         "0",
         "0",
         "0",
         "0",
         "0",
         "0",
         "0",
         "0",
         "0",
         "0",
         "0",
         "0",
         "0",
         "0",
         "0",
         "0",
         "0",
         "0",
         "0",
         "0",
         "0",
         "0",
         "0",
         "0",
         "0",
         "0",
         "0",
         "0",
         "0",
         "0",
         "0",
         "0",
         "0",
         "0",
         "0",
         "0",
         "0",
         "0",
         "0",
         "2",
         "2",
         "2",
         "2",
         "2",
         "2",
         "2",
         "2",
         "2",
         "2",
         "2",
         "2",
         "2",
         "2",
         "2",
         "2",
         "2",
         "2",
         "2",
         "2",
         "2",
         "2",
         "2",
         "2",
         "2",
         "2",
         "2",
         "2",
         "2",
         "2",
         "2",
         "2",
         "2"
        ]
       ],
       "shape": {
        "columns": 101,
        "rows": 5
       }
      },
      "text/html": [
       "<div>\n",
       "<style scoped>\n",
       "    .dataframe tbody tr th:only-of-type {\n",
       "        vertical-align: middle;\n",
       "    }\n",
       "\n",
       "    .dataframe tbody tr th {\n",
       "        vertical-align: top;\n",
       "    }\n",
       "\n",
       "    .dataframe thead th {\n",
       "        text-align: right;\n",
       "    }\n",
       "</style>\n",
       "<table border=\"1\" class=\"dataframe\">\n",
       "  <thead>\n",
       "    <tr style=\"text-align: right;\">\n",
       "      <th></th>\n",
       "      <th>Province/State</th>\n",
       "      <th>1/22/20</th>\n",
       "      <th>1/23/20</th>\n",
       "      <th>1/24/20</th>\n",
       "      <th>1/25/20</th>\n",
       "      <th>1/26/20</th>\n",
       "      <th>1/27/20</th>\n",
       "      <th>1/28/20</th>\n",
       "      <th>1/29/20</th>\n",
       "      <th>1/30/20</th>\n",
       "      <th>...</th>\n",
       "      <th>4/21/20</th>\n",
       "      <th>4/22/20</th>\n",
       "      <th>4/23/20</th>\n",
       "      <th>4/24/20</th>\n",
       "      <th>4/25/20</th>\n",
       "      <th>4/26/20</th>\n",
       "      <th>4/27/20</th>\n",
       "      <th>4/28/20</th>\n",
       "      <th>4/29/20</th>\n",
       "      <th>4/30/20</th>\n",
       "    </tr>\n",
       "    <tr>\n",
       "      <th>Country/Region</th>\n",
       "      <th></th>\n",
       "      <th></th>\n",
       "      <th></th>\n",
       "      <th></th>\n",
       "      <th></th>\n",
       "      <th></th>\n",
       "      <th></th>\n",
       "      <th></th>\n",
       "      <th></th>\n",
       "      <th></th>\n",
       "      <th></th>\n",
       "      <th></th>\n",
       "      <th></th>\n",
       "      <th></th>\n",
       "      <th></th>\n",
       "      <th></th>\n",
       "      <th></th>\n",
       "      <th></th>\n",
       "      <th></th>\n",
       "      <th></th>\n",
       "      <th></th>\n",
       "    </tr>\n",
       "  </thead>\n",
       "  <tbody>\n",
       "    <tr>\n",
       "      <th>Afghanistan</th>\n",
       "      <td>0</td>\n",
       "      <td>0</td>\n",
       "      <td>0</td>\n",
       "      <td>0</td>\n",
       "      <td>0</td>\n",
       "      <td>0</td>\n",
       "      <td>0</td>\n",
       "      <td>0</td>\n",
       "      <td>0</td>\n",
       "      <td>0</td>\n",
       "      <td>...</td>\n",
       "      <td>36</td>\n",
       "      <td>40</td>\n",
       "      <td>42</td>\n",
       "      <td>43</td>\n",
       "      <td>47</td>\n",
       "      <td>50</td>\n",
       "      <td>57</td>\n",
       "      <td>58</td>\n",
       "      <td>60</td>\n",
       "      <td>64</td>\n",
       "    </tr>\n",
       "    <tr>\n",
       "      <th>Albania</th>\n",
       "      <td>0</td>\n",
       "      <td>0</td>\n",
       "      <td>0</td>\n",
       "      <td>0</td>\n",
       "      <td>0</td>\n",
       "      <td>0</td>\n",
       "      <td>0</td>\n",
       "      <td>0</td>\n",
       "      <td>0</td>\n",
       "      <td>0</td>\n",
       "      <td>...</td>\n",
       "      <td>26</td>\n",
       "      <td>27</td>\n",
       "      <td>27</td>\n",
       "      <td>27</td>\n",
       "      <td>27</td>\n",
       "      <td>28</td>\n",
       "      <td>28</td>\n",
       "      <td>30</td>\n",
       "      <td>30</td>\n",
       "      <td>31</td>\n",
       "    </tr>\n",
       "    <tr>\n",
       "      <th>Algeria</th>\n",
       "      <td>0</td>\n",
       "      <td>0</td>\n",
       "      <td>0</td>\n",
       "      <td>0</td>\n",
       "      <td>0</td>\n",
       "      <td>0</td>\n",
       "      <td>0</td>\n",
       "      <td>0</td>\n",
       "      <td>0</td>\n",
       "      <td>0</td>\n",
       "      <td>...</td>\n",
       "      <td>392</td>\n",
       "      <td>402</td>\n",
       "      <td>407</td>\n",
       "      <td>415</td>\n",
       "      <td>419</td>\n",
       "      <td>425</td>\n",
       "      <td>432</td>\n",
       "      <td>437</td>\n",
       "      <td>444</td>\n",
       "      <td>450</td>\n",
       "    </tr>\n",
       "    <tr>\n",
       "      <th>Andorra</th>\n",
       "      <td>0</td>\n",
       "      <td>0</td>\n",
       "      <td>0</td>\n",
       "      <td>0</td>\n",
       "      <td>0</td>\n",
       "      <td>0</td>\n",
       "      <td>0</td>\n",
       "      <td>0</td>\n",
       "      <td>0</td>\n",
       "      <td>0</td>\n",
       "      <td>...</td>\n",
       "      <td>37</td>\n",
       "      <td>37</td>\n",
       "      <td>37</td>\n",
       "      <td>40</td>\n",
       "      <td>40</td>\n",
       "      <td>40</td>\n",
       "      <td>40</td>\n",
       "      <td>41</td>\n",
       "      <td>42</td>\n",
       "      <td>42</td>\n",
       "    </tr>\n",
       "    <tr>\n",
       "      <th>Angola</th>\n",
       "      <td>0</td>\n",
       "      <td>0</td>\n",
       "      <td>0</td>\n",
       "      <td>0</td>\n",
       "      <td>0</td>\n",
       "      <td>0</td>\n",
       "      <td>0</td>\n",
       "      <td>0</td>\n",
       "      <td>0</td>\n",
       "      <td>0</td>\n",
       "      <td>...</td>\n",
       "      <td>2</td>\n",
       "      <td>2</td>\n",
       "      <td>2</td>\n",
       "      <td>2</td>\n",
       "      <td>2</td>\n",
       "      <td>2</td>\n",
       "      <td>2</td>\n",
       "      <td>2</td>\n",
       "      <td>2</td>\n",
       "      <td>2</td>\n",
       "    </tr>\n",
       "  </tbody>\n",
       "</table>\n",
       "<p>5 rows × 101 columns</p>\n",
       "</div>"
      ],
      "text/plain": [
       "               Province/State  1/22/20  1/23/20  1/24/20  1/25/20  1/26/20  \\\n",
       "Country/Region                                                               \n",
       "Afghanistan                 0        0        0        0        0        0   \n",
       "Albania                     0        0        0        0        0        0   \n",
       "Algeria                     0        0        0        0        0        0   \n",
       "Andorra                     0        0        0        0        0        0   \n",
       "Angola                      0        0        0        0        0        0   \n",
       "\n",
       "                1/27/20  1/28/20  1/29/20  1/30/20  ...  4/21/20  4/22/20  \\\n",
       "Country/Region                                      ...                     \n",
       "Afghanistan           0        0        0        0  ...       36       40   \n",
       "Albania               0        0        0        0  ...       26       27   \n",
       "Algeria               0        0        0        0  ...      392      402   \n",
       "Andorra               0        0        0        0  ...       37       37   \n",
       "Angola                0        0        0        0  ...        2        2   \n",
       "\n",
       "                4/23/20  4/24/20  4/25/20  4/26/20  4/27/20  4/28/20  4/29/20  \\\n",
       "Country/Region                                                                  \n",
       "Afghanistan          42       43       47       50       57       58       60   \n",
       "Albania              27       27       27       28       28       30       30   \n",
       "Algeria             407      415      419      425      432      437      444   \n",
       "Andorra              37       40       40       40       40       41       42   \n",
       "Angola                2        2        2        2        2        2        2   \n",
       "\n",
       "                4/30/20  \n",
       "Country/Region           \n",
       "Afghanistan          64  \n",
       "Albania              31  \n",
       "Algeria             450  \n",
       "Andorra              42  \n",
       "Angola                2  \n",
       "\n",
       "[5 rows x 101 columns]"
      ]
     },
     "execution_count": 518,
     "metadata": {},
     "output_type": "execute_result"
    }
   ],
   "source": [
    "covid19_deaths_aggregated.head()"
   ]
  },
  {
   "cell_type": "code",
   "execution_count": 519,
   "metadata": {},
   "outputs": [
    {
     "data": {
      "text/plain": [
       "(187, 101)"
      ]
     },
     "execution_count": 519,
     "metadata": {},
     "output_type": "execute_result"
    }
   ],
   "source": [
    "covid19_deaths_aggregated.shape"
   ]
  },
  {
   "cell_type": "markdown",
   "metadata": {},
   "source": [
    "### Task 6.3: Calculating the first derivative of the curve"
   ]
  },
  {
   "cell_type": "code",
   "execution_count": 520,
   "metadata": {},
   "outputs": [
    {
     "data": {
      "text/plain": [
       "<Axes: >"
      ]
     },
     "execution_count": 520,
     "metadata": {},
     "output_type": "execute_result"
    },
    {
     "data": {
      "image/png": "[encoded data removed]",
      "text/plain": [
       "<Figure size 640x480 with 1 Axes>"
      ]
     },
     "metadata": {},
     "output_type": "display_data"
    }
   ],
   "source": [
    "covid19_deaths_aggregated.loc['US'].drop('Province/State', errors='ignore').diff().plot()"
   ]
  },
  {
   "cell_type": "markdown",
   "metadata": {},
   "source": [
    "### Task 6.4: Find the maximum death rate for all countries"
   ]
  },
  {
   "cell_type": "code",
   "execution_count": 521,
   "metadata": {},
   "outputs": [],
   "source": [
    "max_death_rates = []\n",
    "for c in countries:\n",
    "    max_death_rates.append(\n",
    "        covid19_deaths_aggregated.loc[c].drop('Province/State', errors='ignore').diff().max()\n",
    "    )\n",
    "covid19_deaths_aggregated['max_death_rate'] = max_death_rates"
   ]
  },
  {
   "cell_type": "code",
   "execution_count": 522,
   "metadata": {},
   "outputs": [
    {
     "data": {
      "application/vnd.microsoft.datawrangler.viewer.v0+json": {
       "columns": [
        {
         "name": "Country/Region",
         "rawType": "object",
         "type": "string"
        },
        {
         "name": "Province/State",
         "rawType": "object",
         "type": "unknown"
        },
        {
         "name": "1/22/20",
         "rawType": "int64",
         "type": "integer"
        },
        {
         "name": "1/23/20",
         "rawType": "int64",
         "type": "integer"
        },
        {
         "name": "1/24/20",
         "rawType": "int64",
         "type": "integer"
        },
        {
         "name": "1/25/20",
         "rawType": "int64",
         "type": "integer"
        },
        {
         "name": "1/26/20",
         "rawType": "int64",
         "type": "integer"
        },
        {
         "name": "1/27/20",
         "rawType": "int64",
         "type": "integer"
        },
        {
         "name": "1/28/20",
         "rawType": "int64",
         "type": "integer"
        },
        {
         "name": "1/29/20",
         "rawType": "int64",
         "type": "integer"
        },
        {
         "name": "1/30/20",
         "rawType": "int64",
         "type": "integer"
        },
        {
         "name": "1/31/20",
         "rawType": "int64",
         "type": "integer"
        },
        {
         "name": "2/1/20",
         "rawType": "int64",
         "type": "integer"
        },
        {
         "name": "2/2/20",
         "rawType": "int64",
         "type": "integer"
        },
        {
         "name": "2/3/20",
         "rawType": "int64",
         "type": "integer"
        },
        {
         "name": "2/4/20",
         "rawType": "int64",
         "type": "integer"
        },
        {
         "name": "2/5/20",
         "rawType": "int64",
         "type": "integer"
        },
        {
         "name": "2/6/20",
         "rawType": "int64",
         "type": "integer"
        },
        {
         "name": "2/7/20",
         "rawType": "int64",
         "type": "integer"
        },
        {
         "name": "2/8/20",
         "rawType": "int64",
         "type": "integer"
        },
        {
         "name": "2/9/20",
         "rawType": "int64",
         "type": "integer"
        },
        {
         "name": "2/10/20",
         "rawType": "int64",
         "type": "integer"
        },
        {
         "name": "2/11/20",
         "rawType": "int64",
         "type": "integer"
        },
        {
         "name": "2/12/20",
         "rawType": "int64",
         "type": "integer"
        },
        {
         "name": "2/13/20",
         "rawType": "int64",
         "type": "integer"
        },
        {
         "name": "2/14/20",
         "rawType": "int64",
         "type": "integer"
        },
        {
         "name": "2/15/20",
         "rawType": "int64",
         "type": "integer"
        },
        {
         "name": "2/16/20",
         "rawType": "int64",
         "type": "integer"
        },
        {
         "name": "2/17/20",
         "rawType": "int64",
         "type": "integer"
        },
        {
         "name": "2/18/20",
         "rawType": "int64",
         "type": "integer"
        },
        {
         "name": "2/19/20",
         "rawType": "int64",
         "type": "integer"
        },
        {
         "name": "2/20/20",
         "rawType": "int64",
         "type": "integer"
        },
        {
         "name": "2/21/20",
         "rawType": "int64",
         "type": "integer"
        },
        {
         "name": "2/22/20",
         "rawType": "int64",
         "type": "integer"
        },
        {
         "name": "2/23/20",
         "rawType": "int64",
         "type": "integer"
        },
        {
         "name": "2/24/20",
         "rawType": "int64",
         "type": "integer"
        },
        {
         "name": "2/25/20",
         "rawType": "int64",
         "type": "integer"
        },
        {
         "name": "2/26/20",
         "rawType": "int64",
         "type": "integer"
        },
        {
         "name": "2/27/20",
         "rawType": "int64",
         "type": "integer"
        },
        {
         "name": "2/28/20",
         "rawType": "int64",
         "type": "integer"
        },
        {
         "name": "2/29/20",
         "rawType": "int64",
         "type": "integer"
        },
        {
         "name": "3/1/20",
         "rawType": "int64",
         "type": "integer"
        },
        {
         "name": "3/2/20",
         "rawType": "int64",
         "type": "integer"
        },
        {
         "name": "3/3/20",
         "rawType": "int64",
         "type": "integer"
        },
        {
         "name": "3/4/20",
         "rawType": "int64",
         "type": "integer"
        },
        {
         "name": "3/5/20",
         "rawType": "int64",
         "type": "integer"
        },
        {
         "name": "3/6/20",
         "rawType": "int64",
         "type": "integer"
        },
        {
         "name": "3/7/20",
         "rawType": "int64",
         "type": "integer"
        },
        {
         "name": "3/8/20",
         "rawType": "int64",
         "type": "integer"
        },
        {
         "name": "3/9/20",
         "rawType": "int64",
         "type": "integer"
        },
        {
         "name": "3/10/20",
         "rawType": "int64",
         "type": "integer"
        },
        {
         "name": "3/11/20",
         "rawType": "int64",
         "type": "integer"
        },
        {
         "name": "3/12/20",
         "rawType": "int64",
         "type": "integer"
        },
        {
         "name": "3/13/20",
         "rawType": "int64",
         "type": "integer"
        },
        {
         "name": "3/14/20",
         "rawType": "int64",
         "type": "integer"
        },
        {
         "name": "3/15/20",
         "rawType": "int64",
         "type": "integer"
        },
        {
         "name": "3/16/20",
         "rawType": "int64",
         "type": "integer"
        },
        {
         "name": "3/17/20",
         "rawType": "int64",
         "type": "integer"
        },
        {
         "name": "3/18/20",
         "rawType": "int64",
         "type": "integer"
        },
        {
         "name": "3/19/20",
         "rawType": "int64",
         "type": "integer"
        },
        {
         "name": "3/20/20",
         "rawType": "int64",
         "type": "integer"
        },
        {
         "name": "3/21/20",
         "rawType": "int64",
         "type": "integer"
        },
        {
         "name": "3/22/20",
         "rawType": "int64",
         "type": "integer"
        },
        {
         "name": "3/23/20",
         "rawType": "int64",
         "type": "integer"
        },
        {
         "name": "3/24/20",
         "rawType": "int64",
         "type": "integer"
        },
        {
         "name": "3/25/20",
         "rawType": "int64",
         "type": "integer"
        },
        {
         "name": "3/26/20",
         "rawType": "int64",
         "type": "integer"
        },
        {
         "name": "3/27/20",
         "rawType": "int64",
         "type": "integer"
        },
        {
         "name": "3/28/20",
         "rawType": "int64",
         "type": "integer"
        },
        {
         "name": "3/29/20",
         "rawType": "int64",
         "type": "integer"
        },
        {
         "name": "3/30/20",
         "rawType": "int64",
         "type": "integer"
        },
        {
         "name": "3/31/20",
         "rawType": "int64",
         "type": "integer"
        },
        {
         "name": "4/1/20",
         "rawType": "int64",
         "type": "integer"
        },
        {
         "name": "4/2/20",
         "rawType": "int64",
         "type": "integer"
        },
        {
         "name": "4/3/20",
         "rawType": "int64",
         "type": "integer"
        },
        {
         "name": "4/4/20",
         "rawType": "int64",
         "type": "integer"
        },
        {
         "name": "4/5/20",
         "rawType": "int64",
         "type": "integer"
        },
        {
         "name": "4/6/20",
         "rawType": "int64",
         "type": "integer"
        },
        {
         "name": "4/7/20",
         "rawType": "int64",
         "type": "integer"
        },
        {
         "name": "4/8/20",
         "rawType": "int64",
         "type": "integer"
        },
        {
         "name": "4/9/20",
         "rawType": "int64",
         "type": "integer"
        },
        {
         "name": "4/10/20",
         "rawType": "int64",
         "type": "integer"
        },
        {
         "name": "4/11/20",
         "rawType": "int64",
         "type": "integer"
        },
        {
         "name": "4/12/20",
         "rawType": "int64",
         "type": "integer"
        },
        {
         "name": "4/13/20",
         "rawType": "int64",
         "type": "integer"
        },
        {
         "name": "4/14/20",
         "rawType": "int64",
         "type": "integer"
        },
        {
         "name": "4/15/20",
         "rawType": "int64",
         "type": "integer"
        },
        {
         "name": "4/16/20",
         "rawType": "int64",
         "type": "integer"
        },
        {
         "name": "4/17/20",
         "rawType": "int64",
         "type": "integer"
        },
        {
         "name": "4/18/20",
         "rawType": "int64",
         "type": "integer"
        },
        {
         "name": "4/19/20",
         "rawType": "int64",
         "type": "integer"
        },
        {
         "name": "4/20/20",
         "rawType": "int64",
         "type": "integer"
        },
        {
         "name": "4/21/20",
         "rawType": "int64",
         "type": "integer"
        },
        {
         "name": "4/22/20",
         "rawType": "int64",
         "type": "integer"
        },
        {
         "name": "4/23/20",
         "rawType": "int64",
         "type": "integer"
        },
        {
         "name": "4/24/20",
         "rawType": "int64",
         "type": "integer"
        },
        {
         "name": "4/25/20",
         "rawType": "int64",
         "type": "integer"
        },
        {
         "name": "4/26/20",
         "rawType": "int64",
         "type": "integer"
        },
        {
         "name": "4/27/20",
         "rawType": "int64",
         "type": "integer"
        },
        {
         "name": "4/28/20",
         "rawType": "int64",
         "type": "integer"
        },
        {
         "name": "4/29/20",
         "rawType": "int64",
         "type": "integer"
        },
        {
         "name": "4/30/20",
         "rawType": "int64",
         "type": "integer"
        },
        {
         "name": "max_death_rate",
         "rawType": "int64",
         "type": "integer"
        }
       ],
       "ref": "29acd91c-6a6c-43da-8a50-a3ebf155747a",
       "rows": [
        [
         "Afghanistan",
         "0",
         "0",
         "0",
         "0",
         "0",
         "0",
         "0",
         "0",
         "0",
         "0",
         "0",
         "0",
         "0",
         "0",
         "0",
         "0",
         "0",
         "0",
         "0",
         "0",
         "0",
         "0",
         "0",
         "0",
         "0",
         "0",
         "0",
         "0",
         "0",
         "0",
         "0",
         "0",
         "0",
         "0",
         "0",
         "0",
         "0",
         "0",
         "0",
         "0",
         "0",
         "0",
         "0",
         "0",
         "0",
         "0",
         "0",
         "0",
         "0",
         "0",
         "0",
         "0",
         "0",
         "0",
         "0",
         "0",
         "0",
         "0",
         "0",
         "0",
         "0",
         "1",
         "1",
         "1",
         "2",
         "4",
         "4",
         "4",
         "4",
         "4",
         "4",
         "4",
         "6",
         "6",
         "7",
         "7",
         "11",
         "14",
         "14",
         "15",
         "15",
         "18",
         "18",
         "21",
         "23",
         "25",
         "30",
         "30",
         "30",
         "33",
         "36",
         "36",
         "40",
         "42",
         "43",
         "47",
         "50",
         "57",
         "58",
         "60",
         "64",
         "7"
        ],
        [
         "Albania",
         "0",
         "0",
         "0",
         "0",
         "0",
         "0",
         "0",
         "0",
         "0",
         "0",
         "0",
         "0",
         "0",
         "0",
         "0",
         "0",
         "0",
         "0",
         "0",
         "0",
         "0",
         "0",
         "0",
         "0",
         "0",
         "0",
         "0",
         "0",
         "0",
         "0",
         "0",
         "0",
         "0",
         "0",
         "0",
         "0",
         "0",
         "0",
         "0",
         "0",
         "0",
         "0",
         "0",
         "0",
         "0",
         "0",
         "0",
         "0",
         "0",
         "0",
         "1",
         "1",
         "1",
         "1",
         "1",
         "1",
         "1",
         "2",
         "2",
         "2",
         "2",
         "2",
         "4",
         "5",
         "5",
         "6",
         "8",
         "10",
         "10",
         "11",
         "15",
         "15",
         "16",
         "17",
         "20",
         "20",
         "21",
         "22",
         "22",
         "23",
         "23",
         "23",
         "23",
         "23",
         "24",
         "25",
         "26",
         "26",
         "26",
         "26",
         "26",
         "26",
         "27",
         "27",
         "27",
         "27",
         "28",
         "28",
         "30",
         "30",
         "31",
         "4"
        ],
        [
         "Algeria",
         "0",
         "0",
         "0",
         "0",
         "0",
         "0",
         "0",
         "0",
         "0",
         "0",
         "0",
         "0",
         "0",
         "0",
         "0",
         "0",
         "0",
         "0",
         "0",
         "0",
         "0",
         "0",
         "0",
         "0",
         "0",
         "0",
         "0",
         "0",
         "0",
         "0",
         "0",
         "0",
         "0",
         "0",
         "0",
         "0",
         "0",
         "0",
         "0",
         "0",
         "0",
         "0",
         "0",
         "0",
         "0",
         "0",
         "0",
         "0",
         "0",
         "0",
         "0",
         "1",
         "2",
         "3",
         "4",
         "4",
         "4",
         "7",
         "9",
         "11",
         "15",
         "17",
         "17",
         "19",
         "21",
         "25",
         "26",
         "29",
         "31",
         "35",
         "44",
         "58",
         "86",
         "105",
         "130",
         "152",
         "173",
         "193",
         "205",
         "235",
         "256",
         "275",
         "293",
         "313",
         "326",
         "336",
         "348",
         "364",
         "367",
         "375",
         "384",
         "392",
         "402",
         "407",
         "415",
         "419",
         "425",
         "432",
         "437",
         "444",
         "450",
         "30"
        ],
        [
         "Andorra",
         "0",
         "0",
         "0",
         "0",
         "0",
         "0",
         "0",
         "0",
         "0",
         "0",
         "0",
         "0",
         "0",
         "0",
         "0",
         "0",
         "0",
         "0",
         "0",
         "0",
         "0",
         "0",
         "0",
         "0",
         "0",
         "0",
         "0",
         "0",
         "0",
         "0",
         "0",
         "0",
         "0",
         "0",
         "0",
         "0",
         "0",
         "0",
         "0",
         "0",
         "0",
         "0",
         "0",
         "0",
         "0",
         "0",
         "0",
         "0",
         "0",
         "0",
         "0",
         "0",
         "0",
         "0",
         "0",
         "0",
         "0",
         "0",
         "0",
         "0",
         "0",
         "1",
         "1",
         "1",
         "1",
         "3",
         "3",
         "3",
         "6",
         "8",
         "12",
         "14",
         "15",
         "16",
         "17",
         "18",
         "21",
         "22",
         "23",
         "25",
         "26",
         "26",
         "29",
         "29",
         "31",
         "33",
         "33",
         "35",
         "35",
         "36",
         "37",
         "37",
         "37",
         "37",
         "40",
         "40",
         "40",
         "40",
         "41",
         "42",
         "42",
         "4"
        ],
        [
         "Angola",
         "0",
         "0",
         "0",
         "0",
         "0",
         "0",
         "0",
         "0",
         "0",
         "0",
         "0",
         "0",
         "0",
         "0",
         "0",
         "0",
         "0",
         "0",
         "0",
         "0",
         "0",
         "0",
         "0",
         "0",
         "0",
         "0",
         "0",
         "0",
         "0",
         "0",
         "0",
         "0",
         "0",
         "0",
         "0",
         "0",
         "0",
         "0",
         "0",
         "0",
         "0",
         "0",
         "0",
         "0",
         "0",
         "0",
         "0",
         "0",
         "0",
         "0",
         "0",
         "0",
         "0",
         "0",
         "0",
         "0",
         "0",
         "0",
         "0",
         "0",
         "0",
         "0",
         "0",
         "0",
         "0",
         "0",
         "0",
         "0",
         "2",
         "2",
         "2",
         "2",
         "2",
         "2",
         "2",
         "2",
         "2",
         "2",
         "2",
         "2",
         "2",
         "2",
         "2",
         "2",
         "2",
         "2",
         "2",
         "2",
         "2",
         "2",
         "2",
         "2",
         "2",
         "2",
         "2",
         "2",
         "2",
         "2",
         "2",
         "2",
         "2",
         "2"
        ]
       ],
       "shape": {
        "columns": 102,
        "rows": 5
       }
      },
      "text/html": [
       "<div>\n",
       "<style scoped>\n",
       "    .dataframe tbody tr th:only-of-type {\n",
       "        vertical-align: middle;\n",
       "    }\n",
       "\n",
       "    .dataframe tbody tr th {\n",
       "        vertical-align: top;\n",
       "    }\n",
       "\n",
       "    .dataframe thead th {\n",
       "        text-align: right;\n",
       "    }\n",
       "</style>\n",
       "<table border=\"1\" class=\"dataframe\">\n",
       "  <thead>\n",
       "    <tr style=\"text-align: right;\">\n",
       "      <th></th>\n",
       "      <th>Province/State</th>\n",
       "      <th>1/22/20</th>\n",
       "      <th>1/23/20</th>\n",
       "      <th>1/24/20</th>\n",
       "      <th>1/25/20</th>\n",
       "      <th>1/26/20</th>\n",
       "      <th>1/27/20</th>\n",
       "      <th>1/28/20</th>\n",
       "      <th>1/29/20</th>\n",
       "      <th>1/30/20</th>\n",
       "      <th>...</th>\n",
       "      <th>4/22/20</th>\n",
       "      <th>4/23/20</th>\n",
       "      <th>4/24/20</th>\n",
       "      <th>4/25/20</th>\n",
       "      <th>4/26/20</th>\n",
       "      <th>4/27/20</th>\n",
       "      <th>4/28/20</th>\n",
       "      <th>4/29/20</th>\n",
       "      <th>4/30/20</th>\n",
       "      <th>max_death_rate</th>\n",
       "    </tr>\n",
       "    <tr>\n",
       "      <th>Country/Region</th>\n",
       "      <th></th>\n",
       "      <th></th>\n",
       "      <th></th>\n",
       "      <th></th>\n",
       "      <th></th>\n",
       "      <th></th>\n",
       "      <th></th>\n",
       "      <th></th>\n",
       "      <th></th>\n",
       "      <th></th>\n",
       "      <th></th>\n",
       "      <th></th>\n",
       "      <th></th>\n",
       "      <th></th>\n",
       "      <th></th>\n",
       "      <th></th>\n",
       "      <th></th>\n",
       "      <th></th>\n",
       "      <th></th>\n",
       "      <th></th>\n",
       "      <th></th>\n",
       "    </tr>\n",
       "  </thead>\n",
       "  <tbody>\n",
       "    <tr>\n",
       "      <th>Afghanistan</th>\n",
       "      <td>0</td>\n",
       "      <td>0</td>\n",
       "      <td>0</td>\n",
       "      <td>0</td>\n",
       "      <td>0</td>\n",
       "      <td>0</td>\n",
       "      <td>0</td>\n",
       "      <td>0</td>\n",
       "      <td>0</td>\n",
       "      <td>0</td>\n",
       "      <td>...</td>\n",
       "      <td>40</td>\n",
       "      <td>42</td>\n",
       "      <td>43</td>\n",
       "      <td>47</td>\n",
       "      <td>50</td>\n",
       "      <td>57</td>\n",
       "      <td>58</td>\n",
       "      <td>60</td>\n",
       "      <td>64</td>\n",
       "      <td>7</td>\n",
       "    </tr>\n",
       "    <tr>\n",
       "      <th>Albania</th>\n",
       "      <td>0</td>\n",
       "      <td>0</td>\n",
       "      <td>0</td>\n",
       "      <td>0</td>\n",
       "      <td>0</td>\n",
       "      <td>0</td>\n",
       "      <td>0</td>\n",
       "      <td>0</td>\n",
       "      <td>0</td>\n",
       "      <td>0</td>\n",
       "      <td>...</td>\n",
       "      <td>27</td>\n",
       "      <td>27</td>\n",
       "      <td>27</td>\n",
       "      <td>27</td>\n",
       "      <td>28</td>\n",
       "      <td>28</td>\n",
       "      <td>30</td>\n",
       "      <td>30</td>\n",
       "      <td>31</td>\n",
       "      <td>4</td>\n",
       "    </tr>\n",
       "    <tr>\n",
       "      <th>Algeria</th>\n",
       "      <td>0</td>\n",
       "      <td>0</td>\n",
       "      <td>0</td>\n",
       "      <td>0</td>\n",
       "      <td>0</td>\n",
       "      <td>0</td>\n",
       "      <td>0</td>\n",
       "      <td>0</td>\n",
       "      <td>0</td>\n",
       "      <td>0</td>\n",
       "      <td>...</td>\n",
       "      <td>402</td>\n",
       "      <td>407</td>\n",
       "      <td>415</td>\n",
       "      <td>419</td>\n",
       "      <td>425</td>\n",
       "      <td>432</td>\n",
       "      <td>437</td>\n",
       "      <td>444</td>\n",
       "      <td>450</td>\n",
       "      <td>30</td>\n",
       "    </tr>\n",
       "    <tr>\n",
       "      <th>Andorra</th>\n",
       "      <td>0</td>\n",
       "      <td>0</td>\n",
       "      <td>0</td>\n",
       "      <td>0</td>\n",
       "      <td>0</td>\n",
       "      <td>0</td>\n",
       "      <td>0</td>\n",
       "      <td>0</td>\n",
       "      <td>0</td>\n",
       "      <td>0</td>\n",
       "      <td>...</td>\n",
       "      <td>37</td>\n",
       "      <td>37</td>\n",
       "      <td>40</td>\n",
       "      <td>40</td>\n",
       "      <td>40</td>\n",
       "      <td>40</td>\n",
       "      <td>41</td>\n",
       "      <td>42</td>\n",
       "      <td>42</td>\n",
       "      <td>4</td>\n",
       "    </tr>\n",
       "    <tr>\n",
       "      <th>Angola</th>\n",
       "      <td>0</td>\n",
       "      <td>0</td>\n",
       "      <td>0</td>\n",
       "      <td>0</td>\n",
       "      <td>0</td>\n",
       "      <td>0</td>\n",
       "      <td>0</td>\n",
       "      <td>0</td>\n",
       "      <td>0</td>\n",
       "      <td>0</td>\n",
       "      <td>...</td>\n",
       "      <td>2</td>\n",
       "      <td>2</td>\n",
       "      <td>2</td>\n",
       "      <td>2</td>\n",
       "      <td>2</td>\n",
       "      <td>2</td>\n",
       "      <td>2</td>\n",
       "      <td>2</td>\n",
       "      <td>2</td>\n",
       "      <td>2</td>\n",
       "    </tr>\n",
       "  </tbody>\n",
       "</table>\n",
       "<p>5 rows × 102 columns</p>\n",
       "</div>"
      ],
      "text/plain": [
       "               Province/State  1/22/20  1/23/20  1/24/20  1/25/20  1/26/20  \\\n",
       "Country/Region                                                               \n",
       "Afghanistan                 0        0        0        0        0        0   \n",
       "Albania                     0        0        0        0        0        0   \n",
       "Algeria                     0        0        0        0        0        0   \n",
       "Andorra                     0        0        0        0        0        0   \n",
       "Angola                      0        0        0        0        0        0   \n",
       "\n",
       "                1/27/20  1/28/20  1/29/20  1/30/20  ...  4/22/20  4/23/20  \\\n",
       "Country/Region                                      ...                     \n",
       "Afghanistan           0        0        0        0  ...       40       42   \n",
       "Albania               0        0        0        0  ...       27       27   \n",
       "Algeria               0        0        0        0  ...      402      407   \n",
       "Andorra               0        0        0        0  ...       37       37   \n",
       "Angola                0        0        0        0  ...        2        2   \n",
       "\n",
       "                4/24/20  4/25/20  4/26/20  4/27/20  4/28/20  4/29/20  4/30/20  \\\n",
       "Country/Region                                                                  \n",
       "Afghanistan          43       47       50       57       58       60       64   \n",
       "Albania              27       27       28       28       30       30       31   \n",
       "Algeria             415      419      425      432      437      444      450   \n",
       "Andorra              40       40       40       40       41       42       42   \n",
       "Angola                2        2        2        2        2        2        2   \n",
       "\n",
       "                max_death_rate  \n",
       "Country/Region                  \n",
       "Afghanistan                  7  \n",
       "Albania                      4  \n",
       "Algeria                     30  \n",
       "Andorra                      4  \n",
       "Angola                       2  \n",
       "\n",
       "[5 rows x 102 columns]"
      ]
     },
     "execution_count": 522,
     "metadata": {},
     "output_type": "execute_result"
    }
   ],
   "source": [
    "covid19_deaths_aggregated.head()"
   ]
  },
  {
   "cell_type": "markdown",
   "metadata": {},
   "source": [
    "### Task 6.5: Create a new DataFrame with only the needed column"
   ]
  },
  {
   "cell_type": "code",
   "execution_count": 523,
   "metadata": {},
   "outputs": [],
   "source": [
    "covid19_deaths_dropped = pd.DataFrame(covid19_deaths_aggregated['max_death_rate'])"
   ]
  },
  {
   "cell_type": "code",
   "execution_count": 524,
   "metadata": {},
   "outputs": [
    {
     "data": {
      "application/vnd.microsoft.datawrangler.viewer.v0+json": {
       "columns": [
        {
         "name": "Country/Region",
         "rawType": "object",
         "type": "string"
        },
        {
         "name": "max_death_rate",
         "rawType": "int64",
         "type": "integer"
        }
       ],
       "ref": "8488aa43-984e-4ee2-a070-89a0990b67ba",
       "rows": [
        [
         "Afghanistan",
         "7"
        ],
        [
         "Albania",
         "4"
        ],
        [
         "Algeria",
         "30"
        ],
        [
         "Andorra",
         "4"
        ],
        [
         "Angola",
         "2"
        ]
       ],
       "shape": {
        "columns": 1,
        "rows": 5
       }
      },
      "text/html": [
       "<div>\n",
       "<style scoped>\n",
       "    .dataframe tbody tr th:only-of-type {\n",
       "        vertical-align: middle;\n",
       "    }\n",
       "\n",
       "    .dataframe tbody tr th {\n",
       "        vertical-align: top;\n",
       "    }\n",
       "\n",
       "    .dataframe thead th {\n",
       "        text-align: right;\n",
       "    }\n",
       "</style>\n",
       "<table border=\"1\" class=\"dataframe\">\n",
       "  <thead>\n",
       "    <tr style=\"text-align: right;\">\n",
       "      <th></th>\n",
       "      <th>max_death_rate</th>\n",
       "    </tr>\n",
       "    <tr>\n",
       "      <th>Country/Region</th>\n",
       "      <th></th>\n",
       "    </tr>\n",
       "  </thead>\n",
       "  <tbody>\n",
       "    <tr>\n",
       "      <th>Afghanistan</th>\n",
       "      <td>7</td>\n",
       "    </tr>\n",
       "    <tr>\n",
       "      <th>Albania</th>\n",
       "      <td>4</td>\n",
       "    </tr>\n",
       "    <tr>\n",
       "      <th>Algeria</th>\n",
       "      <td>30</td>\n",
       "    </tr>\n",
       "    <tr>\n",
       "      <th>Andorra</th>\n",
       "      <td>4</td>\n",
       "    </tr>\n",
       "    <tr>\n",
       "      <th>Angola</th>\n",
       "      <td>2</td>\n",
       "    </tr>\n",
       "  </tbody>\n",
       "</table>\n",
       "</div>"
      ],
      "text/plain": [
       "                max_death_rate\n",
       "Country/Region                \n",
       "Afghanistan                  7\n",
       "Albania                      4\n",
       "Algeria                     30\n",
       "Andorra                      4\n",
       "Angola                       2"
      ]
     },
     "execution_count": 524,
     "metadata": {},
     "output_type": "execute_result"
    }
   ],
   "source": [
    "covid19_deaths_dropped.head()"
   ]
  },
  {
   "cell_type": "code",
   "execution_count": 525,
   "metadata": {},
   "outputs": [],
   "source": [
    "covid19_death_data = covid19_deaths_dropped"
   ]
  },
  {
   "cell_type": "markdown",
   "metadata": {},
   "source": [
    "### Task 7.1: Now let's join the three datasets we have prepared"
   ]
  },
  {
   "cell_type": "markdown",
   "metadata": {},
   "source": [
    "#### Corona Dataset:"
   ]
  },
  {
   "cell_type": "code",
   "execution_count": 526,
   "metadata": {},
   "outputs": [
    {
     "data": {
      "application/vnd.microsoft.datawrangler.viewer.v0+json": {
       "columns": [
        {
         "name": "Country/Region",
         "rawType": "object",
         "type": "string"
        },
        {
         "name": "max_infection_rate",
         "rawType": "int64",
         "type": "integer"
        }
       ],
       "ref": "73d8b6e8-fad5-42d1-8e3b-f1bd3ab90180",
       "rows": [
        [
         "Afghanistan",
         "232"
        ],
        [
         "Albania",
         "34"
        ],
        [
         "Algeria",
         "199"
        ],
        [
         "Andorra",
         "43"
        ],
        [
         "Angola",
         "5"
        ]
       ],
       "shape": {
        "columns": 1,
        "rows": 5
       }
      },
      "text/html": [
       "<div>\n",
       "<style scoped>\n",
       "    .dataframe tbody tr th:only-of-type {\n",
       "        vertical-align: middle;\n",
       "    }\n",
       "\n",
       "    .dataframe tbody tr th {\n",
       "        vertical-align: top;\n",
       "    }\n",
       "\n",
       "    .dataframe thead th {\n",
       "        text-align: right;\n",
       "    }\n",
       "</style>\n",
       "<table border=\"1\" class=\"dataframe\">\n",
       "  <thead>\n",
       "    <tr style=\"text-align: right;\">\n",
       "      <th></th>\n",
       "      <th>max_infection_rate</th>\n",
       "    </tr>\n",
       "    <tr>\n",
       "      <th>Country/Region</th>\n",
       "      <th></th>\n",
       "    </tr>\n",
       "  </thead>\n",
       "  <tbody>\n",
       "    <tr>\n",
       "      <th>Afghanistan</th>\n",
       "      <td>232</td>\n",
       "    </tr>\n",
       "    <tr>\n",
       "      <th>Albania</th>\n",
       "      <td>34</td>\n",
       "    </tr>\n",
       "    <tr>\n",
       "      <th>Algeria</th>\n",
       "      <td>199</td>\n",
       "    </tr>\n",
       "    <tr>\n",
       "      <th>Andorra</th>\n",
       "      <td>43</td>\n",
       "    </tr>\n",
       "    <tr>\n",
       "      <th>Angola</th>\n",
       "      <td>5</td>\n",
       "    </tr>\n",
       "  </tbody>\n",
       "</table>\n",
       "</div>"
      ],
      "text/plain": [
       "                max_infection_rate\n",
       "Country/Region                    \n",
       "Afghanistan                    232\n",
       "Albania                         34\n",
       "Algeria                        199\n",
       "Andorra                         43\n",
       "Angola                           5"
      ]
     },
     "execution_count": 526,
     "metadata": {},
     "output_type": "execute_result"
    }
   ],
   "source": [
    "corona_data.head()"
   ]
  },
  {
   "cell_type": "code",
   "execution_count": 527,
   "metadata": {},
   "outputs": [
    {
     "data": {
      "text/plain": [
       "(187, 1)"
      ]
     },
     "execution_count": 527,
     "metadata": {},
     "output_type": "execute_result"
    }
   ],
   "source": [
    "corona_data.shape"
   ]
  },
  {
   "cell_type": "markdown",
   "metadata": {},
   "source": [
    "#### World Happiness Report Dataset:"
   ]
  },
  {
   "cell_type": "code",
   "execution_count": 528,
   "metadata": {},
   "outputs": [
    {
     "data": {
      "application/vnd.microsoft.datawrangler.viewer.v0+json": {
       "columns": [
        {
         "name": "Country or region",
         "rawType": "object",
         "type": "string"
        },
        {
         "name": "GDP per capita",
         "rawType": "float64",
         "type": "float"
        },
        {
         "name": "Social support",
         "rawType": "float64",
         "type": "float"
        },
        {
         "name": "Healthy life expectancy",
         "rawType": "float64",
         "type": "float"
        },
        {
         "name": "Freedom to make life choices",
         "rawType": "float64",
         "type": "float"
        }
       ],
       "ref": "01b6e027-f8f5-4421-ae0e-0f73743307cc",
       "rows": [
        [
         "Finland",
         "1.34",
         "1.587",
         "0.986",
         "0.596"
        ],
        [
         "Denmark",
         "1.383",
         "1.573",
         "0.996",
         "0.592"
        ],
        [
         "Norway",
         "1.488",
         "1.582",
         "1.028",
         "0.603"
        ],
        [
         "Iceland",
         "1.38",
         "1.624",
         "1.026",
         "0.591"
        ],
        [
         "Netherlands",
         "1.396",
         "1.522",
         "0.999",
         "0.557"
        ]
       ],
       "shape": {
        "columns": 4,
        "rows": 5
       }
      },
      "text/html": [
       "<div>\n",
       "<style scoped>\n",
       "    .dataframe tbody tr th:only-of-type {\n",
       "        vertical-align: middle;\n",
       "    }\n",
       "\n",
       "    .dataframe tbody tr th {\n",
       "        vertical-align: top;\n",
       "    }\n",
       "\n",
       "    .dataframe thead th {\n",
       "        text-align: right;\n",
       "    }\n",
       "</style>\n",
       "<table border=\"1\" class=\"dataframe\">\n",
       "  <thead>\n",
       "    <tr style=\"text-align: right;\">\n",
       "      <th></th>\n",
       "      <th>GDP per capita</th>\n",
       "      <th>Social support</th>\n",
       "      <th>Healthy life expectancy</th>\n",
       "      <th>Freedom to make life choices</th>\n",
       "    </tr>\n",
       "    <tr>\n",
       "      <th>Country or region</th>\n",
       "      <th></th>\n",
       "      <th></th>\n",
       "      <th></th>\n",
       "      <th></th>\n",
       "    </tr>\n",
       "  </thead>\n",
       "  <tbody>\n",
       "    <tr>\n",
       "      <th>Finland</th>\n",
       "      <td>1.340</td>\n",
       "      <td>1.587</td>\n",
       "      <td>0.986</td>\n",
       "      <td>0.596</td>\n",
       "    </tr>\n",
       "    <tr>\n",
       "      <th>Denmark</th>\n",
       "      <td>1.383</td>\n",
       "      <td>1.573</td>\n",
       "      <td>0.996</td>\n",
       "      <td>0.592</td>\n",
       "    </tr>\n",
       "    <tr>\n",
       "      <th>Norway</th>\n",
       "      <td>1.488</td>\n",
       "      <td>1.582</td>\n",
       "      <td>1.028</td>\n",
       "      <td>0.603</td>\n",
       "    </tr>\n",
       "    <tr>\n",
       "      <th>Iceland</th>\n",
       "      <td>1.380</td>\n",
       "      <td>1.624</td>\n",
       "      <td>1.026</td>\n",
       "      <td>0.591</td>\n",
       "    </tr>\n",
       "    <tr>\n",
       "      <th>Netherlands</th>\n",
       "      <td>1.396</td>\n",
       "      <td>1.522</td>\n",
       "      <td>0.999</td>\n",
       "      <td>0.557</td>\n",
       "    </tr>\n",
       "  </tbody>\n",
       "</table>\n",
       "</div>"
      ],
      "text/plain": [
       "                   GDP per capita  Social support  Healthy life expectancy  \\\n",
       "Country or region                                                            \n",
       "Finland                     1.340           1.587                    0.986   \n",
       "Denmark                     1.383           1.573                    0.996   \n",
       "Norway                      1.488           1.582                    1.028   \n",
       "Iceland                     1.380           1.624                    1.026   \n",
       "Netherlands                 1.396           1.522                    0.999   \n",
       "\n",
       "                   Freedom to make life choices  \n",
       "Country or region                                \n",
       "Finland                                   0.596  \n",
       "Denmark                                   0.592  \n",
       "Norway                                    0.603  \n",
       "Iceland                                   0.591  \n",
       "Netherlands                               0.557  "
      ]
     },
     "execution_count": 528,
     "metadata": {},
     "output_type": "execute_result"
    }
   ],
   "source": [
    "happiness_report.head()"
   ]
  },
  {
   "cell_type": "code",
   "execution_count": 529,
   "metadata": {},
   "outputs": [
    {
     "data": {
      "text/plain": [
       "(156, 4)"
      ]
     },
     "execution_count": 529,
     "metadata": {},
     "output_type": "execute_result"
    }
   ],
   "source": [
    "happiness_report.shape"
   ]
  },
  {
   "cell_type": "markdown",
   "metadata": {},
   "source": [
    "#### Covid19 Deaths Dataset:"
   ]
  },
  {
   "cell_type": "code",
   "execution_count": 530,
   "metadata": {},
   "outputs": [
    {
     "data": {
      "application/vnd.microsoft.datawrangler.viewer.v0+json": {
       "columns": [
        {
         "name": "Country/Region",
         "rawType": "object",
         "type": "string"
        },
        {
         "name": "max_death_rate",
         "rawType": "int64",
         "type": "integer"
        }
       ],
       "ref": "042a35e9-7a05-4cb6-b137-c24d6ed54714",
       "rows": [
        [
         "Afghanistan",
         "7"
        ],
        [
         "Albania",
         "4"
        ],
        [
         "Algeria",
         "30"
        ],
        [
         "Andorra",
         "4"
        ],
        [
         "Angola",
         "2"
        ]
       ],
       "shape": {
        "columns": 1,
        "rows": 5
       }
      },
      "text/html": [
       "<div>\n",
       "<style scoped>\n",
       "    .dataframe tbody tr th:only-of-type {\n",
       "        vertical-align: middle;\n",
       "    }\n",
       "\n",
       "    .dataframe tbody tr th {\n",
       "        vertical-align: top;\n",
       "    }\n",
       "\n",
       "    .dataframe thead th {\n",
       "        text-align: right;\n",
       "    }\n",
       "</style>\n",
       "<table border=\"1\" class=\"dataframe\">\n",
       "  <thead>\n",
       "    <tr style=\"text-align: right;\">\n",
       "      <th></th>\n",
       "      <th>max_death_rate</th>\n",
       "    </tr>\n",
       "    <tr>\n",
       "      <th>Country/Region</th>\n",
       "      <th></th>\n",
       "    </tr>\n",
       "  </thead>\n",
       "  <tbody>\n",
       "    <tr>\n",
       "      <th>Afghanistan</th>\n",
       "      <td>7</td>\n",
       "    </tr>\n",
       "    <tr>\n",
       "      <th>Albania</th>\n",
       "      <td>4</td>\n",
       "    </tr>\n",
       "    <tr>\n",
       "      <th>Algeria</th>\n",
       "      <td>30</td>\n",
       "    </tr>\n",
       "    <tr>\n",
       "      <th>Andorra</th>\n",
       "      <td>4</td>\n",
       "    </tr>\n",
       "    <tr>\n",
       "      <th>Angola</th>\n",
       "      <td>2</td>\n",
       "    </tr>\n",
       "  </tbody>\n",
       "</table>\n",
       "</div>"
      ],
      "text/plain": [
       "                max_death_rate\n",
       "Country/Region                \n",
       "Afghanistan                  7\n",
       "Albania                      4\n",
       "Algeria                     30\n",
       "Andorra                      4\n",
       "Angola                       2"
      ]
     },
     "execution_count": 530,
     "metadata": {},
     "output_type": "execute_result"
    }
   ],
   "source": [
    "covid19_death_data.head()"
   ]
  },
  {
   "cell_type": "code",
   "execution_count": 531,
   "metadata": {},
   "outputs": [
    {
     "data": {
      "text/plain": [
       "(187, 1)"
      ]
     },
     "execution_count": 531,
     "metadata": {},
     "output_type": "execute_result"
    }
   ],
   "source": [
    "covid19_death_data.shape"
   ]
  },
  {
   "cell_type": "code",
   "execution_count": 532,
   "metadata": {},
   "outputs": [
    {
     "data": {
      "application/vnd.microsoft.datawrangler.viewer.v0+json": {
       "columns": [
        {
         "name": "index",
         "rawType": "object",
         "type": "string"
        },
        {
         "name": "max_infection_rate",
         "rawType": "int64",
         "type": "integer"
        },
        {
         "name": "GDP per capita",
         "rawType": "float64",
         "type": "float"
        },
        {
         "name": "Social support",
         "rawType": "float64",
         "type": "float"
        },
        {
         "name": "Healthy life expectancy",
         "rawType": "float64",
         "type": "float"
        },
        {
         "name": "Freedom to make life choices",
         "rawType": "float64",
         "type": "float"
        },
        {
         "name": "max_death_rate",
         "rawType": "int64",
         "type": "integer"
        }
       ],
       "ref": "c20f71f7-b00c-4e90-8803-98c0af974172",
       "rows": [
        [
         "Afghanistan",
         "232",
         "0.35",
         "0.517",
         "0.361",
         "0.0",
         "7"
        ],
        [
         "Albania",
         "34",
         "0.947",
         "0.848",
         "0.874",
         "0.383",
         "4"
        ],
        [
         "Algeria",
         "199",
         "1.002",
         "1.16",
         "0.785",
         "0.086",
         "30"
        ],
        [
         "Argentina",
         "291",
         "1.092",
         "1.432",
         "0.881",
         "0.471",
         "13"
        ],
        [
         "Armenia",
         "134",
         "0.85",
         "1.055",
         "0.815",
         "0.283",
         "3"
        ]
       ],
       "shape": {
        "columns": 6,
        "rows": 5
       }
      },
      "text/html": [
       "<div>\n",
       "<style scoped>\n",
       "    .dataframe tbody tr th:only-of-type {\n",
       "        vertical-align: middle;\n",
       "    }\n",
       "\n",
       "    .dataframe tbody tr th {\n",
       "        vertical-align: top;\n",
       "    }\n",
       "\n",
       "    .dataframe thead th {\n",
       "        text-align: right;\n",
       "    }\n",
       "</style>\n",
       "<table border=\"1\" class=\"dataframe\">\n",
       "  <thead>\n",
       "    <tr style=\"text-align: right;\">\n",
       "      <th></th>\n",
       "      <th>max_infection_rate</th>\n",
       "      <th>GDP per capita</th>\n",
       "      <th>Social support</th>\n",
       "      <th>Healthy life expectancy</th>\n",
       "      <th>Freedom to make life choices</th>\n",
       "      <th>max_death_rate</th>\n",
       "    </tr>\n",
       "  </thead>\n",
       "  <tbody>\n",
       "    <tr>\n",
       "      <th>Afghanistan</th>\n",
       "      <td>232</td>\n",
       "      <td>0.350</td>\n",
       "      <td>0.517</td>\n",
       "      <td>0.361</td>\n",
       "      <td>0.000</td>\n",
       "      <td>7</td>\n",
       "    </tr>\n",
       "    <tr>\n",
       "      <th>Albania</th>\n",
       "      <td>34</td>\n",
       "      <td>0.947</td>\n",
       "      <td>0.848</td>\n",
       "      <td>0.874</td>\n",
       "      <td>0.383</td>\n",
       "      <td>4</td>\n",
       "    </tr>\n",
       "    <tr>\n",
       "      <th>Algeria</th>\n",
       "      <td>199</td>\n",
       "      <td>1.002</td>\n",
       "      <td>1.160</td>\n",
       "      <td>0.785</td>\n",
       "      <td>0.086</td>\n",
       "      <td>30</td>\n",
       "    </tr>\n",
       "    <tr>\n",
       "      <th>Argentina</th>\n",
       "      <td>291</td>\n",
       "      <td>1.092</td>\n",
       "      <td>1.432</td>\n",
       "      <td>0.881</td>\n",
       "      <td>0.471</td>\n",
       "      <td>13</td>\n",
       "    </tr>\n",
       "    <tr>\n",
       "      <th>Armenia</th>\n",
       "      <td>134</td>\n",
       "      <td>0.850</td>\n",
       "      <td>1.055</td>\n",
       "      <td>0.815</td>\n",
       "      <td>0.283</td>\n",
       "      <td>3</td>\n",
       "    </tr>\n",
       "  </tbody>\n",
       "</table>\n",
       "</div>"
      ],
      "text/plain": [
       "             max_infection_rate  GDP per capita  Social support  \\\n",
       "Afghanistan                 232           0.350           0.517   \n",
       "Albania                      34           0.947           0.848   \n",
       "Algeria                     199           1.002           1.160   \n",
       "Argentina                   291           1.092           1.432   \n",
       "Armenia                     134           0.850           1.055   \n",
       "\n",
       "             Healthy life expectancy  Freedom to make life choices  \\\n",
       "Afghanistan                    0.361                         0.000   \n",
       "Albania                        0.874                         0.383   \n",
       "Algeria                        0.785                         0.086   \n",
       "Argentina                      0.881                         0.471   \n",
       "Armenia                        0.815                         0.283   \n",
       "\n",
       "             max_death_rate  \n",
       "Afghanistan               7  \n",
       "Albania                   4  \n",
       "Algeria                  30  \n",
       "Argentina                13  \n",
       "Armenia                   3  "
      ]
     },
     "execution_count": 532,
     "metadata": {},
     "output_type": "execute_result"
    }
   ],
   "source": [
    "combined_data = combined_data.join(covid19_death_data, how='inner')\n",
    "combined_data.head()"
   ]
  },
  {
   "cell_type": "markdown",
   "metadata": {},
   "source": [
    "### Task 8: Visualization of the results\n",
    "Our analysis is not complete unless we visualize the results with figures and graphs so that everyone can understand the insights from our analysis."
   ]
  },
  {
   "cell_type": "code",
   "execution_count": 533,
   "metadata": {},
   "outputs": [
    {
     "data": {
      "text/html": [
       "<style type=\"text/css\">\n",
       "#T_168e0_row0_col0, #T_168e0_row1_col1, #T_168e0_row2_col2, #T_168e0_row3_col3, #T_168e0_row4_col4, #T_168e0_row5_col5 {\n",
       "  background-color: #b40426;\n",
       "  color: #f1f1f1;\n",
       "}\n",
       "#T_168e0_row0_col1, #T_168e0_row0_col2, #T_168e0_row0_col3, #T_168e0_row0_col4, #T_168e0_row4_col0, #T_168e0_row4_col5, #T_168e0_row5_col4 {\n",
       "  background-color: #3b4cc0;\n",
       "  color: #f1f1f1;\n",
       "}\n",
       "#T_168e0_row0_col5, #T_168e0_row5_col0 {\n",
       "  background-color: #df634e;\n",
       "  color: #f1f1f1;\n",
       "}\n",
       "#T_168e0_row1_col0 {\n",
       "  background-color: #7699f6;\n",
       "  color: #f1f1f1;\n",
       "}\n",
       "#T_168e0_row1_col2 {\n",
       "  background-color: #f7ac8e;\n",
       "  color: #000000;\n",
       "}\n",
       "#T_168e0_row1_col3 {\n",
       "  background-color: #ec8165;\n",
       "  color: #f1f1f1;\n",
       "}\n",
       "#T_168e0_row1_col4 {\n",
       "  background-color: #adc9fd;\n",
       "  color: #000000;\n",
       "}\n",
       "#T_168e0_row1_col5 {\n",
       "  background-color: #7a9df8;\n",
       "  color: #f1f1f1;\n",
       "}\n",
       "#T_168e0_row2_col0 {\n",
       "  background-color: #6180e9;\n",
       "  color: #f1f1f1;\n",
       "}\n",
       "#T_168e0_row2_col1 {\n",
       "  background-color: #f7b497;\n",
       "  color: #000000;\n",
       "}\n",
       "#T_168e0_row2_col3 {\n",
       "  background-color: #f7b79b;\n",
       "  color: #000000;\n",
       "}\n",
       "#T_168e0_row2_col4 {\n",
       "  background-color: #c3d5f4;\n",
       "  color: #000000;\n",
       "}\n",
       "#T_168e0_row2_col5 {\n",
       "  background-color: #6485ec;\n",
       "  color: #f1f1f1;\n",
       "}\n",
       "#T_168e0_row3_col0 {\n",
       "  background-color: #85a8fc;\n",
       "  color: #f1f1f1;\n",
       "}\n",
       "#T_168e0_row3_col1 {\n",
       "  background-color: #ea7b60;\n",
       "  color: #f1f1f1;\n",
       "}\n",
       "#T_168e0_row3_col2 {\n",
       "  background-color: #f7a98b;\n",
       "  color: #000000;\n",
       "}\n",
       "#T_168e0_row3_col4 {\n",
       "  background-color: #bad0f8;\n",
       "  color: #000000;\n",
       "}\n",
       "#T_168e0_row3_col5 {\n",
       "  background-color: #8caffe;\n",
       "  color: #000000;\n",
       "}\n",
       "#T_168e0_row4_col1, #T_168e0_row4_col3 {\n",
       "  background-color: #799cf8;\n",
       "  color: #f1f1f1;\n",
       "}\n",
       "#T_168e0_row4_col2 {\n",
       "  background-color: #a7c5fe;\n",
       "  color: #000000;\n",
       "}\n",
       "#T_168e0_row5_col1, #T_168e0_row5_col2 {\n",
       "  background-color: #3e51c5;\n",
       "  color: #f1f1f1;\n",
       "}\n",
       "#T_168e0_row5_col3 {\n",
       "  background-color: #4358cb;\n",
       "  color: #f1f1f1;\n",
       "}\n",
       "</style>\n",
       "<table id=\"T_168e0\">\n",
       "  <thead>\n",
       "    <tr>\n",
       "      <th class=\"blank level0\" >&nbsp;</th>\n",
       "      <th id=\"T_168e0_level0_col0\" class=\"col_heading level0 col0\" >max_infection_rate</th>\n",
       "      <th id=\"T_168e0_level0_col1\" class=\"col_heading level0 col1\" >GDP per capita</th>\n",
       "      <th id=\"T_168e0_level0_col2\" class=\"col_heading level0 col2\" >Social support</th>\n",
       "      <th id=\"T_168e0_level0_col3\" class=\"col_heading level0 col3\" >Healthy life expectancy</th>\n",
       "      <th id=\"T_168e0_level0_col4\" class=\"col_heading level0 col4\" >Freedom to make life choices</th>\n",
       "      <th id=\"T_168e0_level0_col5\" class=\"col_heading level0 col5\" >max_death_rate</th>\n",
       "    </tr>\n",
       "  </thead>\n",
       "  <tbody>\n",
       "    <tr>\n",
       "      <th id=\"T_168e0_level0_row0\" class=\"row_heading level0 row0\" >max_infection_rate</th>\n",
       "      <td id=\"T_168e0_row0_col0\" class=\"data row0 col0\" >1.000000</td>\n",
       "      <td id=\"T_168e0_row0_col1\" class=\"data row0 col1\" >0.250118</td>\n",
       "      <td id=\"T_168e0_row0_col2\" class=\"data row0 col2\" >0.191958</td>\n",
       "      <td id=\"T_168e0_row0_col3\" class=\"data row0 col3\" >0.289263</td>\n",
       "      <td id=\"T_168e0_row0_col4\" class=\"data row0 col4\" >0.078196</td>\n",
       "      <td id=\"T_168e0_row0_col5\" class=\"data row0 col5\" >0.880597</td>\n",
       "    </tr>\n",
       "    <tr>\n",
       "      <th id=\"T_168e0_level0_row1\" class=\"row_heading level0 row1\" >GDP per capita</th>\n",
       "      <td id=\"T_168e0_row1_col0\" class=\"data row1 col0\" >0.250118</td>\n",
       "      <td id=\"T_168e0_row1_col1\" class=\"data row1 col1\" >1.000000</td>\n",
       "      <td id=\"T_168e0_row1_col2\" class=\"data row1 col2\" >0.759468</td>\n",
       "      <td id=\"T_168e0_row1_col3\" class=\"data row1 col3\" >0.863062</td>\n",
       "      <td id=\"T_168e0_row1_col4\" class=\"data row1 col4\" >0.394603</td>\n",
       "      <td id=\"T_168e0_row1_col5\" class=\"data row1 col5\" >0.259893</td>\n",
       "    </tr>\n",
       "    <tr>\n",
       "      <th id=\"T_168e0_level0_row2\" class=\"row_heading level0 row2\" >Social support</th>\n",
       "      <td id=\"T_168e0_row2_col0\" class=\"data row2 col0\" >0.191958</td>\n",
       "      <td id=\"T_168e0_row2_col1\" class=\"data row2 col1\" >0.759468</td>\n",
       "      <td id=\"T_168e0_row2_col2\" class=\"data row2 col2\" >1.000000</td>\n",
       "      <td id=\"T_168e0_row2_col3\" class=\"data row2 col3\" >0.765286</td>\n",
       "      <td id=\"T_168e0_row2_col4\" class=\"data row2 col4\" >0.456246</td>\n",
       "      <td id=\"T_168e0_row2_col5\" class=\"data row2 col5\" >0.204148</td>\n",
       "    </tr>\n",
       "    <tr>\n",
       "      <th id=\"T_168e0_level0_row3\" class=\"row_heading level0 row3\" >Healthy life expectancy</th>\n",
       "      <td id=\"T_168e0_row3_col0\" class=\"data row3 col0\" >0.289263</td>\n",
       "      <td id=\"T_168e0_row3_col1\" class=\"data row3 col1\" >0.863062</td>\n",
       "      <td id=\"T_168e0_row3_col2\" class=\"data row3 col2\" >0.765286</td>\n",
       "      <td id=\"T_168e0_row3_col3\" class=\"data row3 col3\" >1.000000</td>\n",
       "      <td id=\"T_168e0_row3_col4\" class=\"data row3 col4\" >0.427892</td>\n",
       "      <td id=\"T_168e0_row3_col5\" class=\"data row3 col5\" >0.309666</td>\n",
       "    </tr>\n",
       "    <tr>\n",
       "      <th id=\"T_168e0_level0_row4\" class=\"row_heading level0 row4\" >Freedom to make life choices</th>\n",
       "      <td id=\"T_168e0_row4_col0\" class=\"data row4 col0\" >0.078196</td>\n",
       "      <td id=\"T_168e0_row4_col1\" class=\"data row4 col1\" >0.394603</td>\n",
       "      <td id=\"T_168e0_row4_col2\" class=\"data row4 col2\" >0.456246</td>\n",
       "      <td id=\"T_168e0_row4_col3\" class=\"data row4 col3\" >0.427892</td>\n",
       "      <td id=\"T_168e0_row4_col4\" class=\"data row4 col4\" >1.000000</td>\n",
       "      <td id=\"T_168e0_row4_col5\" class=\"data row4 col5\" >0.080166</td>\n",
       "    </tr>\n",
       "    <tr>\n",
       "      <th id=\"T_168e0_level0_row5\" class=\"row_heading level0 row5\" >max_death_rate</th>\n",
       "      <td id=\"T_168e0_row5_col0\" class=\"data row5 col0\" >0.880597</td>\n",
       "      <td id=\"T_168e0_row5_col1\" class=\"data row5 col1\" >0.259893</td>\n",
       "      <td id=\"T_168e0_row5_col2\" class=\"data row5 col2\" >0.204148</td>\n",
       "      <td id=\"T_168e0_row5_col3\" class=\"data row5 col3\" >0.309666</td>\n",
       "      <td id=\"T_168e0_row5_col4\" class=\"data row5 col4\" >0.080166</td>\n",
       "      <td id=\"T_168e0_row5_col5\" class=\"data row5 col5\" >1.000000</td>\n",
       "    </tr>\n",
       "  </tbody>\n",
       "</table>\n"
      ],
      "text/plain": [
       "<pandas.io.formats.style.Styler at 0x255a2774290>"
      ]
     },
     "execution_count": 533,
     "metadata": {},
     "output_type": "execute_result"
    }
   ],
   "source": [
    "combined_data.corr().style.background_gradient(cmap='coolwarm')"
   ]
  },
  {
   "cell_type": "markdown",
   "metadata": {},
   "source": [
    "### Task 8.1: Plotting GDP per capita vs. maximum death rate"
   ]
  },
  {
   "cell_type": "code",
   "execution_count": 534,
   "metadata": {},
   "outputs": [
    {
     "data": {
      "application/vnd.microsoft.datawrangler.viewer.v0+json": {
       "columns": [
        {
         "name": "index",
         "rawType": "object",
         "type": "string"
        },
        {
         "name": "max_infection_rate",
         "rawType": "int64",
         "type": "integer"
        },
        {
         "name": "GDP per capita",
         "rawType": "float64",
         "type": "float"
        },
        {
         "name": "Social support",
         "rawType": "float64",
         "type": "float"
        },
        {
         "name": "Healthy life expectancy",
         "rawType": "float64",
         "type": "float"
        },
        {
         "name": "Freedom to make life choices",
         "rawType": "float64",
         "type": "float"
        },
        {
         "name": "max_death_rate",
         "rawType": "int64",
         "type": "integer"
        }
       ],
       "ref": "d43097cb-5e95-4625-929b-af38485322c7",
       "rows": [
        [
         "Afghanistan",
         "232",
         "0.35",
         "0.517",
         "0.361",
         "0.0",
         "7"
        ],
        [
         "Albania",
         "34",
         "0.947",
         "0.848",
         "0.874",
         "0.383",
         "4"
        ],
        [
         "Algeria",
         "199",
         "1.002",
         "1.16",
         "0.785",
         "0.086",
         "30"
        ],
        [
         "Argentina",
         "291",
         "1.092",
         "1.432",
         "0.881",
         "0.471",
         "13"
        ],
        [
         "Armenia",
         "134",
         "0.85",
         "1.055",
         "0.815",
         "0.283",
         "3"
        ]
       ],
       "shape": {
        "columns": 6,
        "rows": 5
       }
      },
      "text/html": [
       "<div>\n",
       "<style scoped>\n",
       "    .dataframe tbody tr th:only-of-type {\n",
       "        vertical-align: middle;\n",
       "    }\n",
       "\n",
       "    .dataframe tbody tr th {\n",
       "        vertical-align: top;\n",
       "    }\n",
       "\n",
       "    .dataframe thead th {\n",
       "        text-align: right;\n",
       "    }\n",
       "</style>\n",
       "<table border=\"1\" class=\"dataframe\">\n",
       "  <thead>\n",
       "    <tr style=\"text-align: right;\">\n",
       "      <th></th>\n",
       "      <th>max_infection_rate</th>\n",
       "      <th>GDP per capita</th>\n",
       "      <th>Social support</th>\n",
       "      <th>Healthy life expectancy</th>\n",
       "      <th>Freedom to make life choices</th>\n",
       "      <th>max_death_rate</th>\n",
       "    </tr>\n",
       "  </thead>\n",
       "  <tbody>\n",
       "    <tr>\n",
       "      <th>Afghanistan</th>\n",
       "      <td>232</td>\n",
       "      <td>0.350</td>\n",
       "      <td>0.517</td>\n",
       "      <td>0.361</td>\n",
       "      <td>0.000</td>\n",
       "      <td>7</td>\n",
       "    </tr>\n",
       "    <tr>\n",
       "      <th>Albania</th>\n",
       "      <td>34</td>\n",
       "      <td>0.947</td>\n",
       "      <td>0.848</td>\n",
       "      <td>0.874</td>\n",
       "      <td>0.383</td>\n",
       "      <td>4</td>\n",
       "    </tr>\n",
       "    <tr>\n",
       "      <th>Algeria</th>\n",
       "      <td>199</td>\n",
       "      <td>1.002</td>\n",
       "      <td>1.160</td>\n",
       "      <td>0.785</td>\n",
       "      <td>0.086</td>\n",
       "      <td>30</td>\n",
       "    </tr>\n",
       "    <tr>\n",
       "      <th>Argentina</th>\n",
       "      <td>291</td>\n",
       "      <td>1.092</td>\n",
       "      <td>1.432</td>\n",
       "      <td>0.881</td>\n",
       "      <td>0.471</td>\n",
       "      <td>13</td>\n",
       "    </tr>\n",
       "    <tr>\n",
       "      <th>Armenia</th>\n",
       "      <td>134</td>\n",
       "      <td>0.850</td>\n",
       "      <td>1.055</td>\n",
       "      <td>0.815</td>\n",
       "      <td>0.283</td>\n",
       "      <td>3</td>\n",
       "    </tr>\n",
       "  </tbody>\n",
       "</table>\n",
       "</div>"
      ],
      "text/plain": [
       "             max_infection_rate  GDP per capita  Social support  \\\n",
       "Afghanistan                 232           0.350           0.517   \n",
       "Albania                      34           0.947           0.848   \n",
       "Algeria                     199           1.002           1.160   \n",
       "Argentina                   291           1.092           1.432   \n",
       "Armenia                     134           0.850           1.055   \n",
       "\n",
       "             Healthy life expectancy  Freedom to make life choices  \\\n",
       "Afghanistan                    0.361                         0.000   \n",
       "Albania                        0.874                         0.383   \n",
       "Algeria                        0.785                         0.086   \n",
       "Argentina                      0.881                         0.471   \n",
       "Armenia                        0.815                         0.283   \n",
       "\n",
       "             max_death_rate  \n",
       "Afghanistan               7  \n",
       "Albania                   4  \n",
       "Algeria                  30  \n",
       "Argentina                13  \n",
       "Armenia                   3  "
      ]
     },
     "execution_count": 534,
     "metadata": {},
     "output_type": "execute_result"
    }
   ],
   "source": [
    "combined_data.head()"
   ]
  },
  {
   "cell_type": "code",
   "execution_count": 545,
   "metadata": {},
   "outputs": [
    {
     "data": {
      "text/plain": [
       "<Axes: xlabel='Social support', ylabel='max_death_rate'>"
      ]
     },
     "execution_count": 545,
     "metadata": {},
     "output_type": "execute_result"
    },
    {
     "data": {
      "image/png": "[encoded data removed]",
      "text/plain": [
       "<Figure size 640x480 with 1 Axes>"
      ]
     },
     "metadata": {},
     "output_type": "display_data"
    }
   ],
   "source": [
    "mask = y > 0\n",
    "sns.regplot(x=x[mask], y=np.log(y[mask]))"
   ]
  },
  {
   "cell_type": "markdown",
   "metadata": {},
   "source": [
    "### Task 8.2: Plotting Social Support vs. Maximum Death Rate"
   ]
  },
  {
   "cell_type": "code",
   "execution_count": 546,
   "metadata": {},
   "outputs": [
    {
     "data": {
      "text/plain": [
       "<Axes: xlabel='Social support', ylabel='max_death_rate'>"
      ]
     },
     "execution_count": 546,
     "metadata": {},
     "output_type": "execute_result"
    },
    {
     "data": {
      "image/png": "[encoded data removed]",
      "text/plain": [
       "<Figure size 640x480 with 1 Axes>"
      ]
     },
     "metadata": {},
     "output_type": "display_data"
    }
   ],
   "source": [
    "x = combined_data['Social support']\n",
    "y = combined_data['max_death_rate']\n",
    "sns.regplot(x=x[mask], y=np.log(y[mask]))"
   ]
  },
  {
   "cell_type": "markdown",
   "metadata": {},
   "source": [
    "### Task 8.3: Plotting Healthy Life Expectancy vs. Maximum Death Rate"
   ]
  },
  {
   "cell_type": "code",
   "execution_count": 547,
   "metadata": {},
   "outputs": [
    {
     "data": {
      "text/plain": [
       "<Axes: xlabel='Healthy life expectancy', ylabel='max_death_rate'>"
      ]
     },
     "execution_count": 547,
     "metadata": {},
     "output_type": "execute_result"
    },
    {
     "data": {
      "image/png": "[encoded data removed]",
      "text/plain": [
       "<Figure size 640x480 with 1 Axes>"
      ]
     },
     "metadata": {},
     "output_type": "display_data"
    }
   ],
   "source": [
    "x = combined_data['Healthy life expectancy']\n",
    "y = combined_data['max_death_rate']\n",
    "sns.regplot(x=x[mask], y=np.log(y[mask]))"
   ]
  },
  {
   "cell_type": "markdown",
   "metadata": {},
   "source": [
    "### Task 8.4: Plotting Freedom to Make Life Choices vs. Maximum Death Rate"
   ]
  },
  {
   "cell_type": "code",
   "execution_count": 548,
   "metadata": {},
   "outputs": [
    {
     "data": {
      "text/plain": [
       "<Axes: xlabel='Freedom to make life choices', ylabel='max_death_rate'>"
      ]
     },
     "execution_count": 548,
     "metadata": {},
     "output_type": "execute_result"
    },
    {
     "data": {
      "image/png": "[encoded data removed]",
      "text/plain": [
       "<Figure size 640x480 with 1 Axes>"
      ]
     },
     "metadata": {},
     "output_type": "display_data"
    }
   ],
   "source": [
    "x = combined_data['Freedom to make life choices']\n",
    "y = combined_data['max_death_rate']\n",
    "sns.regplot(x=x[mask], y=np.log(y[mask]))"
   ]
  },
  {
   "cell_type": "markdown",
   "metadata": {},
   "source": [
    "### Task 8.5: Plotting Maximum Infection Rate vs. Maximum Death Rate"
   ]
  },
  {
   "cell_type": "code",
   "execution_count": 549,
   "metadata": {},
   "outputs": [
    {
     "data": {
      "text/plain": [
       "<Axes: xlabel='max_infection_rate', ylabel='max_death_rate'>"
      ]
     },
     "execution_count": 549,
     "metadata": {},
     "output_type": "execute_result"
    },
    {
     "data": {
      "image/png": "[encoded data removed]",
      "text/plain": [
       "<Figure size 640x480 with 1 Axes>"
      ]
     },
     "metadata": {},
     "output_type": "display_data"
    }
   ],
   "source": [
    "x = combined_data['max_infection_rate']\n",
    "y = combined_data['max_death_rate']\n",
    "sns.regplot(x=np.log(x[mask]), y=np.log(y[mask]))"
   ]
  }
 ],
 "metadata": {
  "kernelspec": {
   "display_name": "Python 3",
   "language": "python",
   "name": "python3"
  },
  "language_info": {
   "codemirror_mode": {
    "name": "ipython",
    "version": 3
   },
   "file_extension": ".py",
   "mimetype": "text/x-python",
   "name": "python",
   "nbconvert_exporter": "python",
   "pygments_lexer": "ipython3",
   "version": "3.11.9"
  }
 },
 "nbformat": 4,
 "nbformat_minor": 2
}
